{
 "cells": [
  {
   "cell_type": "code",
   "execution_count": 1,
   "id": "e694ba43",
   "metadata": {},
   "outputs": [
    {
     "name": "stdout",
     "output_type": "stream",
     "text": [
      "1\n",
      "2\n",
      "3\n",
      "4\n",
      "5\n",
      "6\n",
      "7\n",
      "8\n",
      "9\n",
      "10\n"
     ]
    }
   ],
   "source": [
    "#1 Write a Python program to print numbers from 1 to 10 using a for loop.\n",
    "\n",
    "for i in range(1,11):\n",
    "    print(i)"
   ]
  },
  {
   "cell_type": "code",
   "execution_count": 2,
   "id": "16691d40",
   "metadata": {},
   "outputs": [],
   "source": [
    "#2 Explain the difference between a for loop and a while loop in Python.\n",
    "\n",
    "#for loop is used to iterate over a sequence of items, such as a Python tuple, list, string, or range. The loop will execute a block of statements for each item in the sequence.\n",
    "\n",
    "#while loop is used to repeatedly execute a block of statements while a condition is true. The loop will continue to run as long as the condition remains true."
   ]
  },
  {
   "cell_type": "code",
   "execution_count": 3,
   "id": "b50f575d",
   "metadata": {},
   "outputs": [
    {
     "name": "stdout",
     "output_type": "stream",
     "text": [
      "5050\n"
     ]
    }
   ],
   "source": [
    "#3 Write a Python program to calculate the sum of all numbers from 1 to 100 using a for loop.\n",
    "s=0\n",
    "for i in range(1,101):\n",
    "    s=s+i\n",
    "print(s)"
   ]
  },
  {
   "cell_type": "code",
   "execution_count": 6,
   "id": "14b7122e",
   "metadata": {},
   "outputs": [
    {
     "name": "stdout",
     "output_type": "stream",
     "text": [
      "1\n",
      "2\n",
      "3\n",
      "4\n",
      "5\n",
      "\n",
      " Second Method \n",
      "1\n",
      "2\n",
      "3\n",
      "4\n",
      "5\n"
     ]
    }
   ],
   "source": [
    "#4 How do you iterate through a list using a for loop in Python ?\n",
    "#two methods \n",
    "## Iterating the index\n",
    "l=[1,2,3,4,5]\n",
    "for i in range(len(l)):\n",
    "    print(l[i])\n",
    "\n",
    "#Second method\n",
    "print(\"\\n Second Method \")\n",
    "for i in l:\n",
    "    print(i)\n"
   ]
  },
  {
   "cell_type": "code",
   "execution_count": 8,
   "id": "e6200d69",
   "metadata": {},
   "outputs": [
    {
     "name": "stdout",
     "output_type": "stream",
     "text": [
      "\n",
      " Product  120\n"
     ]
    }
   ],
   "source": [
    "#5 Write a Python program to find the product of all elements in a list using a for loop.\n",
    "\n",
    "l=[1,2,3,4,5]\n",
    "s=1\n",
    "for i in l:\n",
    "    s=s*i\n",
    "print(\"\\n Product \",s)"
   ]
  },
  {
   "cell_type": "code",
   "execution_count": 10,
   "id": "a742172d",
   "metadata": {},
   "outputs": [
    {
     "name": "stdout",
     "output_type": "stream",
     "text": [
      "2\n",
      "4\n",
      "6\n",
      "8\n",
      "10\n"
     ]
    }
   ],
   "source": [
    "#6 Create a Python program that prints all even numbers from 1 to 20 using a for loop.\n",
    "\n",
    "l=[1,2,3,4,5,6,7,8,9,10]\n",
    "\n",
    "for i in l:\n",
    "    if i%2==0:\n",
    "        print(i)\n",
    "        "
   ]
  },
  {
   "cell_type": "code",
   "execution_count": 12,
   "id": "b1ed825a",
   "metadata": {},
   "outputs": [
    {
     "name": "stdout",
     "output_type": "stream",
     "text": [
      "\n",
      " Enter the Number 10\n",
      "\n",
      " Factorial  3628800\n"
     ]
    }
   ],
   "source": [
    "#7 Write a Python program that calculates the factorial of a number using a for loop.\n",
    "\n",
    "n=int(input(\"\\n Enter the Number \"))\n",
    "s=1\n",
    "for i in range(1,n+1):\n",
    "    s*=i\n",
    "print(\"\\n Factorial \",s)"
   ]
  },
  {
   "cell_type": "code",
   "execution_count": 14,
   "id": "d95375bf",
   "metadata": {},
   "outputs": [
    {
     "name": "stdout",
     "output_type": "stream",
     "text": [
      "\n",
      " i :  S\n",
      "\n",
      " i :  a\n",
      "\n",
      " i :  g\n",
      "\n",
      " i :  a\n",
      "\n",
      " i :  r\n"
     ]
    }
   ],
   "source": [
    "#8 How can you iterate through the characters of a string using a for loop in Python?\n",
    "\n",
    "l=\"Sagar\"\n",
    "for i in l:\n",
    "    print(\"\\n i : \",i)"
   ]
  },
  {
   "cell_type": "code",
   "execution_count": 16,
   "id": "117d2efc",
   "metadata": {},
   "outputs": [
    {
     "name": "stdout",
     "output_type": "stream",
     "text": [
      "\n",
      " Largest number  87\n"
     ]
    }
   ],
   "source": [
    "#9 Write a Python program to find the largest number in a list using a for loop.\n",
    "\n",
    "l=[3,7,8,1,0,5,2,10,87,9]\n",
    "s=0\n",
    "for i in l:\n",
    "    if s<i:\n",
    "        s=i\n",
    "print(\"\\n Largest number \",s)"
   ]
  },
  {
   "cell_type": "code",
   "execution_count": 24,
   "id": "1ade1480",
   "metadata": {},
   "outputs": [
    {
     "name": "stdout",
     "output_type": "stream",
     "text": [
      "\n",
      " Enter the Number 10\n",
      "a  0\n",
      "b  1\n",
      "c 1\n",
      "c 2\n",
      "c 3\n",
      "c 5\n",
      "c 8\n",
      "c 13\n",
      "c 21\n",
      "c 34\n",
      "c 55\n",
      "c 89\n"
     ]
    }
   ],
   "source": [
    "#10 Create a Python program that prints the Fibonacci sequence up to a specified limit using a for loop.\n",
    "\n",
    "n=int(input(\"\\n Enter the Number \"))\n",
    "a=0\n",
    "b=1\n",
    "print(\"a \",a)\n",
    "print(\"b \",b)\n",
    "\n",
    "for i in range(1,n+1):\n",
    "    c=a+b   \n",
    "    a=b\n",
    "    b=c\n",
    "    print(\"c\",c)\n"
   ]
  },
  {
   "cell_type": "code",
   "execution_count": 26,
   "id": "df964800",
   "metadata": {},
   "outputs": [
    {
     "name": "stdout",
     "output_type": "stream",
     "text": [
      "\n",
      " Vowel Count  8\n"
     ]
    }
   ],
   "source": [
    "#11 Write a Python program to count the number of vowels in a given string using a for loop.\n",
    "\n",
    "l=['a','e','i','o','u','A','E','I','O','U']\n",
    "s=\"brown fox jumps over the lazy dog\"\n",
    "c=0\n",
    "for i in s:\n",
    "    if i in l:\n",
    "        c+=1\n",
    "print(\"\\n Vowel Count \",c)"
   ]
  },
  {
   "cell_type": "code",
   "execution_count": 29,
   "id": "56240328",
   "metadata": {},
   "outputs": [
    {
     "name": "stdout",
     "output_type": "stream",
     "text": [
      "\n",
      " Enter the Number 18\n",
      "18 * 1 = 18\n",
      "18 * 2 = 36\n",
      "18 * 3 = 54\n",
      "18 * 4 = 72\n",
      "18 * 5 = 90\n",
      "18 * 6 = 108\n",
      "18 * 7 = 126\n",
      "18 * 8 = 144\n",
      "18 * 9 = 162\n",
      "18 * 10 = 180\n"
     ]
    }
   ],
   "source": [
    "#12 Create a Python program that generates a multiplication table for a given number using a for loop.\n",
    "\n",
    "n=int(input(\"\\n Enter the Number \"))\n",
    "for i in range(1,11):\n",
    "    print(f\"{n} * {i} = {n*i}\")"
   ]
  },
  {
   "cell_type": "code",
   "execution_count": 45,
   "id": "7184fadb",
   "metadata": {},
   "outputs": [
    {
     "name": "stdout",
     "output_type": "stream",
     "text": [
      "8\n",
      "7\n",
      "6\n",
      "5\n",
      "4\n",
      "3\n",
      "2\n",
      "1\n"
     ]
    }
   ],
   "source": [
    "#13 Write a Python program to reverse a list using a for loop.\n",
    "\n",
    "l=[1,2,3,4,5,6,7,8]\n",
    "i=len(l)-1\n",
    "while(i>=0):\n",
    "    #print(i)\n",
    "    print(l[i])\n",
    "    i=i-1"
   ]
  },
  {
   "cell_type": "code",
   "execution_count": 49,
   "id": "4a1778a3",
   "metadata": {},
   "outputs": [
    {
     "name": "stdout",
     "output_type": "stream",
     "text": [
      "[2, 4, 5, 6, 8]\n"
     ]
    }
   ],
   "source": [
    "#14 Write a Python program to find the common elements between two lists using a for loop.\n",
    "\n",
    "l1=[1,2,3,4,5,6,7,8,5]\n",
    "l2=[2,4,6,8,9,5,]\n",
    "l3=[]\n",
    "for i in l:\n",
    "    for j in l2:\n",
    "        if i==j:\n",
    "            l3.append(i)\n",
    "print(l3)"
   ]
  },
  {
   "cell_type": "code",
   "execution_count": 54,
   "id": "aba45d28",
   "metadata": {},
   "outputs": [
    {
     "name": "stdout",
     "output_type": "stream",
     "text": [
      "key Value brand Ford\n",
      "key Value model Mustang\n",
      "key Value year 1964\n"
     ]
    }
   ],
   "source": [
    "#15 Explain how to use a for loop to iterate through the keys and values of a dictionary in Python.\n",
    "\n",
    "l = {\n",
    "  \"brand\": \"Ford\",\n",
    "  \"model\": \"Mustang\",\n",
    "  \"year\": 1964\n",
    "}\n",
    "\n",
    "for key,value in l.items():\n",
    "    print(\"key Value\",key,value)"
   ]
  },
  {
   "cell_type": "code",
   "execution_count": 60,
   "id": "c1f45f7e",
   "metadata": {},
   "outputs": [
    {
     "name": "stdout",
     "output_type": "stream",
     "text": [
      "\n",
      " Enter First Number 12\n",
      "\n",
      " Enter Second Number 14\n",
      "\n",
      " HCF is  2\n"
     ]
    }
   ],
   "source": [
    "#16 Write a Python program to find the GCD (Greatest Common Divisor) of two numbers using a for loop.\n",
    "\n",
    "x=int(input('\\n Enter First Number '))\n",
    "y=int(input(\"\\n Enter Second Number \"))\n",
    "if x>y:\n",
    "    s=y\n",
    "else:\n",
    "    s=x\n",
    "h=0\n",
    "for i in range(1,s+1):\n",
    "    if x%i==0 and y%i==0:\n",
    "        h=i\n",
    "print(\"\\n HCF is \",h)"
   ]
  },
  {
   "cell_type": "code",
   "execution_count": 68,
   "id": "2d9dbcd4",
   "metadata": {},
   "outputs": [
    {
     "name": "stdout",
     "output_type": "stream",
     "text": [
      "\n",
      " Enter the String nanan\n",
      "palindrome\n"
     ]
    }
   ],
   "source": [
    "#17 Create a Python program that checks if a string is a palindrome using a for loop.\n",
    "\n",
    "n=input(\"\\n Enter the String \")\n",
    "\n",
    "j=len(n)-1\n",
    "i=0\n",
    "\n",
    "while i!=j:\n",
    "    if n[i]!=n[j]:\n",
    "        c=0\n",
    "        break\n",
    "    i+=1\n",
    "    j-=1\n",
    "    c=1\n",
    "if c==1:\n",
    "    print ('palindrome')\n",
    "else:\n",
    "    print(\"\\n Not Palindrome \")"
   ]
  },
  {
   "cell_type": "code",
   "execution_count": 71,
   "id": "5c9e1afc",
   "metadata": {},
   "outputs": [
    {
     "name": "stdout",
     "output_type": "stream",
     "text": [
      "[1, 2, 3, 41, 5]\n"
     ]
    }
   ],
   "source": [
    "#18 Write a Python program to remove duplicates from a list using a for loop.\n",
    "\n",
    "l=[1,2,3,41,1,2,5,3,2,1,5]\n",
    "l2=[]\n",
    "for i in l:\n",
    "    if i not in l2:\n",
    "        l2.append(i)\n",
    "print(l2)\n",
    "   \n",
    "            \n",
    "    \n"
   ]
  },
  {
   "cell_type": "code",
   "execution_count": 78,
   "id": "48f49b4d",
   "metadata": {},
   "outputs": [
    {
     "name": "stdout",
     "output_type": "stream",
     "text": [
      "Sagarisagoodboy\n",
      "\n",
      " Length  15\n"
     ]
    }
   ],
   "source": [
    "#19 Create a Python program that counts the number of words in a sentence using a for loop.\n",
    "\n",
    "n=\"Sagar is a good boy\"\n",
    "a=''.join(n.split())\n",
    "c=0\n",
    "print(a)\n",
    "for i in a:\n",
    "    c=c+1\n",
    "print(\"\\n Length \",c)"
   ]
  },
  {
   "cell_type": "code",
   "execution_count": 79,
   "id": "bea73fc2",
   "metadata": {},
   "outputs": [
    {
     "name": "stdout",
     "output_type": "stream",
     "text": [
      "\n",
      " Sum of odd number  625\n"
     ]
    }
   ],
   "source": [
    "#20 Write a Python program to find the sum of all odd numbers from 1 to 50 using a for loop.\n",
    "s=0\n",
    "for i in range(1,51):\n",
    "    if i%2!=0:\n",
    "        s=s+i\n",
    "print(\"\\n Sum of odd number \",s)"
   ]
  },
  {
   "cell_type": "code",
   "execution_count": 80,
   "id": "c6156e37",
   "metadata": {},
   "outputs": [
    {
     "name": "stdout",
     "output_type": "stream",
     "text": [
      "\n",
      " Enter the Year 2012\n",
      "\n",
      " Leap Year \n"
     ]
    }
   ],
   "source": [
    "#21 Write a Python program that checks if a given year is a leap year using a for loop.\n",
    "\n",
    "n=int(input(\"\\n Enter the Year \"))\n",
    "if n%4==0 or (n%400==0 and n%100!=0):\n",
    "    print(\"\\n Leap Year \")\n",
    "else:\n",
    "    print(\"\\n Not Leap Year\")"
   ]
  },
  {
   "cell_type": "code",
   "execution_count": 81,
   "id": "6dfece29",
   "metadata": {},
   "outputs": [
    {
     "name": "stdout",
     "output_type": "stream",
     "text": [
      "\n",
      " Enter the Number 20\n",
      "\n",
      " Square Root  4.47213595499958\n"
     ]
    }
   ],
   "source": [
    "#22 Create a Python program that calculates the square root of a number using a for loop.\n",
    "n=int(input(\"\\n Enter the Number \"))\n",
    "x=n**0.5\n",
    "print(\"\\n Square Root \",x)"
   ]
  },
  {
   "cell_type": "code",
   "execution_count": 82,
   "id": "c08f2311",
   "metadata": {},
   "outputs": [
    {
     "name": "stdout",
     "output_type": "stream",
     "text": [
      "\n",
      " Enter first number 12\n",
      "\n",
      " Enter Second number 14\n",
      "\n",
      " LCM  84\n"
     ]
    }
   ],
   "source": [
    "#23 Write a Python program to find the LCM (Least Common Multiple) of two numbers using a for loop.\n",
    "\n",
    "\n",
    "n=int(input(\"\\n Enter first number \"))\n",
    "n2=int(input('\\n Enter Second number '))\n",
    "m=max(n,n2)\n",
    "while True:\n",
    "    if m % n==0 and m %n2==0:\n",
    "        break\n",
    "    else:\n",
    "        m=m+1\n",
    "print(\"\\n LCM \",m)"
   ]
  },
  {
   "cell_type": "markdown",
   "id": "19feba07",
   "metadata": {},
   "source": [
    "#if else"
   ]
  },
  {
   "cell_type": "code",
   "execution_count": 85,
   "id": "4547880b",
   "metadata": {},
   "outputs": [
    {
     "name": "stdout",
     "output_type": "stream",
     "text": [
      "\n",
      " Enter the Number -1\n",
      "\n",
      " Smaller than Zero \n"
     ]
    }
   ],
   "source": [
    "#1 Write a Python program to check if a number is positive, negative, or zero using an if-else statement.\n",
    "\n",
    "n=int(input(\"\\n Enter the Number \"))\n",
    "if n==0:\n",
    "    print(\"\\n Equal to Zero \")\n",
    "elif n>0:\n",
    "    print(\"\\n Greater than Zero \")\n",
    "else:\n",
    "    print(\"\\n Smaller than Zero \")"
   ]
  },
  {
   "cell_type": "code",
   "execution_count": 86,
   "id": "df72441a",
   "metadata": {},
   "outputs": [
    {
     "name": "stdout",
     "output_type": "stream",
     "text": [
      "\n",
      " Enter the Number 2\n",
      "\n",
      " Even Number \n"
     ]
    }
   ],
   "source": [
    "#2 Create a Python program that checks if a given number is even or odd using an if-else statement.\n",
    "n=int(input(\"\\n Enter the Number \"))\n",
    "\n",
    "if n%2==0:\n",
    "    print(\"\\n Even Number \")\n",
    "else:\n",
    "    print(\"\\n Odd Number \")"
   ]
  },
  {
   "cell_type": "code",
   "execution_count": 87,
   "id": "c5f11976",
   "metadata": {},
   "outputs": [
    {
     "name": "stdout",
     "output_type": "stream",
     "text": [
      "\n",
      " Enter the Number 2\n",
      "2\n"
     ]
    }
   ],
   "source": [
    "#3 How can you use nested if-else statements in Python, and provide an example?\n",
    "\n",
    "x=int(input(\"\\n Enter the Number \"))\n",
    "if x==0:\n",
    "    print(0)\n",
    "elif x==1:\n",
    "    print(1)\n",
    "elif x==2:\n",
    "    print(2)"
   ]
  },
  {
   "cell_type": "code",
   "execution_count": 89,
   "id": "ba610e0b",
   "metadata": {},
   "outputs": [
    {
     "name": "stdout",
     "output_type": "stream",
     "text": [
      "\n",
      " Enter the Number 14\n",
      "\n",
      " Enter the Number 210\n",
      "\n",
      " Enter the Number 32\n",
      "\n",
      " B is greater \n"
     ]
    }
   ],
   "source": [
    "#4 Write a Python program to determine the largest of three numbers using if-else.\n",
    "\n",
    "a=int(input(\"\\n Enter the Number 1\"))\n",
    "b=int(input(\"\\n Enter the Number 2\"))\n",
    "c=int(input(\"\\n Enter the Number 3\"))\n",
    "\n",
    "if a >b and a>c:\n",
    "    print(\"\\n A is greater \")\n",
    "elif b>a and b>c:\n",
    "    print(\"\\n B is greater \")\n",
    "else:\n",
    "    print(\"\\n C is greater \")"
   ]
  },
  {
   "cell_type": "code",
   "execution_count": 91,
   "id": "c304e518",
   "metadata": {},
   "outputs": [
    {
     "name": "stdout",
     "output_type": "stream",
     "text": [
      "\n",
      " Enter the Number -2\n",
      "2\n"
     ]
    }
   ],
   "source": [
    "#5 Write a Python program that calculates the absolute value of a number using if-else.\n",
    "\n",
    "n=int(input(\"\\n Enter the Number \"))\n",
    "if n<0:\n",
    "    print(abs(n))\n",
    "elif n>0:\n",
    "    print(n)\n",
    "    \n"
   ]
  },
  {
   "cell_type": "code",
   "execution_count": 96,
   "id": "a336bab4",
   "metadata": {},
   "outputs": [
    {
     "name": "stdout",
     "output_type": "stream",
     "text": [
      "\n",
      " enter the string sagar\n",
      "\n",
      " Only Consonant \n"
     ]
    }
   ],
   "source": [
    "#6 Create a Python program that checks if a given character is a vowel or consonant using if-else.\n",
    "\n",
    "l=['a','e','i','o','u','A','E','I','O','U']\n",
    "\n",
    "n=input(\"\\n enter the string \")\n",
    "if n in l:\n",
    "        print(\"\\n Vowel present \")\n",
    "else:\n",
    "        print(\"\\n Only Consonant \")"
   ]
  },
  {
   "cell_type": "code",
   "execution_count": 98,
   "id": "64969ba7",
   "metadata": {},
   "outputs": [
    {
     "name": "stdout",
     "output_type": "stream",
     "text": [
      "\n",
      " Enter the Age 18\n",
      "\n",
      " OK to Vote \n"
     ]
    }
   ],
   "source": [
    "#7 Write a Python program to determine if a user is eligible to vote based on their age using if-else.\n",
    "\n",
    "n=int(input(\"\\n Enter the Age \"))\n",
    "if n>=18:\n",
    "    print(\"\\n OK to Vote \")\n",
    "else:\n",
    "    print(\"\\n Not ok to Vote \")"
   ]
  },
  {
   "cell_type": "code",
   "execution_count": 3,
   "id": "901b711d",
   "metadata": {},
   "outputs": [
    {
     "name": "stdout",
     "output_type": "stream",
     "text": [
      "\n",
      " Enter the Bill Amount 100\n",
      "\n",
      " Final Discount : 10.0\n",
      "\n",
      " Final Bill : 90.0\n"
     ]
    }
   ],
   "source": [
    "#8 Create a Python program that calculates the discount amount based on the purchase amount using if-else.\n",
    "'''If the purchase total is over $50, a 5% discount is applied\n",
    "If the purchase total is over $100, a 10% discount is applied\n",
    "If the purchase total is over $500,  a 15% discount is applied'''\n",
    "    \n",
    "n=int(input(\"\\n Enter the Bill Amount \"))\n",
    "if n >=500:\n",
    "    f=n*0.15\n",
    "elif n>=100 and n<500:\n",
    "    f=n*0.1\n",
    "elif n>=50 and n<100:\n",
    "    f=n*0.05\n",
    "print(\"\\n Final Discount :\",f)\n",
    "print(\"\\n Final Bill :\",n-f)\n",
    "    \n",
    "    "
   ]
  },
  {
   "cell_type": "code",
   "execution_count": 4,
   "id": "34a64b47",
   "metadata": {},
   "outputs": [
    {
     "name": "stdout",
     "output_type": "stream",
     "text": [
      "\n",
      " Enter the Number 10\n",
      "\n",
      " Within Limit \n"
     ]
    }
   ],
   "source": [
    "#9 Write a Python program to check if a number is within a specified range using if-else.\n",
    "l=10\n",
    "u=20\n",
    "\n",
    "n=int(input(\"\\n Enter the Number \"))\n",
    "if n>=10 and u<=20:\n",
    "    print(\"\\n Within Limit \")\n",
    "else:\n",
    "    print(\"\\n Out of Limit \")"
   ]
  },
  {
   "cell_type": "code",
   "execution_count": 6,
   "id": "f17cb373",
   "metadata": {},
   "outputs": [
    {
     "name": "stdout",
     "output_type": "stream",
     "text": [
      "\n",
      " Enter the Marks : 80\n",
      "\n",
      " C Grade \n"
     ]
    }
   ],
   "source": [
    "#10 Create a Python program that determines the grade of a student based on their score using if-else.\n",
    "\n",
    "n=int(input(\"\\n Enter the Marks : \"))\n",
    "if n>90:\n",
    "    print(\"\\n A Grade \")\n",
    "elif n<=90 and n>80:\n",
    "    print(\"\\n B Grade \")\n",
    "elif n<=80 and n>70:\n",
    "    print(\"\\n C Grade \")\n"
   ]
  },
  {
   "cell_type": "code",
   "execution_count": 7,
   "id": "8e23becc",
   "metadata": {},
   "outputs": [
    {
     "name": "stdout",
     "output_type": "stream",
     "text": [
      "\n",
      " Enter the String \n",
      "\n",
      " String is empty \n"
     ]
    }
   ],
   "source": [
    "#11 Write a Python program to check if a string is empty or not using if-else.\n",
    "\n",
    "s=input(\"\\n Enter the String \")\n",
    "if not s:\n",
    "    print(\"\\n String is empty \")\n",
    "else:\n",
    "    print('\\n String is not empty ')"
   ]
  },
  {
   "cell_type": "code",
   "execution_count": 8,
   "id": "e75cee1d",
   "metadata": {},
   "outputs": [
    {
     "name": "stdout",
     "output_type": "stream",
     "text": [
      "\n",
      " Enter the Side 11\n",
      "\n",
      " Enter the Side 2 2\n",
      "\n",
      " Enter the Side 3 3\n",
      "\n",
      " scalene \n"
     ]
    }
   ],
   "source": [
    "#12 Create a Python program that identifies the type of a triangle (e.g., equilateral, isosceles, or scalene) based on input values using if-else.\n",
    "\n",
    "a=int(input(\"\\n Enter the Side 1\"))\n",
    "b=int(input(\"\\n Enter the Side 2 \"))\n",
    "c=int(input(\"\\n Enter the Side 3 \"))\n",
    "\n",
    "if a==b:\n",
    "    print(\"\\n isosceles \")\n",
    "elif a==b and b==c:\n",
    "    print(\"\\n equilateral \")\n",
    "elif a!=b and b!=c:\n",
    "    print(\"\\n scalene \")"
   ]
  },
  {
   "cell_type": "code",
   "execution_count": 9,
   "id": "2fccfc52",
   "metadata": {},
   "outputs": [
    {
     "name": "stdout",
     "output_type": "stream",
     "text": [
      "\n",
      " Enter the Week Day Number 4\n",
      "\n",
      " Thrusday \n"
     ]
    }
   ],
   "source": [
    "#13 Write a Python program to determine the day of the week based on a user-provided number using if-else.\n",
    "n=int(input(\"\\n Enter the Week Day Number \"))\n",
    "if n==1:\n",
    "    print(\"\\n Monday \")\n",
    "elif n==2:\n",
    "    print(\"\\n Tuesday \")\n",
    "elif n==3:\n",
    "    print(\"\\n Wednesday \")\n",
    "elif n==4:\n",
    "    print(\"\\n Thursday \")\n",
    "elif n==5:\n",
    "    print(\"\\n Friday \")\n",
    "elif n==6:\n",
    "    print(\"\\n Saturday \")\n",
    "elif n==7:\n",
    "    print(\"\\n Sunday \")"
   ]
  },
  {
   "cell_type": "code",
   "execution_count": 11,
   "id": "7984941c",
   "metadata": {},
   "outputs": [
    {
     "name": "stdout",
     "output_type": "stream",
     "text": [
      "\n",
      " Enter the Year 2023\n",
      "\n",
      " Not a Leap year \n"
     ]
    }
   ],
   "source": [
    "#14 Create a Python program that checks if a given year is a leap year using both if-else and a function.\n",
    "\n",
    "y=int(input(\"\\n Enter the Year \"))\n",
    "if y %400==0 and y %100==0:\n",
    "    print(\"\\n Leap Year \")\n",
    "elif y%4 ==0 and y%100!=0:\n",
    "    print(\"\\nLeap year \")\n",
    "else:\n",
    "    print(\"\\n Not a Leap year \")"
   ]
  },
  {
   "cell_type": "code",
   "execution_count": 17,
   "id": "052e4efb",
   "metadata": {},
   "outputs": [
    {
     "name": "stdout",
     "output_type": "stream",
     "text": [
      "5.0\n"
     ]
    },
    {
     "ename": "AssertionError",
     "evalue": "sagar",
     "output_type": "error",
     "traceback": [
      "\u001b[1;31m---------------------------------------------------------------------------\u001b[0m",
      "\u001b[1;31mAssertionError\u001b[0m                            Traceback (most recent call last)",
      "Input \u001b[1;32mIn [17]\u001b[0m, in \u001b[0;36m<cell line: 9>\u001b[1;34m()\u001b[0m\n\u001b[0;32m      5\u001b[0m result \u001b[38;5;241m=\u001b[39m divide(\u001b[38;5;241m10\u001b[39m, \u001b[38;5;241m2\u001b[39m)\n\u001b[0;32m      7\u001b[0m \u001b[38;5;28mprint\u001b[39m(result) \u001b[38;5;66;03m# Output: 5\u001b[39;00m\n\u001b[1;32m----> 9\u001b[0m result \u001b[38;5;241m=\u001b[39m \u001b[43mdivide\u001b[49m\u001b[43m(\u001b[49m\u001b[38;5;241;43m10\u001b[39;49m\u001b[43m,\u001b[49m\u001b[43m \u001b[49m\u001b[38;5;241;43m0\u001b[39;49m\u001b[43m)\u001b[49m\n\u001b[0;32m     11\u001b[0m \u001b[38;5;28mprint\u001b[39m(result)\n",
      "Input \u001b[1;32mIn [17]\u001b[0m, in \u001b[0;36mdivide\u001b[1;34m(a, b)\u001b[0m\n\u001b[0;32m      1\u001b[0m \u001b[38;5;28;01mdef\u001b[39;00m \u001b[38;5;21mdivide\u001b[39m(a, b):\n\u001b[1;32m----> 2\u001b[0m     \u001b[38;5;28;01massert\u001b[39;00m b \u001b[38;5;241m!=\u001b[39m \u001b[38;5;241m0\u001b[39m,\u001b[38;5;124m\"\u001b[39m\u001b[38;5;124msagar\u001b[39m\u001b[38;5;124m\"\u001b[39m\n\u001b[0;32m      3\u001b[0m     \u001b[38;5;28;01mreturn\u001b[39;00m a \u001b[38;5;241m/\u001b[39m b\n",
      "\u001b[1;31mAssertionError\u001b[0m: sagar"
     ]
    }
   ],
   "source": [
    "#15 How do you use the \"assert\" statement in Python to add debugging checks within if-else blocks?\n",
    "def divide(a, b):\n",
    "    assert b != 0,\"sagar\"\n",
    "    return a / b\n",
    "\n",
    "result = divide(10, 2)\n",
    "\n",
    "print(result) # Output: 5\n",
    "\n",
    "result = divide(10, 0)\n",
    "\n",
    "print(result) "
   ]
  },
  {
   "cell_type": "code",
   "execution_count": 18,
   "id": "f43731cb",
   "metadata": {},
   "outputs": [
    {
     "name": "stdout",
     "output_type": "stream",
     "text": [
      "\n",
      " Enter the Age : 65\n",
      "\n",
      " Enter the Price : 100\n",
      "\n",
      " Senior Citizen \n",
      "\n",
      " Price After Discount :  96.75\n"
     ]
    }
   ],
   "source": [
    "#16 Create a Python program that determines the eligibility of a person for a senior citizen discount based on age using if-else.\n",
    "\n",
    "n=int(input(\"\\n Enter the Age : \"))\n",
    "s=int(input(\"\\n Enter the Price : \"))\n",
    "if n>60:\n",
    "    print(\"\\n Senior Citizen \")\n",
    "    f=n*0.05\n",
    "    print(\"\\n Price After Discount : \",s-f)\n",
    "    "
   ]
  },
  {
   "cell_type": "code",
   "execution_count": 21,
   "id": "ef5ba4ad",
   "metadata": {},
   "outputs": [
    {
     "name": "stdout",
     "output_type": "stream",
     "text": [
      "\n",
      " Enter the character : S\n",
      "is an UpperCase character\n"
     ]
    }
   ],
   "source": [
    "#17 Write a Python program to categorize a given character as uppercase, lowercase, or neither using if-else.\n",
    "\n",
    "ch=input(\"\\n Enter the character : \")\n",
    "if ch>='A' and ch<='Z':\n",
    "    print(\"is an UpperCase character\")\n",
    "elif (ch >= 'a' and ch <= 'z'):\n",
    "    print(\"\\n is lower character \")\n",
    "else:\n",
    "    print(\"\\n neither \")\n"
   ]
  },
  {
   "cell_type": "code",
   "execution_count": 23,
   "id": "5392b85c",
   "metadata": {},
   "outputs": [
    {
     "name": "stdout",
     "output_type": "stream",
     "text": [
      "\n",
      " Enter the Number 20\n",
      "\n",
      " Enter the Number 20\n",
      "\n",
      " Enter the Number 30\n",
      "\n",
      " Complex Roots \n",
      "-0.5 + i 1.118033988749895\n",
      "-0.5 - i 1.118033988749895\n"
     ]
    }
   ],
   "source": [
    "#18 Write a Python program to determine the roots of a quadratic equation using if-else.\n",
    "\n",
    "\n",
    "import math as m\n",
    "\n",
    "a=int(input(\"\\n Enter the Number \"))\n",
    "b=int(input(\"\\n Enter the Number \"))\n",
    "c=int(input(\"\\n Enter the Number \"))\n",
    "\n",
    "d=b*b-(4*a*c)\n",
    "sq=m.sqrt(abs(d))\n",
    "\n",
    "if d>0:\n",
    "    print(\"real and different roots\")\n",
    "    print((-b+sq)/2*a)\n",
    "    print((-b-sq)/2*a)\n",
    "elif d==0:\n",
    "    print(\"\\n Roots are real and same \")\n",
    "    print((-b)/2*a)\n",
    "elif d<0:\n",
    "    print(\"\\n Complex Roots \")\n",
    "    print(- b / (2 * a), \"+ i\", sq/ (2 * a)) \n",
    "    print(- b / (2 * a), \"- i\", sq/ (2 * a)) "
   ]
  },
  {
   "cell_type": "code",
   "execution_count": 25,
   "id": "30ef9264",
   "metadata": {},
   "outputs": [
    {
     "name": "stdout",
     "output_type": "stream",
     "text": [
      "\n",
      " Enter the Year 2023\n",
      "\n",
      " Not a Century Year \n"
     ]
    }
   ],
   "source": [
    "#19 Create a Python program that checks if a given year is a century year or not using if-else.\n",
    "\n",
    "y=int(input(\"\\n Enter the Year \"))\n",
    "if y%100==0:\n",
    "    print('\\n Century Year ')\n",
    "else:\n",
    "    print(\"\\n Not a Century Year \")"
   ]
  },
  {
   "cell_type": "code",
   "execution_count": 28,
   "id": "cb7bb27a",
   "metadata": {},
   "outputs": [
    {
     "name": "stdout",
     "output_type": "stream",
     "text": [
      "\n",
      " Enter the Number 25\n",
      "percent square : True\n"
     ]
    }
   ],
   "source": [
    "#20 Write a Python program to determine if a given number is a perfect square using if-else.\n",
    "import math as m\n",
    "n=int(input(\"\\n Enter the Number \"))\n",
    "a=m.sqrt(n)\n",
    "print(\"percent square :\" ,a.is_integer())"
   ]
  },
  {
   "cell_type": "code",
   "execution_count": 30,
   "id": "5e0ae2f0",
   "metadata": {},
   "outputs": [
    {
     "name": "stdout",
     "output_type": "stream",
     "text": [
      "\n",
      " Enter the Number 4\n",
      "0\n",
      "1\n",
      "2\n"
     ]
    }
   ],
   "source": [
    "#21 Explain the purpose of the \"continue\" and \"break\" statements within if-else loops.\n",
    "\n",
    "n=int(input(\"\\n Enter the Number \"))\n",
    "\n",
    "for i in range(n):\n",
    "    if i==3:\n",
    "        continue\n",
    "    elif i==5:\n",
    "        break\n",
    "    else:\n",
    "        print(i)"
   ]
  },
  {
   "cell_type": "code",
   "execution_count": 33,
   "id": "282cadd6",
   "metadata": {},
   "outputs": [
    {
     "name": "stdout",
     "output_type": "stream",
     "text": [
      "\n",
      " Enter the Height : 176.784\n",
      "\n",
      " Enter the Weight : 90\n",
      "\n",
      " BMI value is :  28.797620020923755\n",
      "\n",
      " Overweight \n"
     ]
    }
   ],
   "source": [
    "#22Create a Python program that calculates the BMI (Body Mass Index) of a person based on their weight and height using if-else.\n",
    "\n",
    "h=float(input(\"\\n Enter the Height : \"))\n",
    "w=int(input(\"\\n Enter the Weight : \"))\n",
    "h=h/100\n",
    "h2=h**2\n",
    "bmi=w/h2\n",
    "\n",
    "print(\"\\n BMI value is : \",bmi)\n",
    "\n",
    "if bmi<=18.5:\n",
    "    print(\"\\n Under Weight \")\n",
    "elif bmi<=24.9:\n",
    "    print(\"\\n Good health \")\n",
    "elif bmi<=29.9:\n",
    "    print(\"\\n Overweight \")\n",
    "else:\n",
    "    print(\"\\n Obesity \")"
   ]
  },
  {
   "cell_type": "code",
   "execution_count": 34,
   "id": "7eed70f2",
   "metadata": {},
   "outputs": [
    {
     "name": "stdout",
     "output_type": "stream",
     "text": [
      "[1, 3, 5, 13]\n"
     ]
    }
   ],
   "source": [
    "#23 How can you use the \"filter()\" function with if-else statements to filter elements from a list?\n",
    "\n",
    "\n",
    "\n",
    "# a list contains both even and odd numbers. \n",
    "seq = [0, 1, 2, 3, 5, 8, 13]\n",
    " \n",
    "# result contains odd numbers of the list\n",
    "result = filter(lambda x: x % 2 != 0, seq)\n",
    "print(list(result))"
   ]
  },
  {
   "cell_type": "code",
   "execution_count": 43,
   "id": "cca38163",
   "metadata": {},
   "outputs": [
    {
     "name": "stdout",
     "output_type": "stream",
     "text": [
      "\n",
      " Enter the Number 13\n",
      "\n",
      " prime \n"
     ]
    }
   ],
   "source": [
    "#24 Write a Python program to determine if a given number is prime or not using if-else.\n",
    "\n",
    "n=int(input(\"\\n Enter the Number \"))\n",
    "n2=int(n/2)\n",
    "for i in range(2,n2+1):\n",
    "    if n%i==0:\n",
    "        print(\"\\n Not prime\")\n",
    "        break\n",
    "else:\n",
    "    print(\"\\n prime \")\n",
    "    \n",
    "\n",
    "    "
   ]
  },
  {
   "cell_type": "code",
   "execution_count": 44,
   "id": "c20a84b8",
   "metadata": {},
   "outputs": [
    {
     "name": "stdout",
     "output_type": "stream",
     "text": [
      "[1, 4, 3, 16, 5, 36]\n"
     ]
    }
   ],
   "source": [
    "##MAP\n",
    "#1. Explain the purpose of the `map()` function in Python and provide an example of how it can be used to apply a function to each element of an iterable.\n",
    "def check(n):\n",
    "    if n%2==0:\n",
    "        return n**2\n",
    "    else:\n",
    "        return n\n",
    "l=[1,2,3,4,5,6]\n",
    "print(list(map(check,l)))"
   ]
  },
  {
   "cell_type": "code",
   "execution_count": 55,
   "id": "0b305228",
   "metadata": {},
   "outputs": [
    {
     "name": "stdout",
     "output_type": "stream",
     "text": [
      "[1, 4, 9, 16]\n"
     ]
    }
   ],
   "source": [
    "#2 Write a Python program that uses the `map()` function to square each element of a list of numbers.\n",
    "\n",
    "def square(i):\n",
    "    return i*i\n",
    "\n",
    "l=[1,2,3,4]\n",
    "print(list(map(square,l)))"
   ]
  },
  {
   "cell_type": "code",
   "execution_count": 56,
   "id": "511538fa",
   "metadata": {},
   "outputs": [
    {
     "data": {
      "text/plain": [
       "'Map VS List Comprehension\\nList comprehension is more concise and easier to read as compared to map.\\nList comprehension allows filtering. In map, we have no such facility. For example, to print all even numbers in range of 100, we can write [n for n in range(100) if n%2 == 0]. There is no alternate for it in map\\nList comprehension are used when a list of results is required as map only returns a map object and does not return any list.\\nList comprehension is faster than map when we need to evaluate expressions that are too long or complicated to express\\nMap is faster in case of calling an already defined function (as no lambda is required).'"
      ]
     },
     "execution_count": 56,
     "metadata": {},
     "output_type": "execute_result"
    }
   ],
   "source": [
    "#3 How does the `map()` function differ from a list comprehension in Python, and when would you choose one over the other?\n",
    "'''Map VS List Comprehension\n",
    "List comprehension is more concise and easier to read as compared to map.\n",
    "List comprehension allows filtering. In map, we have no such facility. For example, to print all even numbers in range of 100, we can write [n for n in range(100) if n%2 == 0]. There is no alternate for it in map\n",
    "List comprehension are used when a list of results is required as map only returns a map object and does not return any list.\n",
    "List comprehension is faster than map when we need to evaluate expressions that are too long or complicated to express\n",
    "Map is faster in case of calling an already defined function (as no lambda is required).'''"
   ]
  },
  {
   "cell_type": "code",
   "execution_count": 58,
   "id": "82a9b599",
   "metadata": {},
   "outputs": [
    {
     "name": "stdout",
     "output_type": "stream",
     "text": [
      "['SAGAR', 'MUKUL', 'SHIVANI', 'VAIBHAV']\n"
     ]
    }
   ],
   "source": [
    "#4 Create a Python program that uses the `map()` function to convert a list of names to uppercase.\n",
    "def convert(i):\n",
    "    return i.upper()\n",
    "\n",
    "l=['sagar','mukul','shivani','vaibhav']\n",
    "print(list(map(convert,l)))"
   ]
  },
  {
   "cell_type": "code",
   "execution_count": 59,
   "id": "78284fc6",
   "metadata": {},
   "outputs": [
    {
     "name": "stdout",
     "output_type": "stream",
     "text": [
      "[5, 5, 7, 7]\n"
     ]
    }
   ],
   "source": [
    "#5 Write a Python program that uses the `map()` function to calculate the length of each word in a list of strings.\n",
    "\n",
    "def convert(i):\n",
    "    return len(i)\n",
    "\n",
    "l=['sagar','mukul','shivani','vaibhav']\n",
    "print(list(map(convert,l)))"
   ]
  },
  {
   "cell_type": "code",
   "execution_count": 68,
   "id": "cd8b7b39",
   "metadata": {},
   "outputs": [
    {
     "name": "stdout",
     "output_type": "stream",
     "text": [
      "[1, 64, 2187, 65536]\n"
     ]
    }
   ],
   "source": [
    "#6 How can you use the `map()` function to apply a custom function to elements of multiple lists simultaneously in Python?\n",
    "\n",
    "l=[1,2,3,4]\n",
    "l2=[5,6,7,8]\n",
    "print(list(map(pow,l,l2)))"
   ]
  },
  {
   "cell_type": "code",
   "execution_count": 69,
   "id": "5b1258a2",
   "metadata": {},
   "outputs": [
    {
     "name": "stdout",
     "output_type": "stream",
     "text": [
      "[53.6, 55.4, 57.2, 59.0]\n"
     ]
    }
   ],
   "source": [
    "#7 Create a Python program that uses `map()` to convert a list of temperatures from Celsius to Fahrenheit.\n",
    "def con(i):\n",
    "    f=(i*9/5)+32\n",
    "    return f\n",
    "\n",
    "l=[12,13,14,15]\n",
    "print(list(map(con,l)))"
   ]
  },
  {
   "cell_type": "code",
   "execution_count": 73,
   "id": "081d0768",
   "metadata": {},
   "outputs": [
    {
     "data": {
      "text/plain": [
       "[1, 3, 6, 5, 3, 1, 1, 4, 6]"
      ]
     },
     "execution_count": 73,
     "metadata": {},
     "output_type": "execute_result"
    }
   ],
   "source": [
    "#8 Write a Python program that uses the `map()` function to round each element of a list of floating-point numbers to the nearest integer.\n",
    "l=[1.2,3.4,5.5,5.3,3.2,1.0,1,4,5.6]\n",
    "l2=[]\n",
    "list(map(round,l))\n"
   ]
  },
  {
   "cell_type": "code",
   "execution_count": 75,
   "id": "af3a03a3",
   "metadata": {},
   "outputs": [
    {
     "data": {
      "text/plain": [
       "65"
      ]
     },
     "execution_count": 75,
     "metadata": {},
     "output_type": "execute_result"
    }
   ],
   "source": [
    "#Reduce :\n",
    "#1 What is the `reduce()` function in Python, and what module should you import to use it? Provide an example of its basic usage.\n",
    "from functools import reduce \n",
    "\n",
    "def add(a,b):\n",
    "    return a+b\n",
    "l= [1, 2, 3, 4, 5, 6, 7, 8, 9, 10]\n",
    "reduce(add,l,10)"
   ]
  },
  {
   "cell_type": "code",
   "execution_count": 14,
   "id": "7b3a9d27",
   "metadata": {},
   "outputs": [
    {
     "data": {
      "text/plain": [
       "3628800"
      ]
     },
     "execution_count": 14,
     "metadata": {},
     "output_type": "execute_result"
    }
   ],
   "source": [
    "#2Write a Python program that uses the `reduce()` function to find the product of all elements in a list.\n",
    "from functools import reduce \n",
    "\n",
    "def add(a,b):\n",
    "    return a*b\n",
    "l= [1, 2, 3, 4, 5, 6, 7, 8, 9, 10]\n",
    "reduce(add,l)"
   ]
  },
  {
   "cell_type": "code",
   "execution_count": 1,
   "id": "47eb82d8",
   "metadata": {},
   "outputs": [
    {
     "data": {
      "text/plain": [
       "70"
      ]
     },
     "execution_count": 1,
     "metadata": {},
     "output_type": "execute_result"
    }
   ],
   "source": [
    "#3 Create a Python program that uses `reduce()` to find the maximum element in a list of numbers.\n",
    "\n",
    "from functools import reduce \n",
    "\n",
    "def add(a,b):\n",
    "    if a>b:\n",
    "        return a\n",
    "    else:\n",
    "        return b\n",
    "l= [1, 2, 3, 4, 5, 6, 70, 8, 9, 10]\n",
    "reduce(add,l)"
   ]
  },
  {
   "cell_type": "code",
   "execution_count": 7,
   "id": "f1ef65ff",
   "metadata": {},
   "outputs": [
    {
     "data": {
      "text/plain": [
       "'sagar agrawal mukul somya'"
      ]
     },
     "execution_count": 7,
     "metadata": {},
     "output_type": "execute_result"
    }
   ],
   "source": [
    "#4 How can you use the `reduce()` function to concatenate a list of strings into a single string?\n",
    "l=['sagar','agrawal','mukul','somya']\n",
    "reduce((lambda x,y:x+\" \"+y),l)"
   ]
  },
  {
   "cell_type": "code",
   "execution_count": 11,
   "id": "b0669698",
   "metadata": {},
   "outputs": [
    {
     "data": {
      "text/plain": [
       "120"
      ]
     },
     "execution_count": 11,
     "metadata": {},
     "output_type": "execute_result"
    }
   ],
   "source": [
    "#5 Write a Python program that calculates the factorial of a number using the `reduce()` function.\n",
    "n=5\n",
    "reduce((lambda x,y:x*y),range(1,n+1))"
   ]
  },
  {
   "cell_type": "code",
   "execution_count": 19,
   "id": "42073696",
   "metadata": {},
   "outputs": [
    {
     "name": "stdout",
     "output_type": "stream",
     "text": [
      "1\n"
     ]
    }
   ],
   "source": [
    "#6 Create a Python program that uses `reduce()` to find the GCD (Greatest Common Divisor) of a list of numbers.\n",
    "import numpy as np\n",
    "\n",
    "A = [12, 24, 27, 302, 36]\n",
    "\n",
    "print(np.gcd.reduce(A))"
   ]
  },
  {
   "cell_type": "code",
   "execution_count": 24,
   "id": "b1182c6b",
   "metadata": {},
   "outputs": [
    {
     "name": "stdout",
     "output_type": "stream",
     "text": [
      "\n",
      " Enter the Number : 12\n"
     ]
    },
    {
     "data": {
      "text/plain": [
       "3"
      ]
     },
     "execution_count": 24,
     "metadata": {},
     "output_type": "execute_result"
    }
   ],
   "source": [
    "#7 Write a Python program that uses the `reduce()` function to find the sum of the digits of a given number.\n",
    "n=input(\"\\n Enter the Number : \")\n",
    "def c(n):\n",
    "    a=str(n)\n",
    "    return reduce((lambda x,y:int(x)+int(y)),a)\n",
    "    \n",
    "c(n)"
   ]
  },
  {
   "cell_type": "code",
   "execution_count": 27,
   "id": "b19e0b91",
   "metadata": {},
   "outputs": [
    {
     "data": {
      "text/plain": [
       "['a', 'e', 'i']"
      ]
     },
     "execution_count": 27,
     "metadata": {},
     "output_type": "execute_result"
    }
   ],
   "source": [
    "#Filter :-\n",
    "\n",
    "#1 Explain the purpose of the `filter()` function in Python and provide an example of how it can be used to filter elements from an iterable.\n",
    "\n",
    "\n",
    "'''Ans-\n",
    "The filter() method filters the given sequence with the help of a function that tests each element in the sequence to be true or not. \n",
    "\n",
    "Python filter() Syntax\n",
    "The filter() method in Python has the following syntax:\n",
    "\n",
    "Syntax: filter(function, sequence)'''\n",
    "\n",
    "\n",
    "def check(s):\n",
    "    l=['a','e','i','o','u']\n",
    "    if s in l:\n",
    "        return True\n",
    "    else:\n",
    "        return False\n",
    "list(filter(check,['a','b','c','d','e','f','i']))"
   ]
  },
  {
   "cell_type": "code",
   "execution_count": 28,
   "id": "36878831",
   "metadata": {},
   "outputs": [
    {
     "data": {
      "text/plain": [
       "[2, 4, 6, 8]"
      ]
     },
     "execution_count": 28,
     "metadata": {},
     "output_type": "execute_result"
    }
   ],
   "source": [
    "#2 Write a Python program that uses the `filter()` function to select even numbers from a list of integers.\n",
    "\n",
    "def even(i):\n",
    "    if i %2==0:\n",
    "        return True\n",
    "    else:\n",
    "        return False\n",
    "list(filter(even,[1,2,3,4,5,6,7,8,9]))"
   ]
  },
  {
   "cell_type": "code",
   "execution_count": 29,
   "id": "504720ed",
   "metadata": {},
   "outputs": [
    {
     "data": {
      "text/plain": [
       "['sapple', 'smango']"
      ]
     },
     "execution_count": 29,
     "metadata": {},
     "output_type": "execute_result"
    }
   ],
   "source": [
    "#3 Create a Python program that uses the `filter()` function to select names that start with a specific letter from a list of strings.\n",
    "\n",
    "def name(i):\n",
    "    if i.startswith('s'):\n",
    "        return True\n",
    "    else:\n",
    "        return False\n",
    "list(filter(name,['sapple', 'orange', 'smango', 'grape']))"
   ]
  },
  {
   "cell_type": "code",
   "execution_count": 30,
   "id": "a1f573c1",
   "metadata": {},
   "outputs": [
    {
     "data": {
      "text/plain": [
       "[3, 5, 7, 9, 11, 13, 15, 17]"
      ]
     },
     "execution_count": 30,
     "metadata": {},
     "output_type": "execute_result"
    }
   ],
   "source": [
    "#4 Write a Python program that uses the `filter()` function to select prime numbers from a list of integers.\n",
    "def prime(i):\n",
    "    for j in range(2,i+1):\n",
    "        if i%j==0:\n",
    "            return False\n",
    "        else:\n",
    "            return True\n",
    "list(filter(prime,[1,2,3,4,5,6,7,8,9,10,11,12,13,14,15,16,17]))"
   ]
  },
  {
   "cell_type": "code",
   "execution_count": 7,
   "id": "0ccf6cd5",
   "metadata": {},
   "outputs": [
    {
     "name": "stdout",
     "output_type": "stream",
     "text": [
      "['Jan', 'Feb', 'Mar', 'Apr']\n"
     ]
    }
   ],
   "source": [
    "#5 How can you use the `filter()` function to remove None values from a list in Python?\n",
    "\n",
    "\n",
    "mylist = ['Jan',None,'Feb','Mar',None,'Apr']\n",
    "\n",
    "newlist = list(filter(lambda x: x is not None, mylist))\n",
    "\n",
    "print(newlist)\n",
    "                                  \n"
   ]
  },
  {
   "cell_type": "code",
   "execution_count": 9,
   "id": "335ed25f",
   "metadata": {},
   "outputs": [
    {
     "data": {
      "text/plain": [
       "['ram', 'ron']"
      ]
     },
     "execution_count": 9,
     "metadata": {},
     "output_type": "execute_result"
    }
   ],
   "source": [
    "#6 Create a Python program that uses `filter()` to select words longer than a certain length from a list of strings.\n",
    "\n",
    "l=5\n",
    "\n",
    "def l(i):\n",
    "    if len(i)>=5:\n",
    "        return False\n",
    "    else:\n",
    "        return True\n",
    "l2=[\"sagar\",'ram','ron','wadse',]\n",
    "list(filter(l,l2))"
   ]
  },
  {
   "cell_type": "code",
   "execution_count": 10,
   "id": "ec1128a4",
   "metadata": {},
   "outputs": [
    {
     "data": {
      "text/plain": [
       "['ram', 'ron']"
      ]
     },
     "execution_count": 10,
     "metadata": {},
     "output_type": "execute_result"
    }
   ],
   "source": [
    "#7 Write a Python program that uses the `filter()` function to select elements greater than a specified threshold from a list of values.\n",
    "\n",
    "l=5\n",
    "\n",
    "def l(i):\n",
    "    if len(i)>=5:\n",
    "        return False\n",
    "    else:\n",
    "        return True\n",
    "l2=[\"sagar\",'ram','ron','wadse',]\n",
    "list(filter(l,l2))"
   ]
  },
  {
   "cell_type": "code",
   "execution_count": 15,
   "id": "d3aa25e5",
   "metadata": {},
   "outputs": [
    {
     "name": "stdout",
     "output_type": "stream",
     "text": [
      "\n",
      " Recursion : 120\n",
      "\n",
      " Iteration : 120\n"
     ]
    }
   ],
   "source": [
    "#Recursion \n",
    "\n",
    "#1 Explain the concept of recursion in Python. How does it differ from iteration?\n",
    "#A program is called recursive when an entity calls itself. A program is called iterative when there is a loop (or repetition).\n",
    "def rec(n):\n",
    "    if n ==0:\n",
    "        return 1\n",
    "    else:\n",
    "        return n*rec(n-1)\n",
    "\n",
    "def it(n):\n",
    "    a=1\n",
    "    for i in range(2,n+1):\n",
    "        a=a*i\n",
    "    return a\n",
    "\n",
    "print(\"\\n Recursion :\",rec(5))\n",
    "print(\"\\n Iteration :\",it(5))\n",
    "    "
   ]
  },
  {
   "cell_type": "code",
   "execution_count": 16,
   "id": "c6fd3644",
   "metadata": {},
   "outputs": [
    {
     "name": "stdout",
     "output_type": "stream",
     "text": [
      "\n",
      " Recursion : 120\n"
     ]
    }
   ],
   "source": [
    "#2 Write a Python program to calculate the factorial of a number using recursion.\n",
    "def rec(n):\n",
    "    if n ==0:\n",
    "        return 1\n",
    "    else:\n",
    "        return n*rec(n-1)\n",
    "print(\"\\n Recursion :\",rec(5))"
   ]
  },
  {
   "cell_type": "code",
   "execution_count": 5,
   "id": "de0c8f1d",
   "metadata": {},
   "outputs": [
    {
     "name": "stdout",
     "output_type": "stream",
     "text": [
      "1\n"
     ]
    }
   ],
   "source": [
    "#3 Create a recursive Python function to find the nth Fibonacci number.\n",
    "\n",
    "def f(n):\n",
    "    if n==0:\n",
    "        return \"Incorrect Inputs \"\n",
    "    elif n==1:\n",
    "        return 0\n",
    "    elif n==2:\n",
    "        return 1\n",
    "    else:\n",
    "        return f(n-1)+f(n-2) \n",
    "print(f(2))"
   ]
  },
  {
   "cell_type": "code",
   "execution_count": 9,
   "id": "62408c67",
   "metadata": {},
   "outputs": [
    {
     "data": {
      "text/plain": [
       "15"
      ]
     },
     "execution_count": 9,
     "metadata": {},
     "output_type": "execute_result"
    }
   ],
   "source": [
    "#4 Write a recursive Python function to calculate the sum of all elements in a list.\n",
    "\n",
    "def sum(list1):\n",
    "    if len(list1)==1:\n",
    "        return list1[0]\n",
    "    else:\n",
    "        return list1[0]+sum(list1[1:])\n",
    "list1 = [1, 2, 3, 4, 5]\n",
    "sum(list1)\n"
   ]
  },
  {
   "cell_type": "code",
   "execution_count": 10,
   "id": "ce711e0e",
   "metadata": {},
   "outputs": [
    {
     "data": {
      "text/plain": [
       "\"To avoid stack overflow in recursion in Python, you can use a few techniques:\\n\\nUse a base case: Make sure that you have a base case that will eventually stop the recursion. This will ensure that the recursion doesn't continue indefinitely.\\ntrampolinesTail recursion: In some cases, you can use tail recursion to optimize your code and avoid stack overflow. Tail recursion is a recursive function where the last operation is the recursive call. Python doesn't support tail recursion optimization by default, but you can use libraries like\\nsys.setrecursionlimit()Increase the recursion limit: Python has a default recursion limit of 1000. You can increase this limit using the\\nUse an iterative solution: In some cases, it may be more appropriate to use an iterative solution rather than a recursive one. This can help avoid stack overflow issues altogether.\\n\""
      ]
     },
     "execution_count": 10,
     "metadata": {},
     "output_type": "execute_result"
    }
   ],
   "source": [
    "#5 How can you prevent a recursive function from running indefinitely, causing a stack overflow error?\n",
    "\n",
    "'''To avoid stack overflow in recursion in Python, you can use a few techniques:\n",
    "\n",
    "Use a base case: Make sure that you have a base case that will eventually stop the recursion. This will ensure that the recursion doesn't continue indefinitely.\n",
    "trampolinesTail recursion: In some cases, you can use tail recursion to optimize your code and avoid stack overflow. Tail recursion is a recursive function where the last operation is the recursive call. Python doesn't support tail recursion optimization by default, but you can use libraries like\n",
    "sys.setrecursionlimit()Increase the recursion limit: Python has a default recursion limit of 1000. You can increase this limit using the\n",
    "Use an iterative solution: In some cases, it may be more appropriate to use an iterative solution rather than a recursive one. This can help avoid stack overflow issues altogether.\n",
    "'''"
   ]
  },
  {
   "cell_type": "code",
   "execution_count": 1,
   "id": "bcb364b0",
   "metadata": {},
   "outputs": [
    {
     "name": "stdout",
     "output_type": "stream",
     "text": [
      "GCD of 48 and 18 is 6\n"
     ]
    }
   ],
   "source": [
    "#6 Create a recursive Python function to find the greatest common divisor (GCD) of two numbers using the Euclidean algorithm.\n",
    "def gcd_recursive(a, b):\n",
    "    if b == 0:\n",
    "        return a\n",
    "    return gcd_recursive(b, a % b)\n",
    "\n",
    "num1 = 48\n",
    "num2 = 18\n",
    "gcd = gcd_recursive(num1, num2)\n",
    "print(f\"GCD of {num1} and {num2} is {gcd}\")"
   ]
  },
  {
   "cell_type": "code",
   "execution_count": 2,
   "id": "6700a7f0",
   "metadata": {},
   "outputs": [
    {
     "name": "stdout",
     "output_type": "stream",
     "text": [
      "cba\n"
     ]
    }
   ],
   "source": [
    "#7 Write a recursive Python function to reverse a string.\n",
    "def reverse(s):\n",
    "    if s == \"\":\n",
    "        return s\n",
    "    else:\n",
    "        return reverse(s[1:]) + s[0]\n",
    "   \n",
    "             \n",
    "s = \"abc\"\n",
    "print (reverse(s)) "
   ]
  },
  {
   "cell_type": "code",
   "execution_count": 4,
   "id": "6e1328c6",
   "metadata": {},
   "outputs": [
    {
     "data": {
      "text/plain": [
       "1024"
      ]
     },
     "execution_count": 4,
     "metadata": {},
     "output_type": "execute_result"
    }
   ],
   "source": [
    "#8 Create a recursive Python function to calculate the power of a number (x^n).\n",
    "def pow(b,p):\n",
    "    if p==0:\n",
    "        return 1\n",
    "    return (b*pow(b,p-1))\n",
    "pow(2,10)"
   ]
  },
  {
   "cell_type": "code",
   "execution_count": 5,
   "id": "357b86ec",
   "metadata": {},
   "outputs": [
    {
     "name": "stdout",
     "output_type": "stream",
     "text": [
      "['abc', 'acb', 'bac', 'bca', 'cab', 'cba']\n"
     ]
    }
   ],
   "source": [
    "#9 Write a recursive Python function to find all permutations of a given string.\n",
    "def find_permutations(s):\n",
    "    if len(s) == 1:\n",
    "        return [s]\n",
    "    else:\n",
    "        perms = []\n",
    "        for i, c in enumerate(s):\n",
    "            for perm in find_permutations(s[:i] + s[i+1:]):\n",
    "                perms.append(c + perm)\n",
    "        return perms\n",
    " \n",
    "s = 'abc'\n",
    "print(find_permutations(s))"
   ]
  },
  {
   "cell_type": "code",
   "execution_count": 6,
   "id": "ebc36a6b",
   "metadata": {},
   "outputs": [
    {
     "name": "stdout",
     "output_type": "stream",
     "text": [
      "Initial string abc\n",
      "Resultant List ['abc', 'acb', 'bac', 'bca', 'cab', 'cba']\n"
     ]
    }
   ],
   "source": [
    "from itertools import permutations\n",
    " \n",
    "# Initialising string\n",
    "ini_str = \"abc\"\n",
    " \n",
    "# Printing initial string\n",
    "print(\"Initial string\", ini_str)\n",
    " \n",
    "# Finding all permutation\n",
    "permutation = [''.join(p) for p in permutations(ini_str)]\n",
    "# Printing result\n",
    "print(\"Resultant List\", str(permutation))"
   ]
  },
  {
   "cell_type": "code",
   "execution_count": 8,
   "id": "a2941aba",
   "metadata": {},
   "outputs": [
    {
     "name": "stdout",
     "output_type": "stream",
     "text": [
      "Yes\n"
     ]
    }
   ],
   "source": [
    "#10 Write a recursive Python function to check if a string is a palindrome.\n",
    "# A recursive Python program \n",
    "# to check whether a given \n",
    "# number is palindrome or not\n",
    "\n",
    "# A recursive function that \n",
    "# check a str[s..e] is \n",
    "# palindrome or not.\n",
    "def isPalRec(st, s, e) :\n",
    "\t\n",
    "\t# If there is only one character\n",
    "\tif (s == e):\n",
    "\t\treturn True\n",
    "\n",
    "\t# If first and last\n",
    "\t# characters do not match\n",
    "\tif (st[s] != st[e]) :\n",
    "\t\treturn False\n",
    "\n",
    "\t# If there are more than \n",
    "\t# two characters, check if \n",
    "\t# middle substring is also \n",
    "\t# palindrome or not.\n",
    "\tif (s < e + 1) :\n",
    "\t\treturn isPalRec(st, s + 1, e - 1);\n",
    "\n",
    "\treturn True\n",
    "\n",
    "def isPalindrome(st) :\n",
    "\tn = len(st)\n",
    "\t\n",
    "\t# An empty string is \n",
    "\t# considered as palindrome\n",
    "\tif (n == 0) :\n",
    "\t\treturn True\n",
    "\t\n",
    "\treturn isPalRec(st, 0, n - 1);\n",
    "\n",
    "\n",
    "# Driver Code\n",
    "st = \"geeg\"\n",
    "if (isPalindrome(st)) :\n",
    "    print (\"Yes\")\n",
    "else :\n",
    "\tprint (\"No\")\n",
    "\t\n",
    "# This code is contributed\n",
    "# by Nikita Tiwari.\n"
   ]
  },
  {
   "cell_type": "code",
   "execution_count": 9,
   "id": "00176eb0",
   "metadata": {},
   "outputs": [
    {
     "name": "stdout",
     "output_type": "stream",
     "text": [
      "[[], [1], [2], [1, 2], [3], [1, 3], [2, 3], [1, 2, 3]]\n"
     ]
    }
   ],
   "source": [
    "#11 Create a recursive Python function to generate all possible combinations of a list of elements.\n",
    "\n",
    "def combinations(l):\n",
    "    if l:\n",
    "      result = combinations(l[:-1])\n",
    "      return result + [c + [l[-1]] for c in result]\n",
    "    else:\n",
    "      return [[]]\n",
    "\n",
    "print(combinations([1,2,3]))\n",
    "# [[], [1], [2], [1, 2], [3], [1, 3], [2, 3], [1, 2, 3]]"
   ]
  },
  {
   "cell_type": "code",
   "execution_count": 10,
   "id": "d97eea4b",
   "metadata": {},
   "outputs": [
    {
     "data": {
      "text/plain": [
       "'\\nPython Functions is a block of statements that return the specific task. The idea is to put some commonly or repeatedly done tasks together and make a function so that instead of writing the same code again and again for different inputs, we can do the function calls to reuse code contained in it over and over again.\\n\\nSome Benefits of Using Functions\\n\\nIncrease Code Readability \\nIncrease Code Reusability'"
      ]
     },
     "execution_count": 10,
     "metadata": {},
     "output_type": "execute_result"
    }
   ],
   "source": [
    "#Functions \n",
    "#What is a function in Python, and why is it used?\n",
    "'''\n",
    "Python Functions is a block of statements that return the specific task. The idea is to put some commonly or repeatedly done tasks together and make a function so that instead of writing the same code again and again for different inputs, we can do the function calls to reuse code contained in it over and over again.\n",
    "\n",
    "Some Benefits of Using Functions\n",
    "\n",
    "Increase Code Readability \n",
    "Increase Code Reusability'''"
   ]
  },
  {
   "cell_type": "code",
   "execution_count": 12,
   "id": "b829438b",
   "metadata": {},
   "outputs": [
    {
     "data": {
      "text/plain": [
       "'\\ndef function_name(arg1,arg2,arg3,...):\\n    \"\"\"\\n    function logic goes here.\\n    \"\"\"\\n    return value1, value2, value3,...'"
      ]
     },
     "execution_count": 12,
     "metadata": {},
     "output_type": "execute_result"
    }
   ],
   "source": [
    "#2 How do you define a function in Python? Provide an example.\n",
    "'''The function definition starts with a def keyword followed by the function name and the arguments the function can take. These arguments are within parentheses and there can be any number of arguments including zero. When there is more than one argument, they are separated by a comma'''\n",
    "'''\n",
    "def function_name(arg1,arg2,arg3,...):\n",
    "    \"\"\"\n",
    "    function logic goes here.\n",
    "    \"\"\"\n",
    "    return value1, value2, value3,...'''"
   ]
  },
  {
   "cell_type": "code",
   "execution_count": 13,
   "id": "f528ed65",
   "metadata": {},
   "outputs": [
    {
     "data": {
      "text/plain": [
       "\"Defining a function: Defining a function involves writing the code that specifies what the function does. When you define a function, you are essentially creating a set of instructions that can be executed when the function is called. In most programming languages, a function definition typically includes the function name, the parameters it takes (if any), and the code block that defines the behavior of the function.\\nHere's an example of defining a simple function in Python that adds two numbers:\\n\\n\\nCalling a function: Calling a function involves actually executing the code inside the function. When you call a function, you are telling the program to run the set of instructions defined within that function. To call a function, you simply use the function name followed by parentheses, optionally passing any required arguments.\\nContinuing with the previous example, here's how you would call the add_numbers function in Python:\""
      ]
     },
     "execution_count": 13,
     "metadata": {},
     "output_type": "execute_result"
    }
   ],
   "source": [
    "#3 Explain the difference between a function definition and a function call.\n",
    "\n",
    "'''Defining a function: Defining a function involves writing the code that specifies what the function does. When you define a function, you are essentially creating a set of instructions that can be executed when the function is called. In most programming languages, a function definition typically includes the function name, the parameters it takes (if any), and the code block that defines the behavior of the function.\n",
    "Here's an example of defining a simple function in Python that adds two numbers:\n",
    "\n",
    "\n",
    "Calling a function: Calling a function involves actually executing the code inside the function. When you call a function, you are telling the program to run the set of instructions defined within that function. To call a function, you simply use the function name followed by parentheses, optionally passing any required arguments.\n",
    "Continuing with the previous example, here's how you would call the add_numbers function in Python:'''"
   ]
  },
  {
   "cell_type": "code",
   "execution_count": 14,
   "id": "a575c06a",
   "metadata": {},
   "outputs": [
    {
     "data": {
      "text/plain": [
       "7"
      ]
     },
     "execution_count": 14,
     "metadata": {},
     "output_type": "execute_result"
    }
   ],
   "source": [
    "#4 Write a Python program that defines a function to calculate the sum of two numbers and then calls the function.\n",
    "\n",
    "def sum(a,b):\n",
    "    return a+b\n",
    "sum(5,2)"
   ]
  },
  {
   "cell_type": "code",
   "execution_count": 15,
   "id": "1ca28730",
   "metadata": {},
   "outputs": [
    {
     "data": {
      "text/plain": [
       "'he signature indicates the names and types of the input arguments, and (with type annotations) the type of the returned result(s) of a function or method.'"
      ]
     },
     "execution_count": 15,
     "metadata": {},
     "output_type": "execute_result"
    }
   ],
   "source": [
    "#5 What is a function signature, and what information does it typically include?\n",
    "'''he signature indicates the names and types of the input arguments, and (with type annotations) the type of the returned result(s) of a function or method.'''"
   ]
  },
  {
   "cell_type": "code",
   "execution_count": 16,
   "id": "0dc0b917",
   "metadata": {},
   "outputs": [
    {
     "data": {
      "text/plain": [
       "6"
      ]
     },
     "execution_count": 16,
     "metadata": {},
     "output_type": "execute_result"
    }
   ],
   "source": [
    "#6 Create a Python function that takes two arguments and returns their product.\n",
    "\n",
    "def p(a,b):\n",
    "    return a*b\n",
    "p(2,3)"
   ]
  },
  {
   "cell_type": "code",
   "execution_count": 17,
   "id": "8cb1b6df",
   "metadata": {},
   "outputs": [
    {
     "data": {
      "text/plain": [
       "'def sum(a, b):\\n   c = a + b            # a and b are formal arguments\\n   print(c)\\n# call the function\\nx = 10\\ny = 15\\nsum(x, y)            # x and y are actual arguments'"
      ]
     },
     "execution_count": 17,
     "metadata": {},
     "output_type": "execute_result"
    }
   ],
   "source": [
    "#Function Parameters and Arguments:\n",
    "#1 Explain the concepts of formal parameters and actual arguments in Python functions.\n",
    "'''TYPES OF ARGUMENTS IN PYTHON FUNCTIONS\n",
    "Argument: An argument is a variable (which contains data) or a parameter that is sent to the function as input. Before getting into argument types, let’s get familiar with words formal and actual arguments.\n",
    "\n",
    "Formal arguments: When a function is defined it (may) has (have) some parameters within the parentheses. These parameters, which receive the values sent from the function call, are called formal arguments.\n",
    "Actual arguments: The parameters which we use in the function call or the parameters which we use to send the values/data during the function call are called actual arguments.'''\n",
    "\n",
    "\n",
    "'''def sum(a, b):\n",
    "   c = a + b            # a and b are formal arguments\n",
    "   print(c)\n",
    "# call the function\n",
    "x = 10\n",
    "y = 15\n",
    "sum(x, y)            # x and y are actual arguments'''"
   ]
  },
  {
   "cell_type": "code",
   "execution_count": 18,
   "id": "2e604e3d",
   "metadata": {},
   "outputs": [
    {
     "name": "stdout",
     "output_type": "stream",
     "text": [
      "John Mark studies in Fifth Standard\n",
      "John Gates studies in Seventh Standard\n",
      "John Gates studies in Fifth Standard\n",
      "John Seventh studies in Fifth Standard\n"
     ]
    }
   ],
   "source": [
    "#2 Write a Python program that defines a function with default argument values.\n",
    "def student(firstname, lastname ='Mark', standard ='Fifth'):\n",
    "\tprint(firstname, lastname, 'studies in', standard, 'Standard')\n",
    "\n",
    "# 1 positional argument\n",
    "student('John') \n",
    "\n",
    "# 3 positional arguments\t\t\t\t\t\t \n",
    "student('John', 'Gates', 'Seventh')\t \n",
    "\n",
    "# 2 positional arguments \n",
    "student('John', 'Gates')\t\t\t\t \n",
    "student('John', 'Seventh')\n"
   ]
  },
  {
   "cell_type": "code",
   "execution_count": 19,
   "id": "82589b6e",
   "metadata": {},
   "outputs": [
    {
     "name": "stdout",
     "output_type": "stream",
     "text": [
      "The youngest child is Linus\n"
     ]
    }
   ],
   "source": [
    "#3 How do you use keyword arguments in Python function calls? Provide an example.\n",
    "\n",
    "def my_function(child3, child2, child1):\n",
    "  print(\"The youngest child is \" + child3)\n",
    "\n",
    "my_function(child1 = \"Emil\", child2 = \"Tobias\", child3 = \"Linus\")"
   ]
  },
  {
   "cell_type": "code",
   "execution_count": 2,
   "id": "595f1bc4",
   "metadata": {},
   "outputs": [
    {
     "name": "stdout",
     "output_type": "stream",
     "text": [
      "100\n"
     ]
    }
   ],
   "source": [
    "#4 Create a Python function that accepts a variable number of arguments and calculates their sum.\n",
    "def sum_all(*args):  \n",
    "    s=0 \n",
    "    for i in args: \n",
    "        s=s+i \n",
    "    print(s) \n",
    "sum_all(10, 20, 30, 40) "
   ]
  },
  {
   "cell_type": "code",
   "execution_count": 3,
   "id": "18e1c4b5",
   "metadata": {},
   "outputs": [
    {
     "data": {
      "text/plain": [
       "'The special syntax *args in function definitions in Python is used to pass a variable number of arguments to a function. It is used to pass a non-keyworded, variable-length argument list. \\n\\n\\ndef myFun(arg1, *argv):\\n    print(\"First argument :\", arg1)\\n    for arg in argv:\\n        print(\"Next argument through *argv :\", arg)\\n\\n\\nmyFun(\\'Hello\\', \\'Welcome\\', \\'to\\', \\'GeeksforGeeks\\')\\n\\n\\nThe special syntax **kwargs in function definitions in Python is used to pass a keyworded, variable-length argument list. We use the name kwargs with the double star. The reason is that the double star allows us to pass through keyword arguments (and any number of them).\\n\\ndef myFun(**kwargs):\\n    for key, value in kwargs.items():\\n        print(\"%s == %s\" % (key, value))\\n\\n\\n# Driver code\\nmyFun(first=\\'Geeks\\', mid=\\'for\\', last=\\'Geeks\\')\\n\\n'"
      ]
     },
     "execution_count": 3,
     "metadata": {},
     "output_type": "execute_result"
    }
   ],
   "source": [
    "#5 What is the purpose of the `*args` and `**kwargs` syntax in function parameter lists?\n",
    "'''The special syntax *args in function definitions in Python is used to pass a variable number of arguments to a function. It is used to pass a non-keyworded, variable-length argument list. \n",
    "\n",
    "\n",
    "def myFun(arg1, *argv):\n",
    "    print(\"First argument :\", arg1)\n",
    "    for arg in argv:\n",
    "        print(\"Next argument through *argv :\", arg)\n",
    "\n",
    "\n",
    "myFun('Hello', 'Welcome', 'to', 'GeeksforGeeks')\n",
    "\n",
    "\n",
    "The special syntax **kwargs in function definitions in Python is used to pass a keyworded, variable-length argument list. We use the name kwargs with the double star. The reason is that the double star allows us to pass through keyword arguments (and any number of them).\n",
    "\n",
    "def myFun(**kwargs):\n",
    "    for key, value in kwargs.items():\n",
    "        print(\"%s == %s\" % (key, value))\n",
    "\n",
    "\n",
    "# Driver code\n",
    "myFun(first='Geeks', mid='for', last='Geeks')\n",
    "\n",
    "'''"
   ]
  },
  {
   "cell_type": "code",
   "execution_count": 4,
   "id": "d774e15d",
   "metadata": {},
   "outputs": [
    {
     "data": {
      "text/plain": [
       "125"
      ]
     },
     "execution_count": 4,
     "metadata": {},
     "output_type": "execute_result"
    }
   ],
   "source": [
    "#Return Values and Scoping:\n",
    "#1 Describe the role of the `return` statement in Python functions and provide examples.\n",
    "\n",
    "'''A return statement is used to end the execution of the function call and “returns” the result (value of the expression following the return keyword) to the caller. The statements after the return statements are not executed. If the return statement is without any expression, then the special value None is returned. A return statement is overall used to invoke a function so that the passed statements can be executed.'''\n",
    "\n",
    "def cube(x):\n",
    "    r=x**3\n",
    "    return r\n",
    "\n",
    "cube(5)"
   ]
  },
  {
   "cell_type": "code",
   "execution_count": 5,
   "id": "90eb4413",
   "metadata": {},
   "outputs": [
    {
     "data": {
      "text/plain": [
       "'Python Global variables are those which are not defined inside any function and have a global scope whereas Python local variables are those which are defined inside a function and their scope is limited to that function only. In other words, we can say that local variables are accessible only inside the function in which it was initialized whereas the global variables are accessible throughout the program and inside every function. \\n'"
      ]
     },
     "execution_count": 5,
     "metadata": {},
     "output_type": "execute_result"
    }
   ],
   "source": [
    "#2 Explain the concept of variable scope in Python, including local and global variables.\n",
    "'''Python Global variables are those which are not defined inside any function and have a global scope whereas Python local variables are those which are defined inside a function and their scope is limited to that function only. In other words, we can say that local variables are accessible only inside the function in which it was initialized whereas the global variables are accessible throughout the program and inside every function. \n",
    "'''"
   ]
  },
  {
   "cell_type": "code",
   "execution_count": 6,
   "id": "f1e0199c",
   "metadata": {},
   "outputs": [
    {
     "name": "stdout",
     "output_type": "stream",
     "text": [
      "Inside Function I love Geeksforgeeks\n",
      "Outside Function I love Geeksforgeeks\n"
     ]
    }
   ],
   "source": [
    "#3 Write a Python program that demonstrates the use of global variables within functions.\n",
    "# This function uses global variable s\n",
    "def f():\n",
    "\tprint(\"Inside Function\", s)\n",
    "\n",
    "# Global scope\n",
    "s = \"I love Geeksforgeeks\"\n",
    "f()\n",
    "print(\"Outside Function\", s)\n"
   ]
  },
  {
   "cell_type": "code",
   "execution_count": 7,
   "id": "c9d0f2e0",
   "metadata": {},
   "outputs": [
    {
     "name": "stdout",
     "output_type": "stream",
     "text": [
      "Factorial of 5 is 120\n"
     ]
    }
   ],
   "source": [
    "#4 Create a Python function that calculates the factorial of a number and returns it.\n",
    "# Python 3 program to find  \n",
    "# factorial of given number\n",
    "def factorial(n):\n",
    "    if n < 0:\n",
    "        return 0\n",
    "    elif n == 0 or n == 1:\n",
    "        return 1\n",
    "    else:\n",
    "        fact = 1\n",
    "        while(n > 1):\n",
    "            fact *= n\n",
    "            n -= 1\n",
    "        return fact\n",
    "\n",
    "# Driver Code\n",
    "num = 5\n",
    "print(\"Factorial of\",num,\"is\",\n",
    "factorial(num))\n",
    "\n",
    "# This code is contributed by Dharmik Thakkar\n"
   ]
  },
  {
   "cell_type": "code",
   "execution_count": 8,
   "id": "ba6031de",
   "metadata": {},
   "outputs": [
    {
     "name": "stdout",
     "output_type": "stream",
     "text": [
      "15\n"
     ]
    }
   ],
   "source": [
    "#5 How can you access variables defined outside a function from within the function?\n",
    "def modify_variable(var): \n",
    "\tvar += 10\n",
    "\treturn var \n",
    "\n",
    "# Define a variable outside the function \n",
    "original_var = 5\n",
    "\n",
    "# Passing the variable to the function \n",
    "modified_var = modify_variable(original_var) \n",
    "print(modified_var) \n"
   ]
  },
  {
   "cell_type": "code",
   "execution_count": 2,
   "id": "bdf4f8a6",
   "metadata": {},
   "outputs": [
    {
     "data": {
      "text/plain": [
       "'Python Lambda Function with if-else\\nHere we are using the Max lambda function to find the maximum of two integers.\\n\\n\\nMax = lambda a, b : a if(a > b) else b\\nprint(Max(1, 2))'"
      ]
     },
     "execution_count": 2,
     "metadata": {},
     "output_type": "execute_result"
    }
   ],
   "source": [
    "#Lambda Functions and Higher-Order Functions: \n",
    "#1 What are lambda functions in Python, and when are they typically used?\n",
    "\"\"\"Python Lambda Functions are anonymous functions means that the function is without a name. As we already know the def keyword is used to define a normal function in Python. Similarly, the lambda keyword is used to define an anonymous function in Python. \n",
    "\"\"\"\n",
    "\"\"\"Python Lambda Function with List Comprehension\n",
    "On each iteration inside the list comprehension, we are creating a new lambda function with a default argument of x (where x is the current item in the iteration). Later, inside the for loop, we are calling the same function object having the default argument using item() and get the desired value. Thus, is_even_list stores the list of lambda function objects.\n",
    "\n",
    "\n",
    "is_even_list = [lambda arg=x: arg * 10 for x in range(1, 5)]\n",
    "for item in is_even_list:\n",
    "    print(item())\"\"\"\n",
    "\n",
    "\"\"\"Python Lambda Function with if-else\n",
    "Here we are using the Max lambda function to find the maximum of two integers.\n",
    "\n",
    "\n",
    "Max = lambda a, b : a if(a > b) else b\n",
    "print(Max(1, 2))\"\"\""
   ]
  },
  {
   "cell_type": "code",
   "execution_count": 4,
   "id": "4798dffd",
   "metadata": {},
   "outputs": [
    {
     "data": {
      "text/plain": [
       "'subject_marks = [(\\'English\\', 88), (\\'Science\\', 90), (\\'Maths\\', 97), (\\'Social sciences\\', 82)]\\n\\n# Display the original list of tuples to the console\\nprint(\"Original list of tuples:\")\\nprint(subject_marks)\\n\\n# Sort the \\'subject_marks\\' list of tuples based on the second element of each tuple (the marks),\\n# using a lambda function as the sorting key to extract the second element\\nsubject_marks.sort(key=lambda x: x[1])\\n\\n# Display the sorted list of tuples to the console\\nprint(\"\\nSorting the List of Tuples:\")\\nprint(subject_marks) '"
      ]
     },
     "execution_count": 4,
     "metadata": {},
     "output_type": "execute_result"
    }
   ],
   "source": [
    "#2 Write a Python program that uses lambda functions to sort a list of tuples based on the second element.\n",
    "\"\"\"subject_marks = [('English', 88), ('Science', 90), ('Maths', 97), ('Social sciences', 82)]\n",
    "\n",
    "# Display the original list of tuples to the console\n",
    "print(\"Original list of tuples:\")\n",
    "print(subject_marks)\n",
    "\n",
    "# Sort the 'subject_marks' list of tuples based on the second element of each tuple (the marks),\n",
    "# using a lambda function as the sorting key to extract the second element\n",
    "subject_marks.sort(key=lambda x: x[1])\n",
    "\n",
    "# Display the sorted list of tuples to the console\n",
    "print(\"\\nSorting the List of Tuples:\")\n",
    "print(subject_marks) \"\"\""
   ]
  },
  {
   "cell_type": "code",
   "execution_count": 5,
   "id": "00cf81f1",
   "metadata": {},
   "outputs": [
    {
     "name": "stdout",
     "output_type": "stream",
     "text": [
      "HELLO\n",
      "HELLO\n"
     ]
    }
   ],
   "source": [
    "#3 Explain the concept of higher-order functions in Python, and provide an example.\n",
    "\n",
    "\"\"\"\n",
    "A function is called Higher Order Function if it contains other functions as a parameter or returns a function as an output i.e, the functions that operate with another function are known as Higher order Functions. It is worth knowing that this higher order function is applicable for functions and methods as well that takes functions as a parameter or returns a function as a result. Python too supports the concepts of higher order functions.\n",
    "\n",
    "Properties of higher-order functions:\n",
    "\n",
    "A function is an instance of the Object type.\n",
    "You can store the function in a variable.\n",
    "You can pass the function as a parameter to another function.\n",
    "You can return the function from a function.\n",
    "You can store them in data structures such as hash tables, lists, …\"\"\"\n",
    "\n",
    "# Python program to illustrate functions \n",
    "# can be treated as objects \n",
    "def shout(text): \n",
    "\treturn text.upper() \n",
    "\t\n",
    "print(shout('Hello')) \n",
    "\t\n",
    "# Assigning function to a variable \n",
    "yell = shout \n",
    "\t\n",
    "print(yell('Hello')) \n"
   ]
  },
  {
   "cell_type": "code",
   "execution_count": 6,
   "id": "5525c499",
   "metadata": {},
   "outputs": [
    {
     "name": "stdout",
     "output_type": "stream",
     "text": [
      "[2, 4, 6]\n"
     ]
    }
   ],
   "source": [
    "#4 Create a Python function that takes a list of numbers and a function as arguments, applying the function to each element in the list.\n",
    "def double(integer):\n",
    "\treturn integer*2\n",
    "\n",
    "\n",
    "# driver code\n",
    "integer_list = [1, 2, 3]\n",
    "\n",
    "# Map method returns a map object\n",
    "# so we cast it into list using list()\n",
    "output_list = list(map(double, integer_list))\n",
    "\n",
    "print(output_list)\n"
   ]
  },
  {
   "cell_type": "code",
   "execution_count": 7,
   "id": "72db8c8e",
   "metadata": {},
   "outputs": [
    {
     "data": {
      "text/plain": [
       "'len() :- This function returns the length of list.\\n    min() :- This function returns the minimum element of list.\\n         max() :- This function returns the maximum element of list.'"
      ]
     },
     "execution_count": 7,
     "metadata": {},
     "output_type": "execute_result"
    }
   ],
   "source": [
    "#Built-in Functions:\n",
    "\n",
    "#1 Describe the role of built-in functions like `len()`, `max()`, and `min()` in Python.\n",
    "\"\"\"len() :- This function returns the length of list.\n",
    "    min() :- This function returns the minimum element of list.\n",
    "         max() :- This function returns the maximum element of list.\"\"\""
   ]
  },
  {
   "cell_type": "code",
   "execution_count": 8,
   "id": "59f08876",
   "metadata": {},
   "outputs": [
    {
     "name": "stdout",
     "output_type": "stream",
     "text": [
      "[2, 4, 6]\n"
     ]
    }
   ],
   "source": [
    "#2 Write a Python program that uses the `map()` function to apply a function to each element of a list.\n",
    "def double(integer):\n",
    "\treturn integer*2\n",
    "\n",
    "\n",
    "# driver code\n",
    "integer_list = [1, 2, 3]\n",
    "\n",
    "# Map method returns a map object\n",
    "# so we cast it into list using list()\n",
    "output_list = list(map(double, integer_list))\n",
    "\n",
    "print(output_list)"
   ]
  },
  {
   "cell_type": "code",
   "execution_count": 9,
   "id": "533e3b1e",
   "metadata": {},
   "outputs": [
    {
     "name": "stdout",
     "output_type": "stream",
     "text": [
      "The filtered letters are:\n",
      "e\n",
      "e\n"
     ]
    }
   ],
   "source": [
    "#3 How does the `filter()` function work in Python, and when would you use it?\n",
    "\n",
    "# function that filters vowels\n",
    "def fun(variable):\n",
    "    letters = ['a', 'e', 'i', 'o', 'u']\n",
    "    if (variable in letters):\n",
    "        return True\n",
    "    else:\n",
    "        return False\n",
    "\n",
    "\n",
    "# sequence\n",
    "sequence = ['g', 'e', 'e', 'j', 'k', 's', 'p', 'r']\n",
    "\n",
    "# using filter function\n",
    "filtered = filter(fun, sequence)\n",
    "\n",
    "print('The filtered letters are:')\n",
    "for s in filtered:\n",
    "    print(s)"
   ]
  },
  {
   "cell_type": "code",
   "execution_count": 10,
   "id": "69a910d8",
   "metadata": {},
   "outputs": [
    {
     "name": "stdout",
     "output_type": "stream",
     "text": [
      "The sum of the list elements is : 17\n",
      "The maximum element of the list is : 6\n"
     ]
    }
   ],
   "source": [
    "#4 Create a Python program that uses the `reduce()` function to find the product of all elements in a list.\n",
    "\n",
    "import functools\n",
    "\n",
    "# initializing list\n",
    "lis = [1, 3, 5, 6, 2]\n",
    "\n",
    "# using reduce to compute sum of list\n",
    "print(\"The sum of the list elements is : \", end=\"\")\n",
    "print(functools.reduce(lambda a, b: a+b, lis))\n",
    "\n",
    "# using reduce to compute maximum element from list\n",
    "print(\"The maximum element of the list is : \", end=\"\")\n",
    "print(functools.reduce(lambda a, b: a if a > b else b, lis))\n"
   ]
  },
  {
   "cell_type": "code",
   "execution_count": 11,
   "id": "c20ee4d1",
   "metadata": {},
   "outputs": [
    {
     "name": "stdout",
     "output_type": "stream",
     "text": [
      "Using __doc__:\n",
      "Demonstrates triple double quotes\n",
      "\tdocstrings and does nothing really.\n",
      "Using help:\n",
      "Help on function my_function in module __main__:\n",
      "\n",
      "my_function()\n",
      "    Demonstrates triple double quotes\n",
      "    docstrings and does nothing really.\n",
      "\n"
     ]
    }
   ],
   "source": [
    "#Function Documentation and Best Practices:\n",
    "\n",
    "#1 Explain the purpose of docstrings in Python functions and how to write them.\n",
    "\n",
    "\"\"\"Python documentation strings (or docstrings) provide a convenient way of associating documentation with Python modules, functions, classes, and methods. It’s specified in source code that is used, like a comment, to document a specific segment of code. Unlike conventional source code comments, the docstring should describe what the function does, not how.\n",
    "\n",
    "Declaring Docstrings: The docstrings are declared using ”’triple single quotes”’ or “”” triple double quotes “”” just below the class, method, or function declaration. All functions should have a docstring.\n",
    "Accessing Docstrings: The docstrings can be accessed using the __doc__ method of the object or using the help function. The below examples demonstrate how to declare and access a docstring.\"\"\"\n",
    "\n",
    "\n",
    "def my_function():\n",
    "\t'''Demonstrates triple double quotes\n",
    "\tdocstrings and does nothing really.'''\n",
    "\n",
    "\treturn None\n",
    "\n",
    "print(\"Using __doc__:\")\n",
    "print(my_function.__doc__)\n",
    "\n",
    "print(\"Using help:\")\n",
    "help(my_function)\n"
   ]
  },
  {
   "cell_type": "code",
   "execution_count": 12,
   "id": "aad1620d",
   "metadata": {},
   "outputs": [
    {
     "data": {
      "text/plain": [
       "'\\nPython, known for its simplicity and readability, places a strong emphasis on writing clean and maintainable code. One of the key aspects contributing to this readability is adhering to Python Naming Conventions. In this article, we’ll delve into the specifics of Python Naming Conventions, covering modules, functions, global and local variables, classes, and exceptions. Each section will be accompanied by runnable code examples to illustrate the principles in action.\\n\\nWhat is Naming Conventions?\\nNaming conventions in Python refer to a set of rules and guidelines for naming variables, functions, classes, and other entities in your code. Adhering to these conventions ensures consistency, readability, and better collaboration among developers.\\n\\nPython Naming Conventions\\nHere, we discuss the Naming Conventions in Python which are follows.\\n\\nModules\\nVariables\\nClasses\\nExceptions\\nModules\\nModules in Python are files containing Python definitions and statements. When naming a module, use lowercase letters and underscores, making it descriptive but concise. Let’s create a module named math_operations.py.\\n\\nIn this example, code defines two functions: add_numbers that returns the sum of two input values, and subtract_numbers that returns the difference between two input values. To demonstrate, if you call add_numbers(5, 3) it will return 8, and if you call subtract_numbers(5, 3) it will return 2.\\n\\n\\ndef add_numbers(a, b):\\n    result = a + b\\n    print(f\"The sum is: {result}\")\\n    return result\\n \\ndef subtract_numbers(a, b):\\n    result = a - b\\n    print(f\"The difference is: {result}\")\\n    return result\\n \\n# Example usage:\\nadd_result = add_numbers(5, 3)\\nsubtract_result = subtract_numbers(5, 3)\\nOutput\\nThe sum is: 8\\nThe difference is: 2\\n\\n\\n\\nVariables\\nGlobals variable should be in uppercase with underscores separating words, while locals variable should follow the same convention as functions. Demonstrating consistency in naming conventions enhances code readability and maintainability, contributing to a more robust and organized codebase.\\n\\nIn below, code defines a global variable GLOBAL_VARIABLE with a value of 10. Inside the example_function, a local variable local_variable is assigned a value of 5, and the sum of the global and local variables is printed.\\n\\n\\nGLOBAL_VARIABLE = 10\\n \\ndef example_function():\\n    local_variable = 5\\n    print(GLOBAL_VARIABLE + local_variable)\\n \\n# Call the function to print the result\\nexample_function()\\nOutput\\n15\\n\\n\\n\\nClasses\\nClasses in Python names should follow the CapWords (or CamelCase) convention. This means that the first letter of each word in the class name should be capitalized, and there should be no underscores between words.This convention helps improve code readability and consistency in programming projects.\\n\\nIn this example, the class “Car” has an initializer method (__init__) that sets the make and model attributes of an instance. The “display_info” method prints the car’s make and model.\\n\\n\\nclass Car:\\n    def __init__(self, make, model):\\n        self.make = make\\n        self.model = model\\n \\n    def display_info(self):\\n        print(f\"{self.make} {self.model}\")\\nExceptions\\nException in Python names should end with “Error,” following the CapWords convention. it is advisable to choose meaningful names that reflect the nature of the exception, providing clarity to developers who may encounter the error.\\n\\nIn this example, below code creates an instance of CustomError with a specific error message and then raises that exception within a try block. The except block catches the CustomError exception and prints a message\\n\\n\\nclass CustomError(Exception):\\n    def __init__(self, message):\\n        super().__init__(message)\\n \\n# Creating an instance of CustomError\\ncustom_exception = CustomError(\"This is a custom error message\")\\n \\n# Catching and handling the exception\\ntry:\\n    raise custom_exception\\nexcept CustomError as ce:\\n    print(f\"Caught a custom exception: {ce}\")\\nOutput\\nCaught a custom exception: This is a custom error message\\n'"
      ]
     },
     "execution_count": 12,
     "metadata": {},
     "output_type": "execute_result"
    }
   ],
   "source": [
    "\n",
    "#2 Describe some best practices for naming functions and variables in Python, including naming conventions and guidelines.\n",
    "\n",
    "\"\"\"\n",
    "Python, known for its simplicity and readability, places a strong emphasis on writing clean and maintainable code. One of the key aspects contributing to this readability is adhering to Python Naming Conventions. In this article, we’ll delve into the specifics of Python Naming Conventions, covering modules, functions, global and local variables, classes, and exceptions. Each section will be accompanied by runnable code examples to illustrate the principles in action.\n",
    "\n",
    "What is Naming Conventions?\n",
    "Naming conventions in Python refer to a set of rules and guidelines for naming variables, functions, classes, and other entities in your code. Adhering to these conventions ensures consistency, readability, and better collaboration among developers.\n",
    "\n",
    "Python Naming Conventions\n",
    "Here, we discuss the Naming Conventions in Python which are follows.\n",
    "\n",
    "Modules\n",
    "Variables\n",
    "Classes\n",
    "Exceptions\n",
    "Modules\n",
    "Modules in Python are files containing Python definitions and statements. When naming a module, use lowercase letters and underscores, making it descriptive but concise. Let’s create a module named math_operations.py.\n",
    "\n",
    "In this example, code defines two functions: add_numbers that returns the sum of two input values, and subtract_numbers that returns the difference between two input values. To demonstrate, if you call add_numbers(5, 3) it will return 8, and if you call subtract_numbers(5, 3) it will return 2.\n",
    "\n",
    "\n",
    "def add_numbers(a, b):\n",
    "    result = a + b\n",
    "    print(f\"The sum is: {result}\")\n",
    "    return result\n",
    " \n",
    "def subtract_numbers(a, b):\n",
    "    result = a - b\n",
    "    print(f\"The difference is: {result}\")\n",
    "    return result\n",
    " \n",
    "# Example usage:\n",
    "add_result = add_numbers(5, 3)\n",
    "subtract_result = subtract_numbers(5, 3)\n",
    "Output\n",
    "The sum is: 8\n",
    "The difference is: 2\n",
    "\n",
    "\n",
    "\n",
    "Variables\n",
    "Globals variable should be in uppercase with underscores separating words, while locals variable should follow the same convention as functions. Demonstrating consistency in naming conventions enhances code readability and maintainability, contributing to a more robust and organized codebase.\n",
    "\n",
    "In below, code defines a global variable GLOBAL_VARIABLE with a value of 10. Inside the example_function, a local variable local_variable is assigned a value of 5, and the sum of the global and local variables is printed.\n",
    "\n",
    "\n",
    "GLOBAL_VARIABLE = 10\n",
    " \n",
    "def example_function():\n",
    "    local_variable = 5\n",
    "    print(GLOBAL_VARIABLE + local_variable)\n",
    " \n",
    "# Call the function to print the result\n",
    "example_function()\n",
    "Output\n",
    "15\n",
    "\n",
    "\n",
    "\n",
    "Classes\n",
    "Classes in Python names should follow the CapWords (or CamelCase) convention. This means that the first letter of each word in the class name should be capitalized, and there should be no underscores between words.This convention helps improve code readability and consistency in programming projects.\n",
    "\n",
    "In this example, the class “Car” has an initializer method (__init__) that sets the make and model attributes of an instance. The “display_info” method prints the car’s make and model.\n",
    "\n",
    "\n",
    "class Car:\n",
    "    def __init__(self, make, model):\n",
    "        self.make = make\n",
    "        self.model = model\n",
    " \n",
    "    def display_info(self):\n",
    "        print(f\"{self.make} {self.model}\")\n",
    "Exceptions\n",
    "Exception in Python names should end with “Error,” following the CapWords convention. it is advisable to choose meaningful names that reflect the nature of the exception, providing clarity to developers who may encounter the error.\n",
    "\n",
    "In this example, below code creates an instance of CustomError with a specific error message and then raises that exception within a try block. The except block catches the CustomError exception and prints a message\n",
    "\n",
    "\n",
    "class CustomError(Exception):\n",
    "    def __init__(self, message):\n",
    "        super().__init__(message)\n",
    " \n",
    "# Creating an instance of CustomError\n",
    "custom_exception = CustomError(\"This is a custom error message\")\n",
    " \n",
    "# Catching and handling the exception\n",
    "try:\n",
    "    raise custom_exception\n",
    "except CustomError as ce:\n",
    "    print(f\"Caught a custom exception: {ce}\")\n",
    "Output\n",
    "Caught a custom exception: This is a custom error message\n",
    "\"\"\""
   ]
  },
  {
   "cell_type": "code",
   "execution_count": null,
   "id": "4b7adaa9",
   "metadata": {},
   "outputs": [],
   "source": []
  }
 ],
 "metadata": {
  "kernelspec": {
   "display_name": "Python 3 (ipykernel)",
   "language": "python",
   "name": "python3"
  },
  "language_info": {
   "codemirror_mode": {
    "name": "ipython",
    "version": 3
   },
   "file_extension": ".py",
   "mimetype": "text/x-python",
   "name": "python",
   "nbconvert_exporter": "python",
   "pygments_lexer": "ipython3",
   "version": "3.9.12"
  }
 },
 "nbformat": 4,
 "nbformat_minor": 5
}
