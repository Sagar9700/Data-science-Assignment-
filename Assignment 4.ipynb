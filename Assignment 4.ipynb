{
 "cells": [
  {
   "cell_type": "code",
   "execution_count": 3,
   "id": "34920b98",
   "metadata": {},
   "outputs": [
    {
     "name": "stdout",
     "output_type": "stream",
     "text": [
      "\n",
      " Enter the number 0\n",
      "\n",
      " The Number is Zero\n"
     ]
    }
   ],
   "source": [
    "#1. Write a Python program to check if a given number is positive or negative.\n",
    "\n",
    "n=int(input(\"\\n Enter the number \"))\n",
    "if(n>0):\n",
    "    print(\"\\n The Number is positive \")\n",
    "elif(n==0):\n",
    "    print(\"\\n The Number is Zero\")\n",
    "else:\n",
    "    print(\"\\n The Number is Negative \")"
   ]
  },
  {
   "cell_type": "code",
   "execution_count": 5,
   "id": "46d18c23",
   "metadata": {},
   "outputs": [
    {
     "name": "stdout",
     "output_type": "stream",
     "text": [
      "\n",
      " Enter the Age 18\n",
      "\n",
      " Your Ok to Vote \n"
     ]
    }
   ],
   "source": [
    "#2. Create a program that determines if a person is eligible to vote based on their age.\n",
    "n=int(input(\"\\n Enter the Age \"))\n",
    "if(n>=18):\n",
    "    print(\"\\n Your Ok to Vote \")\n",
    "else:\n",
    "    print(\"\\n You are not eligble for voting \")"
   ]
  },
  {
   "cell_type": "code",
   "execution_count": 8,
   "id": "3d37c29b",
   "metadata": {},
   "outputs": [
    {
     "name": "stdout",
     "output_type": "stream",
     "text": [
      "\n",
      " Enter the Number 1 :4\n",
      "\n",
      " Enter the Number 2 :2\n",
      "\n",
      " The Number 1 is greater than Number 2 \n"
     ]
    }
   ],
   "source": [
    "#3. Develop a program to find the maximum of two numbers using if-else statements.\n",
    "\n",
    "n1=int(input(\"\\n Enter the Number 1 :\"))\n",
    "n2=int(input(\"\\n Enter the Number 2 :\"))\n",
    "\n",
    "if n1>n2:\n",
    "    print(\"\\n The Number 1 is greater than Number 2 \")\n",
    "else:\n",
    "    print(\"\\n The Number 2 is greater than Number 1 \")"
   ]
  },
  {
   "cell_type": "code",
   "execution_count": 11,
   "id": "9c189a47",
   "metadata": {},
   "outputs": [
    {
     "name": "stdout",
     "output_type": "stream",
     "text": [
      "\n",
      " Enter the Year 2024\n",
      "\n",
      " The Year is Leap Year \n"
     ]
    }
   ],
   "source": [
    "#4. Write a Python script to classify a given year as a leap year or not.\n",
    "\n",
    "n=int(input(\"\\n Enter the Year \"))\n",
    "if (n % 400==0) or (n%4==0 and n%100!=0):\n",
    "    print(\"\\n The Year is Leap Year \")\n",
    "else:\n",
    "    print(\"\\n The Year is not a Leap Year \")\n"
   ]
  },
  {
   "cell_type": "code",
   "execution_count": 15,
   "id": "51db7226",
   "metadata": {},
   "outputs": [
    {
     "name": "stdout",
     "output_type": "stream",
     "text": [
      "\n",
      " Enter the Number w\n",
      "\n",
      " Not vowel\n"
     ]
    }
   ],
   "source": [
    "#5. Create a program that checks whether a character is a vowel or a consonant.\n",
    "v=['a','e','i','o','u','A','E','I','O','U']\n",
    "n=input(\"\\n Enter the Number \")\n",
    "if n in v:\n",
    "    print(\"\\n  Vowel \")\n",
    "else:\n",
    "    print(\"\\n Not vowel\")"
   ]
  },
  {
   "cell_type": "code",
   "execution_count": 17,
   "id": "f47cb27a",
   "metadata": {},
   "outputs": [
    {
     "name": "stdout",
     "output_type": "stream",
     "text": [
      "\n",
      " Enter the Number 3\n",
      "\n",
      " The Number is odd \n"
     ]
    }
   ],
   "source": [
    "#6. Implement a program to determine whether a given number is even or odd.\n",
    "\n",
    "n=int(input(\"\\n Enter the Number \"))\n",
    "if n%2==0:\n",
    "    print(\"\\n The Number is Even \")\n",
    "else:\n",
    "    print(\"\\n The Number is odd \")"
   ]
  },
  {
   "cell_type": "code",
   "execution_count": 19,
   "id": "f4be3f75",
   "metadata": {},
   "outputs": [
    {
     "name": "stdout",
     "output_type": "stream",
     "text": [
      "\n",
      " Enter the Number 2\n",
      "2\n"
     ]
    }
   ],
   "source": [
    "#7. Write a Python function to calculate the absolute value of a number without using the `abs()` function.\n",
    "n=int(input(\"\\n Enter the Number \"))\n",
    "if(n>0):\n",
    "    print(n * 1)\n",
    "else:\n",
    "    print(n *-1)"
   ]
  },
  {
   "cell_type": "code",
   "execution_count": 22,
   "id": "e48c56f5",
   "metadata": {},
   "outputs": [
    {
     "name": "stdout",
     "output_type": "stream",
     "text": [
      "\n",
      " Enter the First Number 3\n",
      "\n",
      " Enter the Second Number 2\n",
      "\n",
      " Enter the Third Number 1\n",
      "\n",
      " The Number1 is Greater of them all \n"
     ]
    }
   ],
   "source": [
    "#8. Develop a program that determines the largest of three given numbers using if-else statements.\n",
    "\n",
    "N1=int(input(\"\\n Enter the First Number \"))\n",
    "N2=int(input(\"\\n Enter the Second Number \"))\n",
    "N3=int(input(\"\\n Enter the Third Number \"))\n",
    "\n",
    "if N1 >N2 and N1>N3:\n",
    "    print('\\n The Number1 is Greater of them all ')\n",
    "elif N2>N1 and N2>N3:\n",
    "    print(\"\\n The Number2 is Greater of them all \")\n",
    "else:\n",
    "    print(\"\\n The Number3 is Greater of them all \")"
   ]
  },
  {
   "cell_type": "code",
   "execution_count": 32,
   "id": "d09d2ac2",
   "metadata": {},
   "outputs": [
    {
     "name": "stdout",
     "output_type": "stream",
     "text": [
      "\n",
      " Enter the String Naman\n",
      "naman\n",
      "\n",
      " The String is Palindrome \n"
     ]
    }
   ],
   "source": [
    "#9. Create a program that checks if a given string is a palindrome.\n",
    "\n",
    "n=input(\"\\n Enter the String \")\n",
    "n=n.lower()\n",
    "l=n[::-1]\n",
    "l=l.lower()\n",
    "\n",
    "if n==l:\n",
    "    print('\\n The String is Palindrome ')\n",
    "else:\n",
    "    print('\\n The String is not Palindrome ')\n"
   ]
  },
  {
   "cell_type": "code",
   "execution_count": 37,
   "id": "1dc398a4",
   "metadata": {},
   "outputs": [
    {
     "name": "stdout",
     "output_type": "stream",
     "text": [
      "\n",
      " Enter the Overall Score percentage 88\n",
      "\n",
      " The Number is B Grade\n"
     ]
    }
   ],
   "source": [
    "#10. Write a Python program to calculate the grade based on a student's score.\n",
    "\n",
    "n=int(input(\"\\n Enter the Overall Score percentage \"))\n",
    "if n>90:\n",
    "    print(\"\\n The Number is A Grade\")\n",
    "elif(n>=80 and n<90):\n",
    "    print(\"\\n The Number is B Grade\")\n",
    "else:\n",
    "    print(\"\\n The Number is C Grade\")"
   ]
  },
  {
   "cell_type": "code",
   "execution_count": 39,
   "id": "515177f8",
   "metadata": {},
   "outputs": [
    {
     "name": "stdout",
     "output_type": "stream",
     "text": [
      "\n",
      " Enter the First Number 2\n",
      "\n",
      " Enter the Second Number 3\n",
      "\n",
      " Enter the Third Number 4\n",
      "\n",
      " Number3 is greater than all  4\n"
     ]
    }
   ],
   "source": [
    "#11. Write a program to find the largest among three numbers using nested if-else statements.\n",
    "\n",
    "n1=int(input(\"\\n Enter the First Number \"))\n",
    "n2=int(input(\"\\n Enter the Second Number \"))\n",
    "n3=int(input(\"\\n Enter the Third Number \"))\n",
    "if n1>n2:\n",
    "    if n1>n3:\n",
    "        print(\"\\n Number1 is greater than all \",n1)\n",
    "elif(n2>n3):\n",
    "    if n2>n1:\n",
    "        print('\\n Number2 is greater than all ',n2)\n",
    "else:\n",
    "    print(\"\\n Number3 is greater than all \",n3)\n",
    "    "
   ]
  },
  {
   "cell_type": "code",
   "execution_count": 43,
   "id": "9db1d2e7",
   "metadata": {},
   "outputs": [
    {
     "name": "stdout",
     "output_type": "stream",
     "text": [
      "\n",
      " Enter the first side of Triangle 2\n",
      "\n",
      " Enter the second side of Triangle 2\n",
      "\n",
      " Enter the third side of Triangle 3\n",
      "\n",
      " Isoceles Triangle \n"
     ]
    }
   ],
   "source": [
    "#12. Implement a program to determine if a triangle is equilateral, isosceles, or scalene.\n",
    "x=int(input(\"\\n Enter the first side of Triangle \"))\n",
    "y=int(input(\"\\n Enter the second side of Triangle \"))\n",
    "z=int(input(\"\\n Enter the third side of Triangle \"))\n",
    "if x==y==z:\n",
    "    print(\"\\n Equilateral Triangle \")\n",
    "elif x==y or y==z or z==x:\n",
    "    print(\"\\n Isoceles Triangle \")\n",
    "else:\n",
    "    print(\"\\n scalen Triangle \")\n",
    "    "
   ]
  },
  {
   "cell_type": "code",
   "execution_count": 48,
   "id": "c9347a52",
   "metadata": {},
   "outputs": [
    {
     "name": "stdout",
     "output_type": "stream",
     "text": [
      "\n",
      " Enter the Number in years 2000\n",
      "\n",
      " The number is Leap Year and Century Year  2000\n"
     ]
    }
   ],
   "source": [
    "#13. Develop a program that checks if a year is a leap year and also if it is a century year.\n",
    "n=int(input(\"\\n Enter the Number in years \"))\n",
    "if n%100==0:\n",
    "    if(n%400==0):\n",
    "        print(\"\\n The number is Leap Year and Century Year \",n)\n",
    "    else:\n",
    "        print(\"\\n The number is just Century Year \",n)\n",
    "elif(n%4==0):\n",
    "    print(\"\\n The number is just leap year \")\n",
    "else:\n",
    "    print(\"\\n The number is not a leap year and not a century year \")\n"
   ]
  },
  {
   "cell_type": "code",
   "execution_count": 49,
   "id": "7666e692",
   "metadata": {},
   "outputs": [
    {
     "name": "stdout",
     "output_type": "stream",
     "text": [
      "\n",
      " Enter the Number 1\n",
      "\n",
      " The number is postive \n"
     ]
    }
   ],
   "source": [
    "#14. Write a Python script to determine if a number is positive, negative, or zero.\n",
    "\n",
    "n=int(input(\"\\n Enter the Number \"))\n",
    "if n>0:\n",
    "    print(\"\\n The number is postive \")\n",
    "elif( n<0):\n",
    "    print(\"\\n The number is negative \")\n",
    "else:\n",
    "    print(\"\\n The number is 0\")"
   ]
  },
  {
   "cell_type": "code",
   "execution_count": 50,
   "id": "b5cf2852",
   "metadata": {},
   "outputs": [
    {
     "name": "stdout",
     "output_type": "stream",
     "text": [
      "\n",
      " Enter the Age 14\n",
      "\n",
      " Teenager \n"
     ]
    }
   ],
   "source": [
    "#15. Create a program to check if a person is a teenager (between 13 and 19 years old).\n",
    "n=int(input(\"\\n Enter the Age \"))\n",
    "if n>=13 and n<=19:\n",
    "    print(\"\\n Teenager \")\n",
    "else:\n",
    "    print(\"\\n Not a Teenager \")"
   ]
  },
  {
   "cell_type": "code",
   "execution_count": 51,
   "id": "5ae3f2e8",
   "metadata": {},
   "outputs": [
    {
     "name": "stdout",
     "output_type": "stream",
     "text": [
      "\n",
      " Enter the angle 80\n",
      "\n",
      " Acute Angle \n"
     ]
    }
   ],
   "source": [
    "#16. Develop a program that determines the type of angle based on its measure (acute, obtuse, or right).\n",
    "#acute triangle is where three sides are less than 90 \n",
    "#obtuse triangle is whre three sides are greater than 90 \n",
    "# right triangle is where one side is 90 \n",
    "n=int(input(\"\\n Enter the angle \"))\n",
    "if n >90:\n",
    "    print(\"\\n Obtuse Angle \")\n",
    "elif n==90:\n",
    "    print(\"\\n Right Angle \")\n",
    "else:\n",
    "    print(\"\\n Acute Angle \")\n",
    "    \n"
   ]
  },
  {
   "cell_type": "code",
   "execution_count": 10,
   "id": "0fd95a3a",
   "metadata": {},
   "outputs": [
    {
     "name": "stdout",
     "output_type": "stream",
     "text": [
      "\n",
      " Finding the Quadratioc roots ax2+bx+c \n",
      "\n",
      " Enter the value of A 10\n",
      "\n",
      " Enter the value of B 20\n",
      "\n",
      " Enter the value of C 30\n",
      "\n",
      " d -800\n",
      "\n",
      " Roots are complex \n",
      "-100.0 -i 28.284271247461902\n",
      "-100.0 +i 28.284271247461902\n"
     ]
    },
    {
     "ename": "UnboundLocalError",
     "evalue": "local variable 'root1' referenced before assignment",
     "output_type": "error",
     "traceback": [
      "\u001b[1;31m---------------------------------------------------------------------------\u001b[0m",
      "\u001b[1;31mUnboundLocalError\u001b[0m                         Traceback (most recent call last)",
      "Input \u001b[1;32mIn [10]\u001b[0m, in \u001b[0;36m<cell line: 29>\u001b[1;34m()\u001b[0m\n\u001b[0;32m     27\u001b[0m b\u001b[38;5;241m=\u001b[39m\u001b[38;5;28mint\u001b[39m(\u001b[38;5;28minput\u001b[39m(\u001b[38;5;124m\"\u001b[39m\u001b[38;5;130;01m\\n\u001b[39;00m\u001b[38;5;124m Enter the value of B \u001b[39m\u001b[38;5;124m\"\u001b[39m))\n\u001b[0;32m     28\u001b[0m c\u001b[38;5;241m=\u001b[39m\u001b[38;5;28mint\u001b[39m(\u001b[38;5;28minput\u001b[39m(\u001b[38;5;124m\"\u001b[39m\u001b[38;5;130;01m\\n\u001b[39;00m\u001b[38;5;124m Enter the value of C \u001b[39m\u001b[38;5;124m\"\u001b[39m))\n\u001b[1;32m---> 29\u001b[0m \u001b[43mquad\u001b[49m\u001b[43m(\u001b[49m\u001b[43ma\u001b[49m\u001b[43m,\u001b[49m\u001b[43mb\u001b[49m\u001b[43m,\u001b[49m\u001b[43mc\u001b[49m\u001b[43m)\u001b[49m\n",
      "Input \u001b[1;32mIn [10]\u001b[0m, in \u001b[0;36mquad\u001b[1;34m(a, b, c)\u001b[0m\n\u001b[0;32m     19\u001b[0m         \u001b[38;5;28mprint\u001b[39m(real,\u001b[38;5;124m\"\u001b[39m\u001b[38;5;124m-i\u001b[39m\u001b[38;5;124m\"\u001b[39m,image)\n\u001b[0;32m     20\u001b[0m         \u001b[38;5;28mprint\u001b[39m(real,\u001b[38;5;124m\"\u001b[39m\u001b[38;5;124m+i\u001b[39m\u001b[38;5;124m\"\u001b[39m,image)\n\u001b[1;32m---> 21\u001b[0m \u001b[38;5;28mprint\u001b[39m(\u001b[38;5;124m\"\u001b[39m\u001b[38;5;130;01m\\n\u001b[39;00m\u001b[38;5;124m Root1 \u001b[39m\u001b[38;5;124m\"\u001b[39m,\u001b[43mroot1\u001b[49m)\n\u001b[0;32m     22\u001b[0m \u001b[38;5;28mprint\u001b[39m(\u001b[38;5;124m\"\u001b[39m\u001b[38;5;130;01m\\n\u001b[39;00m\u001b[38;5;124m Root2 \u001b[39m\u001b[38;5;124m\"\u001b[39m,root2)\n",
      "\u001b[1;31mUnboundLocalError\u001b[0m: local variable 'root1' referenced before assignment"
     ]
    }
   ],
   "source": [
    "#17. Write a Python program to calculate the roots of a quadratic equation.\n",
    "import math\n",
    "def quad(a,b,c):\n",
    "    d=(b**2)-(4*a*c)\n",
    "    print(\"\\n d\",d)\n",
    "    sd=math.sqrt(abs(d))\n",
    "    if d>0:\n",
    "        print(\"\\n Roots are real and different \")\n",
    "        root1=(-b+sd)/2*a\n",
    "        root2=(-b-sd)/2*a\n",
    "    else:\n",
    "        if d==0:\n",
    "            print(\"\\n Roots are real and same \")\n",
    "            root2=root1=(-b)/2*a\n",
    "        else:\n",
    "            print(\"\\n Roots are complex \")\n",
    "            real=-b/2*a\n",
    "            image=sd\n",
    "            print(real,\"-i\",image)\n",
    "            print(real,\"+i\",image)\n",
    "    print(\"\\n Root1 \",root1)\n",
    "    print(\"\\n Root2 \",root2)\n",
    "                \n",
    "            \n",
    "print(\"\\n Finding the Quadratioc roots ax2+bx+c \")\n",
    "a=int(input(\"\\n Enter the value of A \"))\n",
    "b=int(input(\"\\n Enter the value of B \"))\n",
    "c=int(input(\"\\n Enter the value of C \"))\n",
    "quad(a,b,c)\n"
   ]
  },
  {
   "cell_type": "code",
   "execution_count": 16,
   "id": "78ee3fba",
   "metadata": {},
   "outputs": [
    {
     "name": "stdout",
     "output_type": "stream",
     "text": [
      "\n",
      " Enter the Week Number1\n",
      "\n",
      " Monday \n"
     ]
    }
   ],
   "source": [
    "#18. Implement a program to determine the day of the week based on a user-provided number (1 for Monday, 2for Tuesday, etc.).\n",
    "\n",
    "n=int(input('\\n Enter the Week Number'))\n",
    "if n==1:\n",
    "    print(\"\\n Monday \")\n",
    "else:\n",
    "    if(n==2):\n",
    "        print(\"\\n Tuesday \")\n",
    "    else:\n",
    "        if(n==3):\n",
    "            print(\"\\n Wednesday \")\n",
    "        else:\n",
    "            if(n==4):\n",
    "                print(\"\\n Thrusday \")\n",
    "            else:\n",
    "                if(n==5):\n",
    "                    print(\"\\n Friday \")\n",
    "                else:\n",
    "                    if(n==6):\n",
    "                        print(\"\\n Saturday \")\n",
    "                    else:\n",
    "                        print(\"\\n Sunday \")"
   ]
  },
  {
   "cell_type": "code",
   "execution_count": 22,
   "id": "a41922ce",
   "metadata": {},
   "outputs": [
    {
     "name": "stdout",
     "output_type": "stream",
     "text": [
      "\n",
      " Enter the Year 2016\n",
      "\n",
      " Leap Year \n"
     ]
    }
   ],
   "source": [
    "#19. Create a program that determines if a year is a leap year and also if it is evenly divisible by 400.\n",
    "\n",
    "n=int(input(\"\\n Enter the Year \"))\n",
    "if n%100==0:\n",
    "    if n%400==0:\n",
    "        print(\"\\n Leap year and Centuray year \")\n",
    "    else:\n",
    "        print(\"\\n Only Century Year \")\n",
    "else:\n",
    "    if n%4==0:\n",
    "        print(\"\\n Leap Year \")\n",
    "    else:\n",
    "        print(\"\\n Not a leap year \")"
   ]
  },
  {
   "cell_type": "code",
   "execution_count": 31,
   "id": "08c4a306",
   "metadata": {},
   "outputs": [
    {
     "name": "stdout",
     "output_type": "stream",
     "text": [
      "\n",
      " Enter the Number 13\n",
      "\n",
      " Prime Number  13\n"
     ]
    }
   ],
   "source": [
    "#20. Develop a program that checks if a given number is prime or not using nested if-else statements.\n",
    "\n",
    "n=int(input(\"\\n Enter the Number \"))\n",
    "if n==0 or n==1:\n",
    "    print(\"\\n Composite Number\")\n",
    "else:\n",
    "    for i in range (2,int(n/2)+1):\n",
    "        if n%i==0:\n",
    "            print(\"\\n Not a prime \")\n",
    "            break\n",
    "    else:\n",
    "        print(\"\\n Prime Number \",n)"
   ]
  },
  {
   "cell_type": "code",
   "execution_count": 35,
   "id": "337c0ac7",
   "metadata": {},
   "outputs": [
    {
     "name": "stdout",
     "output_type": "stream",
     "text": [
      "\n",
      " Enter the Grade 72\n",
      "\n",
      " C grade \n"
     ]
    }
   ],
   "source": [
    "#21. Write a Python program to assign grades based on different ranges of scores using elif statements.\n",
    "n= int(input(\"\\n Enter the Grade \"))\n",
    "if n>90:\n",
    "    print(\"\\n A grade \")\n",
    "elif(n>80 and n<90):\n",
    "        print(\"\\n B grade \")\n",
    "elif(n>70 and n<80):\n",
    "        print(\"\\n C grade \")\n",
    "else:\n",
    "        print(\"\\n D grade \")"
   ]
  },
  {
   "cell_type": "code",
   "execution_count": 36,
   "id": "6101a42c",
   "metadata": {},
   "outputs": [
    {
     "name": "stdout",
     "output_type": "stream",
     "text": [
      "\n",
      " Enter the First Angle 20\n",
      "\n",
      " Enter the second Angle 30\n",
      "\n",
      " Enter the Third Angle 10\n",
      "\n",
      " Acute Angle Triangle \n"
     ]
    }
   ],
   "source": [
    "#22. Implement a program to determine the type of a triangle based on its angles.\n",
    "\n",
    "a1=int(input(\"\\n Enter the First Angle \"))\n",
    "a2=int(input(\"\\n Enter the second Angle \"))\n",
    "a3=int(input(\"\\n Enter the Third Angle \"))\n",
    "\n",
    "if a1==a2==a3:\n",
    "    print(\"\\n Equivlateral Triangle \")\n",
    "elif(a1> 90 or a2 >90 or a3>90 ):\n",
    "    print(\"\\n Obsolute Triangle \")\n",
    "elif( a1==90 or a2==90 or a3==90 ):\n",
    "    print(\"\\n Right angle Triangle \")\n",
    "elif((a1<90 and a2<90) or (a1<90 and a3<90) or (a2<90 and a3<90)):\n",
    "    print(\"\\n Acute Angle Triangle \")"
   ]
  },
  {
   "cell_type": "code",
   "execution_count": 39,
   "id": "a464c9bf",
   "metadata": {},
   "outputs": [
    {
     "name": "stdout",
     "output_type": "stream",
     "text": [
      "92\n",
      "5.8\n",
      "Underweight\n"
     ]
    }
   ],
   "source": [
    "#23. Develop a program to categorize a given person's BMI into underweight, normal, overweight, or obese using elif statements.\n",
    "\n",
    "weight = int(input());\n",
    "height = float(input());\n",
    "x = weight/float(height*height);\n",
    "if x < 18.5:\n",
    "    print('Underweight')\n",
    "if x>=18.5 and x<25:\n",
    "    print(\"Normal\")\n",
    "if x >= 25 and x < 30:\n",
    "    print('Overweight')\n",
    "if x >= 30:\n",
    "    print('Obesity')\n"
   ]
  },
  {
   "cell_type": "code",
   "execution_count": 41,
   "id": "ae794efc",
   "metadata": {},
   "outputs": [
    {
     "name": "stdout",
     "output_type": "stream",
     "text": [
      "\n",
      " Enter the Number 10\n",
      "\n",
      " +ve \n"
     ]
    }
   ],
   "source": [
    "#24. Create a program that determines whether a given number is positive, negative, or zero using elif statements.\n",
    "\n",
    "n=int(input(\"\\n Enter the Number \"))\n",
    "\n",
    "if n>0:\n",
    "    print(\"\\n +ve \")\n",
    "elif(n<0):\n",
    "        print(\"\\n -ve\")\n",
    "else:\n",
    "     print(\"\\n zero \")"
   ]
  },
  {
   "cell_type": "code",
   "execution_count": 48,
   "id": "bb2a9aec",
   "metadata": {},
   "outputs": [
    {
     "name": "stdout",
     "output_type": "stream",
     "text": [
      "\n",
      " Enter the character a\n",
      "a is an LowerCase character\n"
     ]
    }
   ],
   "source": [
    "#25. Write a Python script to determine the type of a character (uppercase, lowercase, or special) using elif statements.\n",
    "\n",
    "ch=input(\"\\n Enter the character \")\n",
    "if (ch >= 'A' and ch <= 'Z'):\n",
    "        print(ch,\"is an UpperCase character\");\n",
    "elif (ch >= 'a' and ch <= 'z'):\n",
    "        print(ch,\"is an LowerCase character\")\n",
    "else:\n",
    "        print(ch,\"is not an alphabetic character\");"
   ]
  },
  {
   "cell_type": "code",
   "execution_count": 51,
   "id": "45d36a7d",
   "metadata": {},
   "outputs": [
    {
     "name": "stdout",
     "output_type": "stream",
     "text": [
      "\n",
      " Enter the amount 15000\n",
      "\n",
      " Discount  13200.0\n"
     ]
    }
   ],
   "source": [
    "#26. Implement a program to calculate the discounted price based on different purchase amounts using elif statements.\n",
    "\n",
    "''' Amount          Discount\n",
    "    0-5000          5%\n",
    "    5000-15000      12%\n",
    "    15000-25000     20%\n",
    "    above 25000     30%'''\n",
    "    \n",
    "n=int(input(\"\\n Enter the amount \"))\n",
    "if n>=0 and n<=5000:\n",
    "    print(\"\\n Discount \",n*0.95)\n",
    "elif(n>=5000 and n<=15000):\n",
    "    print(\"\\n Discount \",n*0.88)\n",
    "elif(n>=15000 and n<=25000):\n",
    "    print(\"\\n Discount \",n*0.80)\n",
    "elif(n>25000):\n",
    "    print(\"\\n Discount \",n*0.70)"
   ]
  },
  {
   "cell_type": "code",
   "execution_count": 52,
   "id": "a8990137",
   "metadata": {},
   "outputs": [
    {
     "name": "stdout",
     "output_type": "stream",
     "text": [
      "3500\n"
     ]
    }
   ],
   "source": [
    "#27. Develop a program to calculate the electricity bill based on different consumption slabs using elif statements.\n",
    "\n",
    "# Function to calculate the \n",
    "# electricity bill \n",
    "def calculateBill(units):\n",
    "\n",
    "\t# Condition to find the charges \n",
    "\t# bar in which the units consumed \n",
    "\t# is fall \n",
    "\tif (units <= 100):\n",
    "\t\n",
    "\t\treturn units * 10; \n",
    "\t\n",
    "\telif (units <= 200):\n",
    "\t\n",
    "\t\treturn ((100 * 10) +\n",
    "\t\t\t\t(units - 100) * 15); \n",
    "\t\n",
    "\telif (units <= 300):\n",
    "\t\n",
    "\t\treturn ((100 * 10) +\n",
    "\t\t\t\t(100 * 15) +\n",
    "\t\t\t\t(units - 200) * 20); \n",
    "\t\n",
    "\telif (units > 300):\n",
    "\t\n",
    "\t\treturn ((100 * 10) +\n",
    "\t\t\t\t(100 * 15) +\n",
    "\t\t\t\t(100 * 20) +\n",
    "\t\t\t\t(units - 300) * 25); \n",
    "\t\n",
    "\treturn 0; \n",
    "\n",
    "# Driver Code \n",
    "units = 250; \n",
    "print(calculateBill(units)); \n",
    "\n",
    "# This code is contributed by Code_Mech\n"
   ]
  },
  {
   "cell_type": "code",
   "execution_count": 3,
   "id": "d109613b",
   "metadata": {},
   "outputs": [
    {
     "name": "stdout",
     "output_type": "stream",
     "text": [
      "\n",
      " side 1 1\n",
      "\n",
      " side 2 2\n",
      "\n",
      " side 3 1\n",
      "\n",
      " side 4 2\n",
      "\n",
      " angle 190\n",
      "\n",
      " angle 245\n",
      "\n",
      " angle 390\n",
      "\n",
      " angle 4120\n",
      "\n",
      " Paralleloram\n"
     ]
    }
   ],
   "source": [
    "#28. Create a program to determine the type of quadrilateral based on its angles and sides using elif statements.\n",
    "s1=int(input(\"\\n side 1 \"))\n",
    "s2=int(input(\"\\n side 2 \"))\n",
    "s3=int(input(\"\\n side 3 \"))\n",
    "s4=int(input(\"\\n side 4 \"))\n",
    "\n",
    "a1=int(input(\"\\n angle 1\"))\n",
    "a2=int(input(\"\\n angle 2\"))\n",
    "a3=int(input(\"\\n angle 3\"))\n",
    "a4=int(input(\"\\n angle 4\"))\n",
    "\n",
    "\n",
    "if(s1==s2==s3==s4 and (a1==a2==a3==a4==90)):\n",
    "    print(\"\\n square \")\n",
    "elif(s1==s2==s3==s4 ):\n",
    "    print(\"\\n Rohmbus \")\n",
    "elif((s1==s2 or s2==s4 )and (a1==a3 or a2==a4)):\n",
    "    print(\"\\n Paralleloram\")\n",
    "elif((s1==s2 or s2==s4 ) and a1==a3==a4==a2==90):\n",
    "    print(\"\\n Rectangle\")\n",
    "\n",
    "\n"
   ]
  },
  {
   "cell_type": "code",
   "execution_count": 4,
   "id": "111a68ad",
   "metadata": {},
   "outputs": [
    {
     "name": "stdout",
     "output_type": "stream",
     "text": [
      "\n",
      " Enter the Season Number 3\n",
      "\n",
      " Spring \n"
     ]
    }
   ],
   "source": [
    "#29. Write a Python script to determine the season based on a user-provided month using elif statements.\n",
    "\n",
    "n=int(input(\"\\n Enter the Season Number \"))\n",
    "if n>=3 and n<=5:\n",
    "    print(\"\\n Spring \")\n",
    "elif n>=6 and n<=8:\n",
    "    print(\"\\n Summer \")\n",
    "elif n>=9 and n<=11:\n",
    "    print(\"\\n Autum \")\n",
    "else:\n",
    "    print(\"\\n Winters \")"
   ]
  },
  {
   "cell_type": "code",
   "execution_count": 6,
   "id": "ca3e1a28",
   "metadata": {},
   "outputs": [
    {
     "name": "stdout",
     "output_type": "stream",
     "text": [
      "\n",
      " Enter the year 212\n",
      "\n",
      " Leap Year \n"
     ]
    }
   ],
   "source": [
    "#30. Implement a program to determine the type of a year (leap or common) and month (30 or 31 days) using elif statements.\n",
    "\n",
    "n=int(input(\"\\n Enter the year \"))\n",
    "if n % 4==0:\n",
    "    print(\"\\n Leap Year \")\n",
    "else:\n",
    "    print(\"\\n Not a Leap year \")\n",
    "    "
   ]
  },
  {
   "cell_type": "code",
   "execution_count": 7,
   "id": "fa4e8a7e",
   "metadata": {},
   "outputs": [
    {
     "name": "stdout",
     "output_type": "stream",
     "text": [
      "\n",
      " Enter the number 2\n",
      "\n",
      " The Number is positive \n"
     ]
    }
   ],
   "source": [
    "#1. Write a Python program that checks if a given number is positive, negative, or zero.\n",
    "\n",
    "\n",
    "n=int(input(\"\\n Enter the number \"))\n",
    "if(n>0):\n",
    "    print(\"\\n The Number is positive \")\n",
    "elif(n==0):\n",
    "    print(\"\\n The Number is Zero\")\n",
    "else:\n",
    "    print(\"\\n The Number is Negative \")"
   ]
  },
  {
   "cell_type": "code",
   "execution_count": 8,
   "id": "607c32c5",
   "metadata": {},
   "outputs": [
    {
     "name": "stdout",
     "output_type": "stream",
     "text": [
      "\n",
      " Enter the Age 17\n",
      "\n",
      " You are not eligble for voting \n"
     ]
    }
   ],
   "source": [
    "#2. Create a program to determine if a person is eligible to vote based on their age.\n",
    "\n",
    "n=int(input(\"\\n Enter the Age \"))\n",
    "if(n>=18):\n",
    "    print(\"\\n Your Ok to Vote \")\n",
    "else:\n",
    "    print(\"\\n You are not eligble for voting \")\n"
   ]
  },
  {
   "cell_type": "code",
   "execution_count": 9,
   "id": "2ef00343",
   "metadata": {},
   "outputs": [
    {
     "name": "stdout",
     "output_type": "stream",
     "text": [
      "\n",
      " Enter the Number 1 :2\n",
      "\n",
      " Enter the Number 2 :3\n",
      "\n",
      " The Number 2 is greater than Number 1 \n"
     ]
    }
   ],
   "source": [
    "#3. Develop a program to find the maximum of two numbers using if-else statements.\n",
    "\n",
    "n1=int(input(\"\\n Enter the Number 1 :\"))\n",
    "n2=int(input(\"\\n Enter the Number 2 :\"))\n",
    "\n",
    "if n1>n2:\n",
    "    print(\"\\n The Number 1 is greater than Number 2 \")\n",
    "else:\n",
    "    print(\"\\n The Number 2 is greater than Number 1 \")"
   ]
  },
  {
   "cell_type": "code",
   "execution_count": 10,
   "id": "c937503d",
   "metadata": {},
   "outputs": [
    {
     "name": "stdout",
     "output_type": "stream",
     "text": [
      "\n",
      " Enter the Grade 100\n",
      "\n",
      " A grade \n"
     ]
    }
   ],
   "source": [
    "#4. Write a Python program to assign grades based on different ranges of scores using elif statements.\n",
    "n= int(input(\"\\n Enter the Grade \"))\n",
    "if n>90:\n",
    "    print(\"\\n A grade \")\n",
    "elif(n>80 and n<90):\n",
    "        print(\"\\n B grade \")\n",
    "elif(n>70 and n<80):\n",
    "        print(\"\\n C grade \")\n",
    "else:\n",
    "        print(\"\\n D grade \")"
   ]
  },
  {
   "cell_type": "code",
   "execution_count": 11,
   "id": "4c2a5948",
   "metadata": {},
   "outputs": [
    {
     "name": "stdout",
     "output_type": "stream",
     "text": [
      "\n",
      " Enter the Year 2022\n",
      "\n",
      " The Year is not a Leap Year \n"
     ]
    }
   ],
   "source": [
    "#5. Write a Python script to classify a given year as a leap year or not.\n",
    "\n",
    "n=int(input(\"\\n Enter the Year \"))\n",
    "if (n % 400==0) or (n%4==0 and n%100!=0):\n",
    "    print(\"\\n The Year is Leap Year \")\n",
    "else:\n",
    "    print(\"\\n The Year is not a Leap Year \")\n"
   ]
  },
  {
   "cell_type": "code",
   "execution_count": 12,
   "id": "043edb7e",
   "metadata": {},
   "outputs": [
    {
     "name": "stdout",
     "output_type": "stream",
     "text": [
      "\n",
      " Enter the first side of Triangle 2\n",
      "\n",
      " Enter the second side of Triangle 2\n",
      "\n",
      " Enter the third side of Triangle 3\n",
      "\n",
      " Isoceles Triangle \n"
     ]
    }
   ],
   "source": [
    "#6. Implement a program to determine if a triangle is equilateral, isosceles, or scalene.\n",
    "x=int(input(\"\\n Enter the first side of Triangle \"))\n",
    "y=int(input(\"\\n Enter the second side of Triangle \"))\n",
    "z=int(input(\"\\n Enter the third side of Triangle \"))\n",
    "if x==y==z:\n",
    "    print(\"\\n Equilateral Triangle \")\n",
    "elif x==y or y==z or z==x:\n",
    "    print(\"\\n Isoceles Triangle \")\n",
    "else:\n",
    "    print(\"\\n scalen Triangle \")\n",
    "    "
   ]
  },
  {
   "cell_type": "code",
   "execution_count": 13,
   "id": "66eb25f2",
   "metadata": {},
   "outputs": [
    {
     "name": "stdout",
     "output_type": "stream",
     "text": [
      "\n",
      " Enter the First Number 2\n",
      "\n",
      " Enter the Second Number 3\n",
      "\n",
      " Enter the Third Number 4\n",
      "\n",
      " The Number3 is Greater of them all \n"
     ]
    }
   ],
   "source": [
    "#7 Develop a program that determines the largest of three given numbers using if-else statements.\n",
    "\n",
    "N1=int(input(\"\\n Enter the First Number \"))\n",
    "N2=int(input(\"\\n Enter the Second Number \"))\n",
    "N3=int(input(\"\\n Enter the Third Number \"))\n",
    "\n",
    "if N1 >N2 and N1>N3:\n",
    "    print('\\n The Number1 is Greater of them all ')\n",
    "elif N2>N1 and N2>N3:\n",
    "    print(\"\\n The Number2 is Greater of them all \")\n",
    "else:\n",
    "    print(\"\\n The Number3 is Greater of them all \")"
   ]
  },
  {
   "cell_type": "code",
   "execution_count": 15,
   "id": "4c5d931c",
   "metadata": {},
   "outputs": [
    {
     "name": "stdout",
     "output_type": "stream",
     "text": [
      "\n",
      " Enter the Character e\n",
      "\n",
      "  Vowel \n"
     ]
    }
   ],
   "source": [
    "##8. Create a program that checks whether a character is a vowel or a consonant.\n",
    "v=['a','e','i','o','u','A','E','I','O','U']\n",
    "n=input(\"\\n Enter the Character \")\n",
    "if n in v:\n",
    "    print(\"\\n  Vowel \")\n",
    "else:\n",
    "    print(\"\\n Not vowel\")"
   ]
  },
  {
   "cell_type": "code",
   "execution_count": 16,
   "id": "7c1a0e1c",
   "metadata": {},
   "outputs": [
    {
     "name": "stdout",
     "output_type": "stream",
     "text": [
      "\n",
      " Enter the amount 100000\n",
      "\n",
      " Discount  70000.0\n"
     ]
    }
   ],
   "source": [
    "#9. Create a program to calculate the total cost of a shopping cart based on discounts.\n",
    "#26. Implement a program to calculate the discounted price based on different purchase amounts using elif statements.\n",
    "\n",
    "''' Amount          Discount\n",
    "    0-5000          5%\n",
    "    5000-15000      12%\n",
    "    15000-25000     20%\n",
    "    above 25000     30%'''\n",
    "    \n",
    "n=int(input(\"\\n Enter the amount \"))\n",
    "if n>=0 and n<=5000:\n",
    "    print(\"\\n Discount \",n*0.95)\n",
    "elif(n>=5000 and n<=15000):\n",
    "    print(\"\\n Discount \",n*0.88)\n",
    "elif(n>=15000 and n<=25000):\n",
    "    print(\"\\n Discount \",n*0.80)\n",
    "elif(n>25000):\n",
    "    print(\"\\n Discount \",n*0.70)"
   ]
  },
  {
   "cell_type": "code",
   "execution_count": 17,
   "id": "41e9fda8",
   "metadata": {},
   "outputs": [
    {
     "name": "stdout",
     "output_type": "stream",
     "text": [
      "\n",
      " Enter the Number 2\n",
      "\n",
      " The Number is Even \n"
     ]
    }
   ],
   "source": [
    "#10. Implement a program to determine whether a given number is even or odd.\n",
    "\n",
    "n=int(input(\"\\n Enter the Number \"))\n",
    "if n%2==0:\n",
    "    print(\"\\n The Number is Even \")\n",
    "else:\n",
    "    print(\"\\n The Number is odd \")"
   ]
  },
  {
   "cell_type": "code",
   "execution_count": 23,
   "id": "be452798",
   "metadata": {},
   "outputs": [
    {
     "name": "stdout",
     "output_type": "stream",
     "text": [
      "\n",
      " calculating ax2+bx+c=0\n",
      "\n",
      " Enter the A 1\n",
      "\n",
      " Enter the B 2\n",
      "\n",
      " Enter the C 3\n",
      "\n",
      " Roots are complex \n",
      "-1.0 +i 2.8284271247461903\n",
      "-1.0 -i 2.8284271247461903\n"
     ]
    }
   ],
   "source": [
    "#11. Write a program that calculates the roots of a quadratic equation .\n",
    "import math\n",
    "\n",
    "print(\"\\n calculating ax2+bx+c=0\")\n",
    "a=int(input(\"\\n Enter the A \"))\n",
    "b=int(input(\"\\n Enter the B \"))\n",
    "c=int(input(\"\\n Enter the C \"))\n",
    "\n",
    "d=(b**2)-4*a*c\n",
    "sq=math.sqrt(abs(d))\n",
    "\n",
    "if d==0:\n",
    "    print(\"\\n Roots are real and same \")\n",
    "    root1=root2=-b/4*a*c\n",
    "    print(f\"\\n Root1 and Root2 are {root1} and {root2}\")\n",
    "elif(d>0):\n",
    "    print(\"\\n Roots are real and different \")\n",
    "    root1=(-b+sq)/2*a\n",
    "    root2=(-b-sq)/2*a\n",
    "    print(f\"\\n Root1 and Root2 are {root1} and {root2}\")\n",
    "elif(d<0):\n",
    "    print(\"\\n Roots are complex \")\n",
    "    real=-b/2*a\n",
    "    image=sq\n",
    "    print(real,\"+i\",image)\n",
    "    print(real,\"-i\",image)\n",
    "    \n",
    "    \n"
   ]
  },
  {
   "cell_type": "code",
   "execution_count": 24,
   "id": "b78461fa",
   "metadata": {},
   "outputs": [
    {
     "name": "stdout",
     "output_type": "stream",
     "text": [
      "\n",
      " Enter the Week Number2\n",
      "\n",
      " Tuesday \n"
     ]
    }
   ],
   "source": [
    "#12. Create a program that determines the day of the week based on the day number (1-7).\n",
    "\n",
    "\n",
    "n=int(input('\\n Enter the Week Number'))\n",
    "if n==1:\n",
    "    print(\"\\n Monday \")\n",
    "else:\n",
    "    if(n==2):\n",
    "        print(\"\\n Tuesday \")\n",
    "    else:\n",
    "        if(n==3):\n",
    "            print(\"\\n Wednesday \")\n",
    "        else:\n",
    "            if(n==4):\n",
    "                print(\"\\n Thrusday \")\n",
    "            else:\n",
    "                if(n==5):\n",
    "                    print(\"\\n Friday \")\n",
    "                else:\n",
    "                    if(n==6):\n",
    "                        print(\"\\n Saturday \")\n",
    "                    else:\n",
    "                        print(\"\\n Sunday \")"
   ]
  },
  {
   "cell_type": "code",
   "execution_count": 26,
   "id": "e07ab399",
   "metadata": {},
   "outputs": [
    {
     "name": "stdout",
     "output_type": "stream",
     "text": [
      "\n",
      " Enter the Number  5\n"
     ]
    },
    {
     "data": {
      "text/plain": [
       "120"
      ]
     },
     "execution_count": 26,
     "metadata": {},
     "output_type": "execute_result"
    }
   ],
   "source": [
    "#13. Develop a program that calculates the factorial of a given number using recursion.\n",
    "\n",
    "n=int(input(\"\\n Enter the Number  \"))\n",
    "def f(n):\n",
    "    if n==1 or n==0:\n",
    "        return 1\n",
    "    else:\n",
    "        return n * f(n-1)\n",
    "f(n)\n",
    "\n"
   ]
  },
  {
   "cell_type": "code",
   "execution_count": 27,
   "id": "0ceea597",
   "metadata": {},
   "outputs": [
    {
     "name": "stdout",
     "output_type": "stream",
     "text": [
      "\n",
      " Enter the First Number 2\n",
      "\n",
      " Enter the Second Number 3\n",
      "\n",
      " Enter the Third Number 2\n",
      "\n",
      " The Number2 is Greater of them all \n"
     ]
    }
   ],
   "source": [
    "#14. Develop a program that determines the largest of three given numbers using if-else statements.\n",
    "\n",
    "N1=int(input(\"\\n Enter the First Number \"))\n",
    "N2=int(input(\"\\n Enter the Second Number \"))\n",
    "N3=int(input(\"\\n Enter the Third Number \"))\n",
    "\n",
    "if N1 >N2 and N1>N3:\n",
    "    print('\\n The Number1 is Greater of them all ')\n",
    "elif N2>N1 and N2>N3:\n",
    "    print(\"\\n The Number2 is Greater of them all \")\n",
    "else:\n",
    "    print(\"\\n The Number3 is Greater of them all \")"
   ]
  },
  {
   "cell_type": "code",
   "execution_count": 31,
   "id": "e29ab612",
   "metadata": {},
   "outputs": [
    {
     "name": "stdout",
     "output_type": "stream",
     "text": [
      "\n",
      " *** ATM Code ***\n",
      "\n",
      " Enter the Amount 2000\n",
      "\n",
      " Enter the pin 2500\n",
      "\n",
      " Amount dispersed collect your Amount  2000\n"
     ]
    }
   ],
   "source": [
    "#15. Create a program that simulates a basic ATM transaction menu.\n",
    "\n",
    "print(\"\\n *** ATM Code ***\")\n",
    "n=25000\n",
    "n2=int(input(\"\\n Enter the Amount \"))\n",
    "pin=2500\n",
    "pin2=int(input(\"\\n Enter the pin \"))\n",
    "\n",
    "if pin==pin2:\n",
    "    if n2>n:\n",
    "        print(\"\\n Low Balance \")\n",
    "    else:\n",
    "        print(\"\\n Amount dispersed collect your Amount \",n2)"
   ]
  },
  {
   "cell_type": "code",
   "execution_count": 33,
   "id": "23fe91c8",
   "metadata": {},
   "outputs": [
    {
     "name": "stdout",
     "output_type": "stream",
     "text": [
      "\n",
      " Enter the string naman\n",
      "\n",
      " palindrome \n"
     ]
    }
   ],
   "source": [
    "#16. Build a program that checks if a given string is a palindrome or not.\n",
    "s=input(\"\\n Enter the string \")\n",
    "if s==s[::-1]:\n",
    "    print(\"\\n palindrome \")\n",
    "else:\n",
    "    print(\"\\n Not palindrome \")"
   ]
  },
  {
   "cell_type": "code",
   "execution_count": 37,
   "id": "7b0de666",
   "metadata": {},
   "outputs": [
    {
     "name": "stdout",
     "output_type": "stream",
     "text": [
      "\n",
      " Average  4.5\n"
     ]
    }
   ],
   "source": [
    "#17. Write a program that calculates the average of a list of numbers, excluding the smallest and largest values.\n",
    "\n",
    "l=[1,2,3,4,5,6,7,8]\n",
    "l.remove(max(l))\n",
    "l.remove(min(l))\n",
    "print(\"\\n Average \",sum(l)/len(l))\n"
   ]
  },
  {
   "cell_type": "code",
   "execution_count": 38,
   "id": "cd2c7ee5",
   "metadata": {},
   "outputs": [
    {
     "name": "stdout",
     "output_type": "stream",
     "text": [
      "\n",
      " Enter the Celsius 2\n",
      "\n",
      " Farenheight : 35.6\n"
     ]
    }
   ],
   "source": [
    "#18. Develop a program that converts a given temperature from Celsius to Fahrenheit.\n",
    "c=int(input(\"\\n Enter the Celsius \"))\n",
    "f=(c*9/5)+32\n",
    "print(\"\\n Farenheight :\",f)\n"
   ]
  },
  {
   "cell_type": "code",
   "execution_count": 40,
   "id": "f7d19e9f",
   "metadata": {},
   "outputs": [
    {
     "name": "stdout",
     "output_type": "stream",
     "text": [
      "\n",
      " Enter the Number 4\n",
      "\n",
      " Enter the Second Number2\n",
      "\n",
      " Addition  6\n",
      "\n",
      " Subtraction  2\n",
      "\n",
      " Multiply  8\n",
      "\n",
      " Division  2.0\n"
     ]
    }
   ],
   "source": [
    "#19. Create a program that simulates a basic calculator for addition, subtraction, multiplication, and division.\n",
    "\n",
    "a=int(input(\"\\n Enter the Number \"))\n",
    "b=int(input(\"\\n Enter the Second Number\"))\n",
    "\n",
    "print(\"\\n Addition \",a+b)\n",
    "print(\"\\n Subtraction \",a-b)\n",
    "print(\"\\n Multiply \",a*b)\n",
    "print(\"\\n Division \",a/b)"
   ]
  },
  {
   "cell_type": "code",
   "execution_count": 41,
   "id": "89655e3c",
   "metadata": {},
   "outputs": [
    {
     "name": "stdout",
     "output_type": "stream",
     "text": [
      "x^3 -  10 x^2 +  31 x -  30  = 0\n"
     ]
    }
   ],
   "source": [
    "#20. Write a program that determines the roots of a cubic equation using the Cardano formula.\n",
    "def findEquation(a, b, c):\n",
    "     \n",
    "    # Find the value of coefficient\n",
    "    X = (a + b + c);\n",
    "    Y = (a * b) + (b * c) + (c * a);\n",
    "    Z = (a * b * c);\n",
    " \n",
    "    # Print the equation as per the\n",
    "    # above coefficients\n",
    "    print(\"x^3 - \" , X ,\n",
    "          \"x^2 + \" ,Y ,\n",
    "          \"x - \" , Z , \" = 0\");\n",
    " \n",
    "\n",
    "\n",
    "     \n",
    "a = 5;\n",
    "b = 2;\n",
    "c = 3;\n",
    " \n",
    "    # Function Call\n",
    "findEquation(a, b, c);\n",
    " \n"
   ]
  },
  {
   "cell_type": "code",
   "execution_count": 44,
   "id": "bf7eeab3",
   "metadata": {},
   "outputs": [
    {
     "name": "stdout",
     "output_type": "stream",
     "text": [
      "What's your \u0007nnual income?\n",
      ">>> 250000\n",
      "Total tax applicable at \\₹250000.0 is ₹0\n"
     ]
    }
   ],
   "source": [
    "#21. Create a program that calculates the income tax based on the user's income and tax brackets.\n",
    "def calculate(amount, percent): \n",
    "\treturn (amount * percent) / 100\n",
    "\n",
    "def calculate_income_tax(total_income: \n",
    "\t\t\t\t\t\tfloat) -> float: \n",
    "\n",
    "\tif total_income <= 250000: \n",
    "\t\treturn 0\n",
    "\telif total_income <= 500000: \n",
    "\t\treturn calculate(total_income -\n",
    "\t\t\t\t\t\t250000, 5) \n",
    "\telif total_income <= 750000: \n",
    "\t\treturn calculate(total_income -\n",
    "\t\t\t\t\t\t500000, 10) + 12500\n",
    "\telif total_income <= 1000000: \n",
    "\t\treturn calculate(total_income -\n",
    "\t\t\t\t\t\t750000, 15) + 37500\n",
    "\telif total_income <= 1250000: \n",
    "\t\treturn calculate(total_income -\n",
    "\t\t\t\t\t\t1000000, 20) + 75000\n",
    "\telif total_income <= 1500000: \n",
    "\t\treturn calculate(total_income -\n",
    "\t\t\t\t\t\t1250000, 25) + 125000\n",
    "\telse: \n",
    "\t\treturn calculate(total_income -\n",
    "\t\t\t\t\t\t1500000, 30) + 187500\n",
    "\n",
    "\n",
    "if __name__ == '__main__': \n",
    "\ttotal_income = float(input(\"What's your \\annual income?\\n>>> \")) \n",
    "\ttax = calculate_income_tax(total_income) \n",
    "\tprint(f\"Total tax applicable at \\₹{total_income} is ₹{tax}\") \n"
   ]
  },
  {
   "cell_type": "code",
   "execution_count": 50,
   "id": "435deb80",
   "metadata": {},
   "outputs": [
    {
     "name": "stdout",
     "output_type": "stream",
     "text": [
      "\n",
      " Enter Rock r Paper p Scissors s s\n",
      "\n",
      " computer win  r\n"
     ]
    }
   ],
   "source": [
    "#22. Write a program that simulates a rock-paper-scissors game against the computer.\n",
    "import random\n",
    "n=input(\"\\n Enter Rock r Paper p Scissors s \")\n",
    "l=['r','p','s']\n",
    "c=random.choice(l)#computer\n",
    "\n",
    "if c==n:\n",
    "    print(\"\\n Tie \")\n",
    "if n=='s':\n",
    "    if c=='p':\n",
    "        print(\"\\n you win \")\n",
    "    else:\n",
    "        print(\"\\n computer win \",c)\n",
    "elif n=='r':\n",
    "    if c=='s':\n",
    "        print(\"\\n You win \")\n",
    "    else:\n",
    "        print('computer win ',c)\n",
    "        \n",
    "elif n=='p':\n",
    "    if c=='r':\n",
    "        print(\"\\n you win \")\n",
    "    else:\n",
    "        print('\\n computer win',c)"
   ]
  },
  {
   "cell_type": "code",
   "execution_count": 14,
   "id": "0d7918f4",
   "metadata": {},
   "outputs": [
    {
     "name": "stdout",
     "output_type": "stream",
     "text": [
      "\n",
      " Enter the length of password 9\n",
      "\n",
      " press 1 Digit \n",
      " 2 Alphabets \n",
      " 3 special characters \n",
      "\n",
      " enter the choice 1\n",
      "\n",
      " enter the choice 2\n",
      "\n",
      " enter the choice 3\n",
      "\n",
      " enter the choice 4\n",
      "\n",
      " exit \n",
      "\n",
      "char string\t 0123456789abcdefghijklmnopqrstuvwxyzABCDEFGHIJKLMNOPQRSTUVWXYZ!\"#$%&'()*+,-./:;<=>?@[\\]^_`{|}~\n",
      "\n",
      " yes\n",
      "r L\n",
      "\n",
      " yes\n",
      "r Y\n",
      "\n",
      " yes\n",
      "r o\n",
      "\n",
      " yes\n",
      "r +\n",
      "\n",
      " yes\n",
      "r V\n",
      "\n",
      " yes\n",
      "r $\n",
      "\n",
      " yes\n",
      "r R\n",
      "\n",
      " yes\n",
      "r [\n",
      "\n",
      " yes\n",
      "r A\n",
      "\n",
      " Password  LYo+V$R[A\n"
     ]
    }
   ],
   "source": [
    "#23. Develop a program that generates a random password based on user preferences (length, complexity).\n",
    "\n",
    "import string \n",
    "import random\n",
    "\n",
    "l=int(input(\"\\n Enter the length of password \"))\n",
    "print(\"\\n press 1 Digit \\n 2 Alphabets \\n 3 special characters \")\n",
    "charstring=\"\"\n",
    "l2=[]\n",
    "while(True):\n",
    "    c=int(input('\\n enter the choice '))\n",
    "    if c==1:\n",
    "        charstring+=string.digits\n",
    "    elif c==2:\n",
    "        charstring+=string.ascii_letters\n",
    "    elif c==3:\n",
    "        charstring+=string.punctuation\n",
    "    elif(c==4):\n",
    "        print(\"\\n exit \")\n",
    "        break\n",
    "\n",
    "print(\"\\nchar string\\t\",charstring)\n",
    "for i in range(l):\n",
    "    print(\"\\n yes\")\n",
    "    r=random.choice(charstring)\n",
    "    print(\"r\",r)  \n",
    "    l2.append(r)\n",
    "    passs=\"\".join(l2)\n",
    "print(\"\\n Password \",passs)"
   ]
  },
  {
   "cell_type": "code",
   "execution_count": 15,
   "id": "4b8e4b3c",
   "metadata": {},
   "outputs": [
    {
     "name": "stdout",
     "output_type": "stream",
     "text": [
      "WELCOME TO THE ADVENTURE GAME!\n",
      "        Let's start the action! ☆-🎬-☆\n",
      " \n",
      "        Lily wakes up in her bedroom in the middle of the night. She heard a loud BAN outside the house.\n",
      "        Now she has two choices she can either stay in the room or check what the sound might be about.\n",
      " \n",
      "        Type your choice: Stay or Evaluate?\n",
      "    \n",
      "stay\n",
      "\n",
      "Lily decides to stay in the room and ends up staying inside forever as noone seems to come to help her.\n",
      "\n",
      "\n",
      "\n",
      "=================================END OF CHAPTER 1=================================\n"
     ]
    }
   ],
   "source": [
    "#24. Create a program that implements a simple text-based adventure game with branching scenarios.\n",
    "\n",
    "\n",
    "def scene1():\n",
    "    import time\n",
    "    print(\"\"\"WELCOME TO THE ADVENTURE GAME!\n",
    "        Let's start the action! ☆-🎬-☆\n",
    " \n",
    "        Lily wakes up in her bedroom in the middle of the night. She heard a loud BAN outside the house.\n",
    "        Now she has two choices she can either stay in the room or check what the sound might be about.\n",
    " \n",
    "        Type your choice: Stay or Evaluate?\n",
    "    \"\"\")\n",
    " \n",
    "    c1 = input()\n",
    "    time.sleep(2)\n",
    "    ans = 'incorrect'\n",
    "    while(ans=='incorrect'):\n",
    "        if(c1.upper()==\"STAY\"):\n",
    "            print(\"\\nLily decides to stay in the room and ends up staying inside forever as noone seems to come to help her.\")\n",
    "            ans = 'correct'\n",
    "        elif(c1.upper()==\"EVALUATE\"):\n",
    "            print(\"Lily exits the room silently and reaches the main hall.\")\n",
    "            ans='correct'\n",
    "            scene2()\n",
    "        else:\n",
    "            print(\"ENTER THE CORRECT CHOICE! Stay or Evaluate?\")\n",
    "            c1 = input()\n",
    "    \n",
    "\n",
    "def scene2():\n",
    "    import time\n",
    "    print(\"\"\"\n",
    "            In the main hall, she finds a strange but cute teddy bear on the floor. \n",
    "            She wanted to pick the teddy up. \n",
    "            But should she? It doesn't belong to her. (•˳̂•̆)\n",
    " \n",
    "            Type your choice: Pick or Ignore?\n",
    " \n",
    "            \"\"\")\n",
    "    time.sleep(2)\n",
    "    c1 = input()\n",
    "    ans = 'incorrect'\n",
    "    while(ans=='incorrect'):\n",
    "        if(c1.upper()==\"PICK\"):\n",
    "            print(\"\"\"\\nThe moment Lily picked up the the teddy bear. The Teddy bear starts TALKING!The bear tells Lily that she is in grave danger as there is a monster in the house.And the monster has captured her PARENTS as well!But he hugged her and told her not to get scared as he knows how to beat the moster!\"\"\")\n",
    "            time.sleep(2)\n",
    "            print(\"\"\"\\nThe bear handed lily a magical potion which can weaken the moster and make him run away!He handed her the potion and then DISAPPEARED!Lily moved forward.\"\"\")\n",
    "            ans = 'correct'\n",
    "            pick=\"True\"\n",
    "        elif(c1.upper()=='IGNORE'):\n",
    "            print(\"\"\"\\nLily decided not to pick up the bear and walked forward.\"\"\")\n",
    "            ans='correct'\n",
    "            pick=\"False\"\n",
    "        else:\n",
    "            print(\"Wrong Input! Enter pick or ignore?\")\n",
    "            c1=input()\n",
    "    time.sleep(2)\n",
    "    scene3(pick)\n",
    "    \n",
    "\n",
    "def scene3(pick_value):\n",
    "    import time\n",
    "    print(\"\"\"\\n\\nAfter walking for a while, Lily saw the MONSTOR in front of her!\n",
    "    It had red eyes and evil looks. She got very scared! \"\"\")\n",
    "    time.sleep(2)\n",
    "    if(pick_value==\"True\"):\n",
    "        time.sleep(2)\n",
    "        print(\"\"\"But then she remembered! She had the magic portion and she threw it on the moster!\n",
    "              Well she had nothing to lose!\"\"\")\n",
    "        time.sleep(2)\n",
    "        print(\"\\n The monster SCREAMED in pain but he managed to make a portal and pushed Lily to a new world!\")\n",
    "    elif(pick_value==\"False\"):\n",
    "        print(\"The monster attacked Lily and hurt her! She was then thrown to the new world by the monster!\")\n",
    "\n",
    "scene1()\n",
    "print(\"\\n\\n\")\n",
    "print(\"=================================END OF CHAPTER 1=================================\")\n"
   ]
  },
  {
   "cell_type": "code",
   "execution_count": 16,
   "id": "1fea45b1",
   "metadata": {},
   "outputs": [
    {
     "name": "stdout",
     "output_type": "stream",
     "text": [
      "Equation 1:\n",
      "Eq(x + y, 1)\n",
      "Equation 2\n",
      "Eq(x - y, 1)\n",
      "Values of 2 unknown variable are as follows:\n",
      "{x: 1, y: 0}\n"
     ]
    }
   ],
   "source": [
    "#25. Build a program that solves a linear equation for x, considering different cases.\n",
    "\n",
    "from sympy import symbols, Eq, solve \n",
    "  \n",
    "# defining symbols used in equations \n",
    "# or unknown variables \n",
    "x, y = symbols('x,y') \n",
    "  \n",
    "# defining equations \n",
    "eq1 = Eq((x+y), 1) \n",
    "print(\"Equation 1:\") \n",
    "print(eq1) \n",
    "eq2 = Eq((x-y), 1) \n",
    "print(\"Equation 2\") \n",
    "print(eq2) \n",
    "  \n",
    "# solving the equation \n",
    "print(\"Values of 2 unknown variable are as follows:\") \n",
    "  \n",
    "print(solve((eq1, eq2), (x, y)))"
   ]
  },
  {
   "cell_type": "code",
   "execution_count": 17,
   "id": "3125006a",
   "metadata": {},
   "outputs": [
    {
     "name": "stdout",
     "output_type": "stream",
     "text": [
      "Wellcome to quiz game !!\n",
      "NOTE: if your spelling is incorrect then it is considered as wrong answer\n",
      "Do you want to play ? yes\n",
      "\n",
      "1. what does CPU stand for? cpu\n",
      "Incorrect!\n",
      "current answer is --> central processing unit\n",
      "\n",
      "2. what does GPU stand for? gpu\n",
      "Incorrect!\n",
      "current answer is --> graphics processing unit\n",
      "\n",
      "3. what does RAM stand for? random access memory\n",
      "correct! you got 1 point\n",
      "\n",
      "4. what does PSU stand for? t\n",
      "Incorrect!\n",
      "current answer is --> power supply unit\n",
      "\n",
      "5. what does ROM stand for? \n",
      "Incorrect!\n",
      "current answer is --> read only memory\n",
      "\n",
      "number of question is 5\n",
      "your score is 1\n",
      "20.0% questions are correct.\n"
     ]
    }
   ],
   "source": [
    "#26. Write a program that simulates a basic quiz game with multiple-choice questions and scoring.\n",
    "print(\"Wellcome to quiz game !!\")\n",
    "print('NOTE: if your spelling is incorrect then it is considered as wrong answer')\n",
    "score = 0\n",
    "question_no = 0\n",
    "playing = input('Do you want to play ? ').lower()\n",
    "if playing == 'yes':\n",
    "    question_no += 1\n",
    "    ques = input(f'\\n{question_no}. what does CPU stand for? ').lower()\n",
    "    if ques == 'central processing unit':\n",
    "        score +=1\n",
    "        print('correct! you got 1 point')\n",
    "        \n",
    "    else:\n",
    "        print('Incorrect!')\n",
    "        print(f'current answer is --> central processing unit')\n",
    "\n",
    "# ------1\n",
    "    question_no += 1\n",
    "    ques = input(f'\\n{question_no}. what does GPU stand for? ').lower()\n",
    "    \n",
    "    if ques == 'graphics processing unit':\n",
    "        score +=1\n",
    "        print('correct! you got 1 point')\n",
    "        \n",
    "    else:\n",
    "        print('Incorrect!')\n",
    "        print(f'current answer is --> graphics processing unit')\n",
    "\n",
    "# -----2\n",
    "    question_no += 1\n",
    "    ques = input(f'\\n{question_no}. what does RAM stand for? ').lower()\n",
    "    \n",
    "    if ques == 'random access memory':\n",
    "        score +=1\n",
    "        print('correct! you got 1 point')\n",
    "        \n",
    "    else:\n",
    "        print('Incorrect!')\n",
    "        print(f'current answer is --> random access memory')\n",
    "\n",
    "# -----3\n",
    "    question_no += 1\n",
    "    ques = input(f'\\n{question_no}. what does PSU stand for? ').lower()\n",
    "    \n",
    "    if ques == 'power supply unit':\n",
    "        score +=1\n",
    "        print('correct! you got 1 point')\n",
    "        \n",
    "    else:\n",
    "        print('Incorrect!')\n",
    "        print(f'current answer is --> power supply unit')\n",
    "\n",
    "\n",
    "# -----4\n",
    "    question_no += 1\n",
    "    ques = input(f'\\n{question_no}. what does ROM stand for? ').lower()\n",
    "    \n",
    "    if ques == 'read only memory':\n",
    "        score +=1\n",
    "        print('correct! you got 1 point')\n",
    "        \n",
    "    else:\n",
    "        print('Incorrect!')\n",
    "        print(f'current answer is --> read only memory')\n",
    "\n",
    "\n",
    "# ------5 \n",
    "\n",
    "else:\n",
    "    print('thankyou you are out of a game.')\n",
    "    quit()\n",
    "\n",
    "print(f'\\nnumber of question is {question_no}')\n",
    "print(f'your score is {score}')\n",
    "try:\n",
    "    percentage = (score *100)/question_no\n",
    "except ZeroDivisionError:\n",
    "    print('0% quetions are correct')\n",
    "\n",
    "print(f'{percentage}% questions are correct.')"
   ]
  },
  {
   "cell_type": "code",
   "execution_count": 22,
   "id": "ebbc710f",
   "metadata": {},
   "outputs": [
    {
     "name": "stdout",
     "output_type": "stream",
     "text": [
      "\n",
      " Enter the Year 2000\n",
      "\n",
      " Not a prime number \n"
     ]
    }
   ],
   "source": [
    "#27. Develop a program that determines whether a given year is a prime number or not.\n",
    "\n",
    "n=int(input(\"\\n Enter the Year \"))\n",
    "for i in range(2,int(n/2)):\n",
    "    if n%i==0:\n",
    "        print(\"\\n Not a prime number \")\n",
    "        break\n",
    "else:\n",
    "    print(\"\\n prime year \",n)"
   ]
  },
  {
   "cell_type": "code",
   "execution_count": 33,
   "id": "76fe084f",
   "metadata": {},
   "outputs": [
    {
     "name": "stdout",
     "output_type": "stream",
     "text": [
      "a 4\n",
      "b 1\n",
      "c 5\n",
      "1 4 5\n"
     ]
    }
   ],
   "source": [
    "#28. Create a program that sorts three numbers in ascending order using conditional statements.\n",
    "\n",
    "a=int(input('a '))\n",
    "b=int(input('b '))\n",
    "c=int(input('c '))\n",
    "if(a>b):\n",
    "    a,b=b,a\n",
    "elif(a>c):\n",
    "    a,c=c,a\n",
    "elif(b>c):\n",
    "    b,c=c,b    \n",
    "    \n",
    "print(a,b,c)"
   ]
  },
  {
   "cell_type": "code",
   "execution_count": 39,
   "id": "9f22850a",
   "metadata": {},
   "outputs": [
    {
     "name": "stdout",
     "output_type": "stream",
     "text": [
      "\n",
      " quartic equation \n",
      "149\n",
      "200\n",
      "400\n",
      "\n",
      " Roots are complex \n",
      "-14900.0 -i 445.42114902640174\n",
      "-14900.0 +i 445.42114902640174\n"
     ]
    }
   ],
   "source": [
    "#29. Build a program that determines the roots of a quartic equation using numerical methods.\n",
    "import math\n",
    "print(\"\\n quartic equation \")\n",
    "\n",
    "a=int(input())\n",
    "b=int(input())\n",
    "c=int(input())\n",
    "d=b**2-4*a*c\n",
    "sq=math.sqrt(abs(d))\n",
    "\n",
    "if d>0:\n",
    "    print(\"\\n Roots are real and different \")\n",
    "    root1=-b+sq/2*a\n",
    "    root2=-b+sq/2*a\n",
    "    print(f\"Root1{root1}and Root2{root2}\")\n",
    "elif d<0:\n",
    "    print(\"\\n Roots are complex \")\n",
    "    real=-b/2*a\n",
    "    image=sq/2*a\n",
    "    print(real,\"-i\",sq)\n",
    "    print(real,\"+i\",sq)\n",
    "else:\n",
    "    print(\"\\n roots are real and same \")\n",
    "    root1=root2=-b/2*a\n",
    "    print(f\"Root1{root1}and Root2{root2}\")\n"
   ]
  },
  {
   "cell_type": "code",
   "execution_count": 40,
   "id": "fbf0ac9c",
   "metadata": {},
   "outputs": [
    {
     "name": "stdout",
     "output_type": "stream",
     "text": [
      "90\n",
      "5.8\n",
      "Underweight\n"
     ]
    }
   ],
   "source": [
    "#30. Write a program that calculates the BMI (Body Mass Index) and provides health recommendations based on the user's input.\n",
    "\n",
    "\n",
    "\n",
    "weight = int(input());\n",
    "height = float(input());\n",
    "x = weight/float(height*height);\n",
    "if x < 18.5:\n",
    "    print('Underweight')\n",
    "if x>=18.5 and x<25:\n",
    "    print(\"Normal\")\n",
    "if x >= 25 and x < 30:\n",
    "    print('Overweight')\n",
    "if x >= 30:\n",
    "    print('Obesity')\n"
   ]
  },
  {
   "cell_type": "code",
   "execution_count": 55,
   "id": "d86463f5",
   "metadata": {},
   "outputs": [
    {
     "name": "stdout",
     "output_type": "stream",
     "text": [
      "\n",
      " Enter the password to check sagaragara\n",
      "\n",
      " Invalid pass \n"
     ]
    }
   ],
   "source": [
    "#31. Create a program that validates a password based on complexity rules (length, characters, etc.).\n",
    "\n",
    "'''Password should not contain any space. \n",
    "Password should contain at least one digit(0-9). \n",
    "Password length should be between 8 to 15 characters. \n",
    "Password should contain at least one lowercase letter(a-z). \n",
    "Password should contain at least one uppercase letter(A-Z). \n",
    "Password should contain at least one special character ( @, #, %, &, !, $, etc…).\n",
    "'''\n",
    "\n",
    "p=input(\"\\n Enter the password to check \")\n",
    "c=1\n",
    "if p.islower():\n",
    "    c=0\n",
    "    print(\"\\n Invalid pass \")\n",
    "elif p.isupper():\n",
    "    c=0\n",
    "    print(\"\\n Invalid pass \")\n",
    "elif(len(p)<=8):\n",
    "    c=0\n",
    "    print(\"\\n contains both\")\n",
    "elif(\"\" not in p):\n",
    "    c=0\n",
    "    print(\"\\n no space\")\n",
    "\n",
    "if c==1:\n",
    "    print('\\n Valid Password ')"
   ]
  },
  {
   "cell_type": "code",
   "execution_count": 56,
   "id": "95e37064",
   "metadata": {},
   "outputs": [
    {
     "name": "stdout",
     "output_type": "stream",
     "text": [
      "Printing elements of first matrix\n",
      "[[1 2]\n",
      " [3 4]]\n",
      "Printing elements of second matrix\n",
      "[[4 5]\n",
      " [6 7]]\n",
      "Addition of two matrix\n",
      "[[ 5  7]\n",
      " [ 9 11]]\n",
      "Subraction of two matrix\n",
      "[[-3 -3]\n",
      " [-3 -3]]\n"
     ]
    }
   ],
   "source": [
    "#32. Develop a program that performs matrix addition and subtraction based on user input.\n",
    "\n",
    "# importing numpy as np\n",
    "import numpy as np\n",
    "\n",
    "\n",
    "# creating first matrix\n",
    "A = np.array([[1, 2], [3, 4]])\n",
    "\n",
    "# creating second matrix\n",
    "B = np.array([[4, 5], [6, 7]])\n",
    "\n",
    "print(\"Printing elements of first matrix\")\n",
    "print(A)\n",
    "print(\"Printing elements of second matrix\")\n",
    "print(B)\n",
    "\n",
    "# adding two matrix\n",
    "print(\"Addition of two matrix\")\n",
    "print(np.add(A, B))\n",
    "\n",
    "print(\"Subraction of two matrix\")\n",
    "print(np.subtract(A, B))\n"
   ]
  },
  {
   "cell_type": "code",
   "execution_count": 17,
   "id": "2dd30b2e",
   "metadata": {},
   "outputs": [
    {
     "data": {
      "text/plain": [
       "10"
      ]
     },
     "execution_count": 17,
     "metadata": {},
     "output_type": "execute_result"
    }
   ],
   "source": [
    "#33. Write a program that calculates the greatest common divisor (GCD) of two numbers using the Euclidean algorithm.\n",
    "n1=54\n",
    "n2=24\n",
    "def algoo(x,y):\n",
    "    while(y!=0):\n",
    "        x,y=y,(x%y)\n",
    "    return x\n",
    "algoo(14,12)\n",
    "    \n",
    "        "
   ]
  },
  {
   "cell_type": "code",
   "execution_count": 16,
   "id": "30e2f3f4",
   "metadata": {},
   "outputs": [
    {
     "name": "stdout",
     "output_type": "stream",
     "text": [
      "[114, 160, 60, 27]\n",
      "[74, 97, 73, 14]\n",
      "[119, 157, 112, 23]\n"
     ]
    }
   ],
   "source": [
    "#34. Build a program that performs matrix multiplication using nested loops and conditional statements.\n",
    "import numpy as np\n",
    "\n",
    "x = [[12,7,3],\n",
    "    [4 ,5,6],\n",
    "    [7 ,8,9]]\n",
    "# 3x4 matrix\n",
    "y = [[5,8,1,2],\n",
    "    [6,7,3,0],\n",
    "    [4,5,9,1]]\n",
    "#result is 3x4\n",
    "\n",
    "result = [[0,0,0,0],\n",
    "         [0,0,0,0],\n",
    "         [0,0,0,0]]\n",
    "#row for x \n",
    "for i in range(len(x)):\n",
    "    #column for y\n",
    "    for j in range(len(y[0])):\n",
    "        #row for y \n",
    "        for k in range(len(y)):\n",
    "            result[i][j]+=x[i][k]*y[k][j]\n",
    "\n",
    "for p in result:\n",
    "        print(p)\n",
    "\n",
    "        "
   ]
  },
  {
   "cell_type": "code",
   "execution_count": 1,
   "id": "c0bf7654",
   "metadata": {},
   "outputs": [
    {
     "name": "stdout",
     "output_type": "stream",
     "text": [
      "\n",
      " Welcome to Tic Tac Toe \n",
      "\n",
      " X's Chance \n",
      "\n",
      " Enter the position from 0 to 8 0\n",
      " X | 1 | 2 \n",
      " -------------- \n",
      " 3 | 4 | 5 \n",
      " -------------- \n",
      " 6 | 7 | 8 \n",
      "\n",
      " Y Chance \n",
      "\n",
      " Enter the position from 0 to 8 4\n",
      " X | 1 | 2 \n",
      " -------------- \n",
      " 3 | O | 5 \n",
      " -------------- \n",
      " 6 | 7 | 8 \n",
      "\n",
      " X's Chance \n",
      "\n",
      " Enter the position from 0 to 8 2\n",
      " X | 1 | X \n",
      " -------------- \n",
      " 3 | O | 5 \n",
      " -------------- \n",
      " 6 | 7 | 8 \n",
      "\n",
      " Y Chance \n",
      "\n",
      " Enter the position from 0 to 8 6\n",
      " X | 1 | X \n",
      " -------------- \n",
      " 3 | O | 5 \n",
      " -------------- \n",
      " O | 7 | 8 \n",
      "\n",
      " X's Chance \n",
      "\n",
      " Enter the position from 0 to 8 8\n",
      " X | 1 | X \n",
      " -------------- \n",
      " 3 | O | 5 \n",
      " -------------- \n",
      " O | 7 | X \n",
      "\n",
      " Y Chance \n",
      "\n",
      " Enter the position from 0 to 8 3\n",
      " X | 1 | X \n",
      " -------------- \n",
      " O | O | 5 \n",
      " -------------- \n",
      " O | 7 | X \n",
      "\n",
      " X's Chance \n",
      "\n",
      " Enter the position from 0 to 8 5\n",
      " X | 1 | X \n",
      " -------------- \n",
      " O | O | X \n",
      " -------------- \n",
      " O | 7 | X \n",
      "\n",
      " X wins \n"
     ]
    }
   ],
   "source": [
    "#35. Create a program that simulates a basic text-based tic-tac-toe game against the computer.\n",
    "\n",
    "xstate=[0,0,0,0,0,0,0,0,0]\n",
    "zstate=[0,0,0,0,0,0,0,0,0]\n",
    "t=1\n",
    "def printboard():\n",
    "    zero='X' if xstate[0]==1 else('O' if zstate[0]==1 else 0)\n",
    "    one='X' if xstate[1]==1 else('O' if zstate[1]==1 else 1)\n",
    "    two='X' if xstate[2]==1 else('O' if zstate[2]==1 else 2)\n",
    "    three='X' if xstate[3]==1 else('O' if zstate[3]==1 else 3)\n",
    "    four='X' if xstate[4]==1 else('O' if zstate[4]==1 else 4)\n",
    "    five='X' if xstate[5]==1 else('O' if zstate[5]==1 else 5)\n",
    "    six='X' if xstate[6]==1 else('O' if zstate[6]==1 else 6)\n",
    "    seven='X' if xstate[7]==1 else('O' if zstate[7]==1 else 7)\n",
    "    eight='X' if xstate[8]==1 else('O' if zstate[8]==1 else 8)\n",
    "    print(f\" {zero} | {one} | {two} \")\n",
    "    print(f\" -------------- \")\n",
    "    print(f\" {three} | {four} | {five} \")\n",
    "    print(f\" -------------- \")\n",
    "    print(f\" {six} | {seven} | {eight} \")\n",
    "    \n",
    "\n",
    "def sum(a,b,c):\n",
    "    return a+b+c\n",
    "\n",
    "def checkwin(xstate,zstate):\n",
    "    wins=[[0,1,2],[3,4,5],[6,7,8],[0,3,6],[1,4,7],[2,5,8],[0,4,8],[2,4,6]]\n",
    "    for w in wins:\n",
    "        if sum(xstate[w[0]],xstate[w[1]],xstate[w[2]])==3:\n",
    "            print(\"\\n X wins \")\n",
    "            return 1\n",
    "        if sum(zstate[w[0]],zstate[w[1]],zstate[w[2]])==3:\n",
    "            print(\"\\n Y wins \")\n",
    "            return 0\n",
    "    return -1\n",
    "        \n",
    "    \n",
    "    \n",
    "    \n",
    "    \n",
    "print(\"\\n Welcome to Tic Tac Toe \")\n",
    "\n",
    "while True:\n",
    "    if t==1:\n",
    "        print(\"\\n X's Chance \")\n",
    "        \n",
    "        value=int(input(\"\\n Enter the position from 0 to 8 \"))\n",
    "        xstate[value]=1\n",
    "        printboard()\n",
    "    else:\n",
    "        print(\"\\n Y Chance \")\n",
    "        value=int(input(\"\\n Enter the position from 0 to 8 \"))\n",
    "        zstate[value]=1\n",
    "        printboard()\n",
    "    t=t*-1\n",
    "    cw=checkwin(xstate,zstate)\n",
    "    if cw!=-1:\n",
    "        break\n",
    "    "
   ]
  },
  {
   "cell_type": "code",
   "execution_count": 8,
   "id": "f57e397f",
   "metadata": {},
   "outputs": [
    {
     "name": "stdout",
     "output_type": "stream",
     "text": [
      "\n",
      " enter the number 10\n",
      "\n",
      " a 0\n",
      "\n",
      " b 1\n",
      "\n",
      " c 1\n",
      "---------\n",
      "\n",
      " a 1\n",
      "\n",
      " b 1\n",
      "\n",
      " c 2\n",
      "---------\n",
      "\n",
      " a 1\n",
      "\n",
      " b 2\n",
      "\n",
      " c 3\n",
      "---------\n",
      "\n",
      " a 2\n",
      "\n",
      " b 3\n",
      "\n",
      " c 5\n",
      "---------\n",
      "\n",
      " a 3\n",
      "\n",
      " b 5\n",
      "\n",
      " c 8\n",
      "---------\n",
      "\n",
      " a 5\n",
      "\n",
      " b 8\n",
      "\n",
      " c 13\n",
      "---------\n",
      "\n",
      " a 8\n",
      "\n",
      " b 13\n",
      "\n",
      " c 21\n",
      "---------\n",
      "\n",
      " a 13\n",
      "\n",
      " b 21\n",
      "\n",
      " c 34\n",
      "---------\n",
      "\n",
      " a 21\n",
      "\n",
      " b 34\n",
      "\n",
      " c 55\n",
      "---------\n",
      "\n",
      " a 34\n",
      "\n",
      " b 55\n",
      "\n",
      " c 89\n",
      "---------\n",
      "\n",
      " a 55\n",
      "\n",
      " b 89\n",
      "\n",
      " c 144\n",
      "---------\n"
     ]
    }
   ],
   "source": [
    "#36. Write a program that generates Fibonacci numbers up to a specified term using iterative methods.\n",
    "#\" 0 1 2 3 5 8 13 \"\n",
    "\n",
    "a=0\n",
    "b=1\n",
    "c=0\n",
    "n=int(input(\"\\n enter the number \"))\n",
    "\n",
    "for i in range(n+1):\n",
    "    print(\"\\n a\",a)\n",
    "    print(\"\\n b\",b)\n",
    "    c=a+b\n",
    "    a=b\n",
    "    b=c\n",
    "    print(\"\\n c\",c)\n",
    "    print(\"---------\")\n",
    "    "
   ]
  },
  {
   "cell_type": "code",
   "execution_count": 12,
   "id": "aa678c9b",
   "metadata": {},
   "outputs": [
    {
     "name": "stdout",
     "output_type": "stream",
     "text": [
      "\n",
      " Enter the Nth term 9\n",
      "34\n"
     ]
    }
   ],
   "source": [
    "#37. Develop a program that calculates the nth term of the Fibonacci sequence using memoization.\n",
    "\n",
    "\n",
    "n=int(input(\"\\n Enter the Nth term \"))\n",
    "def call(n):\n",
    "    a=0\n",
    "    b=1\n",
    "    if n==0:\n",
    "        return 0\n",
    "    elif n==1:\n",
    "        return 1\n",
    "    else:\n",
    "        for i in range(2,n+1):\n",
    "            c=a+b\n",
    "            a=b\n",
    "            b=c\n",
    "        return b\n",
    "print(call(n))"
   ]
  },
  {
   "cell_type": "code",
   "execution_count": 15,
   "id": "3c452dce",
   "metadata": {},
   "outputs": [
    {
     "name": "stdout",
     "output_type": "stream",
     "text": [
      "\n",
      " Enter the year 2024\n",
      "\n",
      " Enter the Month 4\n",
      "     April 2024\n",
      "Mo Tu We Th Fr Sa Su\n",
      " 1  2  3  4  5  6  7\n",
      " 8  9 10 11 12 13 14\n",
      "15 16 17 18 19 20 21\n",
      "22 23 24 25 26 27 28\n",
      "29 30\n",
      "\n"
     ]
    }
   ],
   "source": [
    "#38. Create a program that generates a calendar for a given month and year using conditional statements.\n",
    "\n",
    "import calendar as c\n",
    "y=int(input('\\n Enter the year '))\n",
    "m=int(input(\"\\n Enter the Month \"))\n",
    "\n",
    "print(c.month(y,m))\n"
   ]
  },
  {
   "cell_type": "code",
   "execution_count": 20,
   "id": "09ccaa10",
   "metadata": {},
   "outputs": [
    {
     "name": "stdout",
     "output_type": "stream",
     "text": [
      "\n",
      " Enter the Number greater than 1 : 13\n",
      "\n",
      " Prime \n"
     ]
    }
   ],
   "source": [
    "#40. Write a program that generates the prime factors of a given number using trial division.\n",
    "\n",
    "\n",
    "n=int(input(\"\\n Enter the Number greater than 1 : \"))\n",
    "def fun(n):\n",
    "    k=n**0.5\n",
    "    i=2\n",
    "    while(i<=k):\n",
    "        if n %i==0:\n",
    "            return 0\n",
    "        else:\n",
    "            return 1\n",
    "if (fun(n)):\n",
    "    print(\"\\n Prime \")\n",
    "else:\n",
    "    print(\"\\n Composite \")\n",
    "\n"
   ]
  },
  {
   "cell_type": "code",
   "execution_count": null,
   "id": "cc1d88b7",
   "metadata": {},
   "outputs": [],
   "source": []
  }
 ],
 "metadata": {
  "kernelspec": {
   "display_name": "Python 3 (ipykernel)",
   "language": "python",
   "name": "python3"
  },
  "language_info": {
   "codemirror_mode": {
    "name": "ipython",
    "version": 3
   },
   "file_extension": ".py",
   "mimetype": "text/x-python",
   "name": "python",
   "nbconvert_exporter": "python",
   "pygments_lexer": "ipython3",
   "version": "3.9.12"
  }
 },
 "nbformat": 4,
 "nbformat_minor": 5
}
