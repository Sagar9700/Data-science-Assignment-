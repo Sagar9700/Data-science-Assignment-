{
 "cells": [
  {
   "cell_type": "code",
   "execution_count": 2,
   "id": "67ba8ae5",
   "metadata": {},
   "outputs": [
    {
     "name": "stdout",
     "output_type": "stream",
     "text": [
      "\n",
      " Enter the string sagar\n",
      "\n",
      " Reverse of String : ragas\n"
     ]
    }
   ],
   "source": [
    "# 1 Write a program to reverse a string.\n",
    "\n",
    "s=input(\"\\n Enter the string \")\n",
    "s=s[::-1]\n",
    "print(\"\\n Reverse of String :\",s)"
   ]
  },
  {
   "cell_type": "code",
   "execution_count": 22,
   "id": "f9489f4b",
   "metadata": {},
   "outputs": [
    {
     "name": "stdout",
     "output_type": "stream",
     "text": [
      "\n",
      " Enter the String namna\n",
      "\n",
      " Not Palindrome\n",
      "\n",
      " Enter the string naman\n",
      "\n",
      " R  naman\n",
      "\n",
      " palindrome \n"
     ]
    }
   ],
   "source": [
    "#2 Check if a string is a palindrome.\n",
    "s=input(\"\\n Enter the String \")\n",
    "r=s\n",
    "i=0\n",
    "j=len(s)-1\n",
    "c=0\n",
    "while(s[i]==s[j]):\n",
    "    i=i+1\n",
    "    j=j-1\n",
    "    if(i==j):\n",
    "        c=1\n",
    "        break\n",
    "if(c==1):\n",
    "    print(\"\\n Palindrome \")\n",
    "else:\n",
    "    print(\"\\n Not Palindrome\")\n",
    "    \n",
    "# Second Method\n",
    "\n",
    "s=input(\"\\n Enter the string \")\n",
    "r=s[::-1]\n",
    "print(\"\\n R \",r)\n",
    "if(r==s):\n",
    "    print(\"\\n palindrome \")\n",
    "else:\n",
    "    print(\"\\n Not Palindrome \")"
   ]
  },
  {
   "cell_type": "code",
   "execution_count": 23,
   "id": "bbabaa63",
   "metadata": {},
   "outputs": [
    {
     "name": "stdout",
     "output_type": "stream",
     "text": [
      "\n",
      " Enter the String sagar\n",
      "\n",
      " String after Upper Case : SAGAR\n"
     ]
    }
   ],
   "source": [
    "#3 Convert a string to uppercase.\n",
    "s=input(\"\\n Enter the String \")\n",
    "s=s.upper()\n",
    "print(\"\\n String after Upper Case :\",s)"
   ]
  },
  {
   "cell_type": "code",
   "execution_count": 25,
   "id": "9ed02a92",
   "metadata": {},
   "outputs": [
    {
     "name": "stdout",
     "output_type": "stream",
     "text": [
      "\n",
      " Enter the String Sagar\n",
      "\n",
      " String after Lower Case : sagar\n"
     ]
    }
   ],
   "source": [
    "#4 Convert a string to lowercase.\n",
    "s=input(\"\\n Enter the String \")\n",
    "s=s.lower()\n",
    "print(\"\\n String after Lower Case :\",s)"
   ]
  },
  {
   "cell_type": "code",
   "execution_count": 27,
   "id": "968f88ac",
   "metadata": {},
   "outputs": [
    {
     "name": "stdout",
     "output_type": "stream",
     "text": [
      "\n",
      " Enter the String Ajay Kumar Gupta\n",
      "\n",
      " Count of Vowels : 6\n"
     ]
    }
   ],
   "source": [
    "#5. Count the number of vowels in a string.\n",
    "s=input(\"\\n Enter the String \")\n",
    "i=0\n",
    "c=0\n",
    "while(i<=len(s)-1):\n",
    "    if(s[i]=='a' or s[i]=='e' or s[i]=='i' or s[i]=='o' or s[i]=='u' or s[i]=='A' or s[i]=='E' or s[i]=='I' or s[i]=='O' or s[i]=='U'):\n",
    "        c=c+1\n",
    "    i=i+1\n",
    "print(\"\\n Count of Vowels :\",c)"
   ]
  },
  {
   "cell_type": "code",
   "execution_count": 9,
   "id": "698a0a52",
   "metadata": {},
   "outputs": [
    {
     "name": "stdout",
     "output_type": "stream",
     "text": [
      "\n",
      " Enter the String sagar is good boy\n",
      "\n",
      " Consonant :  8\n"
     ]
    }
   ],
   "source": [
    "#6. Count the number of consonants in a string.\n",
    "s=input(\"\\n Enter the String \")\n",
    "vowel=\"bcdfghjklmnpqrstvwxyzBCDFGHJKLMNPQRSTVWXYZ\"\n",
    "c=0\n",
    "for i in s:\n",
    "    if i in vowel:\n",
    "         c=c+1\n",
    "print(\"\\n Consonant : \",c)\n",
    "# if any(s2 in s for s2 in vowel):\n",
    "#     print(\"\\n Contains vowel\")\n",
    "# else:\n",
    "#     print(\"\\n no Vowels\")\n"
   ]
  },
  {
   "cell_type": "code",
   "execution_count": 16,
   "id": "7cdd1681",
   "metadata": {},
   "outputs": [
    {
     "name": "stdout",
     "output_type": "stream",
     "text": [
      "\n",
      " Enter the String sagar is boy \n",
      "sagarisboy\n"
     ]
    }
   ],
   "source": [
    "#7 Remove all whitespaces from a string.\n",
    "\n",
    "s=input(\"\\n Enter the String \")\n",
    "r=''\n",
    "for i in s:\n",
    "    if i!=\" \":\n",
    "        r=r+i\n",
    "print(\"\\n After removing space :\",r)"
   ]
  },
  {
   "cell_type": "code",
   "execution_count": 18,
   "id": "c5d84b4b",
   "metadata": {},
   "outputs": [
    {
     "name": "stdout",
     "output_type": "stream",
     "text": [
      "\n",
      " Enter the String sagar is a boy\n",
      "14\n"
     ]
    }
   ],
   "source": [
    "#8 Find the length of a string without using the `len()` function.\n",
    "s= input(\"\\n Enter the String \")\n",
    "c=0\n",
    "for i in s:\n",
    "    c=c+1\n",
    "print(c)"
   ]
  },
  {
   "cell_type": "code",
   "execution_count": 19,
   "id": "7d11e251",
   "metadata": {},
   "outputs": [
    {
     "name": "stdout",
     "output_type": "stream",
     "text": [
      "\n",
      " Enter the String sagar is boy \n",
      "\n",
      " Enter the word to check boy\n",
      "\n",
      " Yes present \n"
     ]
    }
   ],
   "source": [
    "#9 Check if a string contains a specific word.\n",
    "s=input(\"\\n Enter the String \")\n",
    "s2=input('\\n Enter the word to check ')\n",
    "if s2 in s:\n",
    "    print(\"\\n Yes present \")\n",
    "else:\n",
    "    print(\"\\n Not present\")\n",
    "        "
   ]
  },
  {
   "cell_type": "code",
   "execution_count": 23,
   "id": "bd6da26f",
   "metadata": {},
   "outputs": [
    {
     "name": "stdout",
     "output_type": "stream",
     "text": [
      "\n",
      " Enter the Stringsagar is boy\n",
      "\n",
      " Enter the word to replace boy\n",
      "\n",
      " Enter the word to be replaced with girl\n",
      "\n",
      " String after replace : sagar is girl\n"
     ]
    }
   ],
   "source": [
    "#10. Replace a word in a string with another word.\n",
    "s=input(\"\\n Enter the String\")\n",
    "w=input(\"\\n Enter the word to replace \")\n",
    "j=input(\"\\n Enter the word to be replaced with \")\n",
    "s=s.replace(w,j)\n",
    "print(\"\\n String after replace :\",s)"
   ]
  },
  {
   "cell_type": "code",
   "execution_count": 25,
   "id": "e3a6c7b4",
   "metadata": {},
   "outputs": [
    {
     "name": "stdout",
     "output_type": "stream",
     "text": [
      "\n",
      " Enter the String sagar is boy\n",
      "\n",
      " Enter the word a\n",
      "\n",
      " Occurence : 2\n"
     ]
    }
   ],
   "source": [
    "#11 Count the occurrences of a word in a string.\n",
    "s=input(\"\\n Enter the String \")\n",
    "s2=input(\"\\n Enter the word \")\n",
    "c=0\n",
    "for i in s:\n",
    "    if(i==s2):\n",
    "        c=c+1\n",
    "print(\"\\n Occurence :\",c)"
   ]
  },
  {
   "cell_type": "code",
   "execution_count": 26,
   "id": "1c491911",
   "metadata": {},
   "outputs": [
    {
     "name": "stdout",
     "output_type": "stream",
     "text": [
      "\n",
      " Enter the String sagar is boy\n",
      "\n",
      " Enter the word b\n",
      "\n",
      " index : 9\n"
     ]
    }
   ],
   "source": [
    "#12 Find the first occurrence of a word in a string.\n",
    "s=input(\"\\n Enter the String \")\n",
    "s2=input(\"\\n Enter the word \")\n",
    "i=s.index(s2)\n",
    "print(\"\\n index :\",i)"
   ]
  },
  {
   "cell_type": "code",
   "execution_count": 27,
   "id": "c2f0d67c",
   "metadata": {},
   "outputs": [
    {
     "name": "stdout",
     "output_type": "stream",
     "text": [
      "\n",
      " Enter the string sagar is boy\n",
      "\n",
      " Enter the word r\n",
      "\n",
      " Last Occurence : 4\n"
     ]
    }
   ],
   "source": [
    "#13. Find the last occurrence of a word in a string.\n",
    "s=input(\"\\n Enter the string \")\n",
    "s2=input(\"\\n Enter the word \")\n",
    "r=s.rfind(s2)\n",
    "print(\"\\n Last Occurence :\",r)"
   ]
  },
  {
   "cell_type": "code",
   "execution_count": 28,
   "id": "c0e17b98",
   "metadata": {},
   "outputs": [
    {
     "name": "stdout",
     "output_type": "stream",
     "text": [
      "\n",
      " Enter the string sagar is a boy\n",
      "\n",
      " String after Split : ['sagar', 'is', 'a', 'boy']\n"
     ]
    }
   ],
   "source": [
    "#14 Split a string into a list of words.\n",
    "s=input(\"\\n Enter the string \")\n",
    "s=s.split()\n",
    "print(\"\\n String after Split :\",s)"
   ]
  },
  {
   "cell_type": "code",
   "execution_count": 31,
   "id": "230bafd4",
   "metadata": {},
   "outputs": [
    {
     "name": "stdout",
     "output_type": "stream",
     "text": [
      "\n",
      " String after join : sagar is a boy\n"
     ]
    }
   ],
   "source": [
    "#15. Join a list of words into a string.\n",
    "s=['sagar', 'is', 'a', 'boy']\n",
    "s2=' '.join(s)\n",
    "print(\"\\n String after join :\",s2)"
   ]
  },
  {
   "cell_type": "code",
   "execution_count": 33,
   "id": "fe188b01",
   "metadata": {},
   "outputs": [
    {
     "name": "stdout",
     "output_type": "stream",
     "text": [
      "\n",
      " Enter String sagar is boy\n",
      "\n",
      " String After replacement  sagar_is_boy\n"
     ]
    }
   ],
   "source": [
    "#16. Convert a string where words are separated by spaces to one where words are separated by underscores.\n",
    "s=input(\"\\n Enter String \")\n",
    "s=s.replace(' ','_')\n",
    "print(\"\\n String After replacement \",s)"
   ]
  },
  {
   "cell_type": "code",
   "execution_count": 35,
   "id": "f6552e23",
   "metadata": {},
   "outputs": [
    {
     "name": "stdout",
     "output_type": "stream",
     "text": [
      "\n",
      " Enter the String sagar is boy\n",
      "\n",
      " Enter the word sagar\n",
      "\n",
      " Yes starting with  sagar\n"
     ]
    }
   ],
   "source": [
    "#17. Check if a string starts with a specific word or phrase.\n",
    "s=input(\"\\n Enter the String \")\n",
    "s2=input(\"\\n Enter the word \")\n",
    "if(s.startswith(s2)):\n",
    "    print(\"\\n Yes starting with \",s2)\n",
    "else:\n",
    "    print(\"\\n Not Starting with \",s2)"
   ]
  },
  {
   "cell_type": "code",
   "execution_count": 37,
   "id": "b9e3b036",
   "metadata": {},
   "outputs": [
    {
     "name": "stdout",
     "output_type": "stream",
     "text": [
      "\n",
      " Enter the String sagar is boy\n",
      "\n",
      " Enter the word boy\n",
      "\n",
      " Yes Ending with  boy\n"
     ]
    }
   ],
   "source": [
    "#18. Check if a string end with a specific word or phrase.\n",
    "s=input(\"\\n Enter the String \")\n",
    "s2=input(\"\\n Enter the word \")\n",
    "if(s.endswith(s2)):\n",
    "    print(\"\\n Yes Ending with \",s2)\n",
    "else:\n",
    "    print(\"\\n Not Starting with \",s2)"
   ]
  },
  {
   "cell_type": "code",
   "execution_count": 38,
   "id": "160fa16b",
   "metadata": {},
   "outputs": [
    {
     "name": "stdout",
     "output_type": "stream",
     "text": [
      "\n",
      " Enter the String sagar is boy\n",
      "\n",
      " in Title : Sagar Is Boy\n"
     ]
    }
   ],
   "source": [
    "#19. Convert a string to title case (e.g., \"hello world\" to \"Hello World\").\n",
    "s=input(\"\\n Enter the String \")\n",
    "s=s.title()\n",
    "print(\"\\n in Title :\",s)"
   ]
  },
  {
   "cell_type": "code",
   "execution_count": 49,
   "id": "65e1aeed",
   "metadata": {},
   "outputs": [
    {
     "name": "stdout",
     "output_type": "stream",
     "text": [
      "\n",
      " Enter the String sagar is good boy\n",
      "['sagar', 'is', 'good', 'boy']\n",
      "<class 'str'>\n"
     ]
    },
    {
     "ename": "TypeError",
     "evalue": "'int' object is not callable",
     "output_type": "error",
     "traceback": [
      "\u001b[1;31m---------------------------------------------------------------------------\u001b[0m",
      "\u001b[1;31mTypeError\u001b[0m                                 Traceback (most recent call last)",
      "Input \u001b[1;32mIn [49]\u001b[0m, in \u001b[0;36m<cell line: 6>\u001b[1;34m()\u001b[0m\n\u001b[0;32m      6\u001b[0m \u001b[38;5;28;01mfor\u001b[39;00m i \u001b[38;5;129;01min\u001b[39;00m s:\n\u001b[0;32m      7\u001b[0m     \u001b[38;5;28mprint\u001b[39m(\u001b[38;5;28mtype\u001b[39m(i))\n\u001b[1;32m----> 8\u001b[0m     l\u001b[38;5;241m=\u001b[39m\u001b[38;5;28;43mlen\u001b[39;49m\u001b[43m(\u001b[49m\u001b[43mi\u001b[49m\u001b[43m)\u001b[49m\n\u001b[0;32m      9\u001b[0m     \u001b[38;5;28;01mif\u001b[39;00m l\u001b[38;5;241m>\u001b[39m\u001b[38;5;28mlen\u001b[39m:\n\u001b[0;32m     10\u001b[0m         \u001b[38;5;28mlen\u001b[39m\u001b[38;5;241m=\u001b[39ml\n",
      "\u001b[1;31mTypeError\u001b[0m: 'int' object is not callable"
     ]
    }
   ],
   "source": [
    "#20. Find the longest word in a string.\n",
    "s=input(\"\\n Enter the String \")\n",
    "s=s.split()\n",
    "print(s)\n",
    "len=0\n",
    "for i in s:\n",
    "    print(type(i))\n",
    "    l=len(i)\n",
    "    if l>len:\n",
    "        len=l\n",
    "        s2=i\n",
    "print(\"\\n Longest Word is \",s2)\n",
    "        "
   ]
  },
  {
   "cell_type": "code",
   "execution_count": null,
   "id": "aaae08ca",
   "metadata": {},
   "outputs": [],
   "source": [
    "#21. Find the Shortest word in a string.\n",
    "s=input(\"\\n Enter the String \")\n",
    "s=s.split()\n",
    "print(s)\n",
    "len=0\n",
    "for i in s:\n",
    "    print(type(i))\n",
    "    l=len(i)\n",
    "    if l<len:\n",
    "        len=l\n",
    "        s2=i\n",
    "print(\"\\n Shortest Word is \",s2)\n",
    "        "
   ]
  },
  {
   "cell_type": "code",
   "execution_count": 1,
   "id": "ca993872",
   "metadata": {},
   "outputs": [
    {
     "name": "stdout",
     "output_type": "stream",
     "text": [
      "\n",
      " Enter the String sagara is good boy\n",
      "\n",
      " Reverse : yob doog si aragas\n"
     ]
    }
   ],
   "source": [
    "#22. Reverse the order of words in a string.\n",
    "s=input(\"\\n Enter the String \")\n",
    "c=\"\"\n",
    "for i in s:\n",
    "    i=i[::-1]\n",
    "    c=i+c\n",
    "print(\"\\n Reverse :\",c)"
   ]
  },
  {
   "cell_type": "code",
   "execution_count": 2,
   "id": "48be577b",
   "metadata": {},
   "outputs": [
    {
     "name": "stdout",
     "output_type": "stream",
     "text": [
      "\n",
      " Enter the String naman\n",
      "\n",
      " Palindrome \n"
     ]
    }
   ],
   "source": [
    "#23. Check if a string is alphanumeric.\n",
    "s=input(\"\\n Enter the String \")\n",
    "i=0\n",
    "j=len(s)-1\n",
    "c=0\n",
    "while(s[i]==s[j]):\n",
    "    i=i+1\n",
    "    j=j-1\n",
    "    if(i==j):\n",
    "        c=1\n",
    "        break\n",
    "if(c==1):\n",
    "    print(\"\\n Palindrome \")\n",
    "else:\n",
    "    print(\"\\n Not Palindrome \")"
   ]
  },
  {
   "cell_type": "code",
   "execution_count": 1,
   "id": "c39aabdc",
   "metadata": {},
   "outputs": [
    {
     "name": "stdout",
     "output_type": "stream",
     "text": [
      "\n",
      " Enter the String sagar 262 hwugdsu8989 hsud87329\n",
      "262898987329\n"
     ]
    }
   ],
   "source": [
    "#24. Extract all digits from a string.\n",
    "s=input(\"\\n Enter the String \")\n",
    "s2=\"\"\n",
    "for i in s:\n",
    "    if(i.isnumeric()):\n",
    "        s2=s2+i\n",
    "print(s2)"
   ]
  },
  {
   "cell_type": "code",
   "execution_count": 2,
   "id": "0201cc9b",
   "metadata": {},
   "outputs": [
    {
     "name": "stdout",
     "output_type": "stream",
     "text": [
      "\n",
      " Enter the string sagar 1234 hsau 27782\n",
      "sagarhsau\n"
     ]
    }
   ],
   "source": [
    "#25. Extract all alphabets from a string.\n",
    "s=input(\"\\n Enter the string \")\n",
    "s2=\"\"\n",
    "for i in s:\n",
    "    if i.isalpha():\n",
    "        s2=s2+i\n",
    "print(s2)\n",
    "    "
   ]
  },
  {
   "cell_type": "code",
   "execution_count": 3,
   "id": "a5053a83",
   "metadata": {},
   "outputs": [
    {
     "name": "stdout",
     "output_type": "stream",
     "text": [
      "\n",
      " Enter the string Sagar Agrawal Is A Good Boy\n",
      "\n",
      " Upper Case count  6\n"
     ]
    }
   ],
   "source": [
    "#26. Count the number of uppercase letters in a string.\n",
    "s=input(\"\\n Enter the string \")\n",
    "c=0\n",
    "for i in s:\n",
    "    if i.isupper():\n",
    "        c=c+1\n",
    "print(\"\\n Upper Case count \",c)"
   ]
  },
  {
   "cell_type": "code",
   "execution_count": 4,
   "id": "091a468d",
   "metadata": {},
   "outputs": [
    {
     "name": "stdout",
     "output_type": "stream",
     "text": [
      "\n",
      " Enter the string Sagar Agrawal Is A Good Boy\n",
      "\n",
      " Lower Case count  16\n"
     ]
    }
   ],
   "source": [
    "#27. Count the number of lowercase letters in a string.\n",
    "s=input(\"\\n Enter the string \")\n",
    "c=0\n",
    "for i in s:\n",
    "    if i.islower():\n",
    "        c=c+1\n",
    "print(\"\\n Lower Case count \",c)\n"
   ]
  },
  {
   "cell_type": "code",
   "execution_count": 5,
   "id": "bf5ca03f",
   "metadata": {},
   "outputs": [
    {
     "name": "stdout",
     "output_type": "stream",
     "text": [
      "\n",
      " Enter the String Sagar Is A Good Boy\n",
      "\n",
      " String after swap : sAGAR iS a gOOD bOY\n"
     ]
    }
   ],
   "source": [
    "#28. Swap the case of each character in a string.\n",
    "\n",
    "s=input(\"\\n Enter the String \")\n",
    "s2=s.swapcase()\n",
    "print('\\n String after swap :',s2)"
   ]
  },
  {
   "cell_type": "code",
   "execution_count": 5,
   "id": "8728d3b2",
   "metadata": {},
   "outputs": [
    {
     "name": "stdout",
     "output_type": "stream",
     "text": [
      "\n",
      " Enter the String sagar is good boy\n",
      "\n",
      " Enter the word good\n",
      "['sagar', 'is', 'good', 'boy']\n",
      "\n",
      " Word to Remove : good\n",
      "i : sagar\n",
      "i : is\n",
      "i : good\n",
      "i : boy\n",
      "\n",
      " New string after remove  s a g a ri sb o y\n"
     ]
    }
   ],
   "source": [
    "#29. Remove a specific word from a string.\n",
    "s=input(\"\\n Enter the String \")\n",
    "s2=input(\"\\n Enter the word \")\n",
    "s3=\"\"\n",
    "l=s.split()\n",
    "print(l)\n",
    "print(\"\\n Word to Remove :\",s2)\n",
    "for i in l:\n",
    "    print(\"i :\",i)\n",
    "    if i!=s2:\n",
    "        s3=s3+' '.join(i)\n",
    "print(\"\\n New string after remove \",s3)"
   ]
  },
  {
   "cell_type": "code",
   "execution_count": 9,
   "id": "e0bc0899",
   "metadata": {},
   "outputs": [
    {
     "name": "stdout",
     "output_type": "stream",
     "text": [
      "\n",
      " Enter the Email Add to validate : sagar@tcs.com\n",
      "\n",
      " Valid Email Add \n"
     ]
    }
   ],
   "source": [
    "#30. Check if a string is a valid email address.\n",
    "import re\n",
    "d=0\n",
    "s=input(\"\\n Enter the Email Add to validate : \")\n",
    "for i in s:\n",
    "    if i =='@':\n",
    "        c=1\n",
    "        break\n",
    "    else:\n",
    "        d=1\n",
    "if(c==1):\n",
    "    print(\"\\n Valid Email Add \")\n",
    "if(d==0):\n",
    "    print(\"\\n Invalid Email Add \")\n",
    "    "
   ]
  },
  {
   "cell_type": "code",
   "execution_count": 10,
   "id": "d72c4798",
   "metadata": {},
   "outputs": [
    {
     "name": "stdout",
     "output_type": "stream",
     "text": [
      "\n",
      " Enter the Email id : sagar@tcs.com\n",
      "\n",
      " username : sagar\n"
     ]
    }
   ],
   "source": [
    "#31. Extract the username from an email address string.\n",
    "s=input(\"\\n Enter the Email id : \")\n",
    "l=s.split('@')[0]\n",
    "print(\"\\n username :\",l)"
   ]
  },
  {
   "cell_type": "code",
   "execution_count": 11,
   "id": "27703f32",
   "metadata": {},
   "outputs": [
    {
     "name": "stdout",
     "output_type": "stream",
     "text": [
      "\n",
      " Enter the email id :sagar@tcs.com\n",
      "\n",
      " Domain Name : tcs.com\n"
     ]
    }
   ],
   "source": [
    "#32. Extract the domain name from an email address string.\n",
    "s=input(\"\\n Enter the email id :\")\n",
    "l=s.split('@')[1]\n",
    "print(\"\\n Domain Name :\",l)\n"
   ]
  },
  {
   "cell_type": "code",
   "execution_count": 12,
   "id": "0ea94071",
   "metadata": {},
   "outputs": [
    {
     "name": "stdout",
     "output_type": "stream",
     "text": [
      "\n",
      " String after removing extra space : Hello world! How are you?\n"
     ]
    }
   ],
   "source": [
    "#33. Replace multiple spaces in a string with a single space.\n",
    "\n",
    "s=\"Hello     world!   How   are   you?\"\n",
    "l=s.split()\n",
    "s2=\" \".join(l)\n",
    "print(\"\\n String after removing extra space :\",s2)"
   ]
  },
  {
   "cell_type": "code",
   "execution_count": 15,
   "id": "cdd2ac11",
   "metadata": {},
   "outputs": [
    {
     "name": "stdout",
     "output_type": "stream",
     "text": [
      "\n",
      " Enter the URL : https://sagar.com\n",
      "\n",
      " Valid Url \n"
     ]
    }
   ],
   "source": [
    "#34. Check if a string is a valid URL.\n",
    "s=input(\"\\n Enter the URL : \")\n",
    "if '.com' in s and 'https://' in s :\n",
    "    print(\"\\n Valid Url \")\n",
    "else:\n",
    "    print(\"\\n Invalid Url \")\n",
    "    "
   ]
  },
  {
   "cell_type": "code",
   "execution_count": 24,
   "id": "a6e3b350",
   "metadata": {},
   "outputs": [
    {
     "name": "stdout",
     "output_type": "stream",
     "text": [
      "\n",
      " Enter the url http://sagar.com\n",
      "\n",
      " i  5\n",
      "\n",
      " protocol : http:\n"
     ]
    }
   ],
   "source": [
    "#35. Extract the protocol (http or https) from a URL string.\n",
    "s=input(\"\\n Enter the url \")\n",
    "l2=[]\n",
    "i=s.find('//')\n",
    "print(\"\\n i \",i)\n",
    "s3=s[:i]  \n",
    "print(\"\\n protocol :\",s3)    "
   ]
  },
  {
   "cell_type": "code",
   "execution_count": 3,
   "id": "2a384767",
   "metadata": {},
   "outputs": [
    {
     "name": "stdout",
     "output_type": "stream",
     "text": [
      "\n",
      " Enter the string sagar is sagar\n",
      "\n",
      " i in f  True\n",
      "\n",
      " i in f  True\n",
      "\n",
      " i in f  True\n",
      "\n",
      " i in f  True\n",
      "\n",
      " i in f  True\n",
      "\n",
      " i in f  True\n",
      "\n",
      " i in f  True\n",
      "\n",
      " i in f  True\n",
      "Character: 's', Frequency: 3\n",
      "Character: 'a', Frequency: 4\n",
      "Character: 'g', Frequency: 2\n",
      "Character: 'r', Frequency: 2\n",
      "Character: ' ', Frequency: 2\n",
      "Character: 'i', Frequency: 1\n"
     ]
    }
   ],
   "source": [
    "#36. Find the frequency of each character in a string.\n",
    "s=input(\"\\n Enter the string \")\n",
    "f={}\n",
    "for i in s:\n",
    "    if i in f:\n",
    "        f[i]=f[i]+1\n",
    "    else:\n",
    "        f[i]=1\n",
    "for char,freq in f.items():\n",
    "    print(f\"Character: '{char}', Frequency: {freq}\")"
   ]
  },
  {
   "cell_type": "code",
   "execution_count": 5,
   "id": "5ba69a77",
   "metadata": {},
   "outputs": [
    {
     "name": "stdout",
     "output_type": "stream",
     "text": [
      "\n",
      " Enter the String sagar. is ! boyd...\n",
      "\n",
      " String : sagar is  boyd\n"
     ]
    }
   ],
   "source": [
    "#37. Remove all punctuation from a string.\n",
    "s=input(\"\\n Enter the String \")\n",
    "punc = '''!()-[]{};:'\"\\,<>./?@#$%^&*_~'''\n",
    "for i in s:\n",
    "    if i in punc:\n",
    "        s=s.replace(i,\"\")\n",
    "print(\"\\n String :\",s)"
   ]
  },
  {
   "cell_type": "code",
   "execution_count": 9,
   "id": "34182287",
   "metadata": {},
   "outputs": [
    {
     "name": "stdout",
     "output_type": "stream",
     "text": [
      "\n",
      " Enter the string safar12\n",
      "\n",
      " no \n"
     ]
    }
   ],
   "source": [
    "#38. Check if a string contains only digits.\n",
    "s=input(\"\\n Enter the string \")\n",
    "if s.isdigit():\n",
    "    print(\"\\n yes contains only digit \")\n",
    "else:\n",
    "    print(\"\\n no \")"
   ]
  },
  {
   "cell_type": "code",
   "execution_count": 11,
   "id": "b33c2347",
   "metadata": {},
   "outputs": [
    {
     "name": "stdout",
     "output_type": "stream",
     "text": [
      "\n",
      " Enter the String saga2223\n",
      "\n",
      " Does not contain anything\n"
     ]
    }
   ],
   "source": [
    "#39. Check if a string contains only alphabets.\n",
    "s=input(\"\\n Enter the String \")\n",
    "if s.isalpha():\n",
    "    print(\"\\n Contains only alphabets\")\n",
    "else:\n",
    "    print(\"\\n Does not contain anything\")\n",
    "    "
   ]
  },
  {
   "cell_type": "code",
   "execution_count": 12,
   "id": "72b87790",
   "metadata": {},
   "outputs": [
    {
     "name": "stdout",
     "output_type": "stream",
     "text": [
      "\n",
      " enter the string sagar\n",
      "\n",
      " list  ['s', 'a', 'g', 'a', 'r']\n"
     ]
    }
   ],
   "source": [
    "#40. Convert a string to a list of characters.\n",
    "s=input(\"\\n enter the string \")\n",
    "l=list(s)\n",
    "print(\"\\n list \",l)"
   ]
  },
  {
   "cell_type": "code",
   "execution_count": 15,
   "id": "0c3cf718",
   "metadata": {},
   "outputs": [
    {
     "name": "stdout",
     "output_type": "stream",
     "text": [
      "\n",
      " yes anagram\n"
     ]
    }
   ],
   "source": [
    "#41. Check if two strings are anagrams.\n",
    "s=\"listen\"\n",
    "s2=\"silent\"\n",
    "if sorted(s)==sorted(s2):\n",
    "    print(\"\\n yes anagram\")\n",
    "else:\n",
    "    print(\"\\n not anagram \")"
   ]
  },
  {
   "cell_type": "code",
   "execution_count": 16,
   "id": "9a72750b",
   "metadata": {},
   "outputs": [
    {
     "name": "stdout",
     "output_type": "stream",
     "text": [
      "Encoded text: ehoor, zruog!\n"
     ]
    }
   ],
   "source": [
    "# Define a function named caesar_cipher that encodes a string using a Caesar cipher.\n",
    "def caesar_cipher(text, shift):\n",
    "  \"\"\"\n",
    "  Encodes a string using a Caesar cipher.\n",
    "\n",
    "  Args:\n",
    "    text: The string to encode.\n",
    "    shift: The number of positions to shift each letter.\n",
    "\n",
    "  Returns:\n",
    "    The encoded string.\n",
    "  \"\"\"\n",
    "\n",
    "  # Initialize an empty string to store the encoded text.\n",
    "  encoded_text = \"\"\n",
    "\n",
    "  # Iterate through each character in the input text.\n",
    "  for char in text:\n",
    "    # Check if the character is alphabetic.\n",
    "    if char.isalpha():\n",
    "      # Calculate the encoded character's Unicode code point value by shifting it by the specified amount.\n",
    "      # Ensure the value wraps around within the lowercase alphabet range (a-z).\n",
    "      encoded_char = chr((ord(char) + shift - ord('a')) % 26 + ord('a'))\n",
    "    else:\n",
    "      # Keep non-alphabetic characters unchanged.\n",
    "      encoded_char = char\n",
    "\n",
    "    # Add the encoded character to the encoded text.\n",
    "    encoded_text += encoded_char\n",
    "\n",
    "  # Return the resulting encoded text.\n",
    "  return encoded_text\n",
    "\n",
    "# Define the input text and the shift value for encoding.\n",
    "text = \"Hello, world!\"\n",
    "shift = 3\n",
    "\n",
    "# Call the caesar_cipher function to encode the text using the specified shift.\n",
    "encoded_text = caesar_cipher(text, shift)\n",
    "\n",
    "# Print the encoded text.\n",
    "print(\"Encoded text:\", encoded_text)"
   ]
  },
  {
   "cell_type": "code",
   "execution_count": 17,
   "id": "f6ecccf0",
   "metadata": {},
   "outputs": [
    {
     "name": "stdout",
     "output_type": "stream",
     "text": [
      "Decoded text: ilmm, world!\n"
     ]
    }
   ],
   "source": [
    "# Define a function to decode a string using a Caesar cipher\n",
    "def caesar_cipher_decoder(text, shift):\n",
    "    \"\"\"\n",
    "    Decodes a string using a Caesar cipher.\n",
    "\n",
    "    Args:\n",
    "        text: The string to decode.\n",
    "        shift: The number of positions to shift each letter.\n",
    "\n",
    "    Returns:\n",
    "        The decoded string.\n",
    "    \"\"\"\n",
    "\n",
    "    # Initialize an empty string to store the decoded text\n",
    "    decoded_text = \"\"\n",
    "\n",
    "    # Loop through each character in the input text\n",
    "    for char in text:\n",
    "        # Check if the character is an alphabetic character\n",
    "        if char.isalpha():\n",
    "            # Calculate the decoded character using the shift value\n",
    "            decoded_char = chr((ord(char) - shift - ord('a')) % 26 + ord('a'))\n",
    "        else:\n",
    "            # If the character is not alphabetic, keep it unchanged\n",
    "            decoded_char = char\n",
    "\n",
    "        # Add the decoded character to the decoded text\n",
    "        decoded_text += decoded_char\n",
    "\n",
    "    # Return the fully decoded text\n",
    "    return decoded_text\n",
    "\n",
    "# Example input\n",
    "text = \"lopp, zruog!\"\n",
    "shift = 3\n",
    "\n",
    "# Call the caesar_cipher_decoder function to decode the input text\n",
    "decoded_text = caesar_cipher_decoder(text, shift)\n",
    "\n",
    "# Print the decoded text\n",
    "print(\"Decoded text:\", decoded_text)"
   ]
  },
  {
   "cell_type": "code",
   "execution_count": 25,
   "id": "b8d775ac",
   "metadata": {},
   "outputs": [
    {
     "name": "stdout",
     "output_type": "stream",
     "text": [
      "\n",
      " Enter the string sagar is good boy sagar sagar sagar\n",
      "\n",
      " Most Occured word sagar and times 6  sagar 6\n"
     ]
    }
   ],
   "source": [
    "#44. Find the most frequent word in a string.\n",
    "s=input(\"\\n Enter the string \")\n",
    "s=s.split()\n",
    "n=len(s)\n",
    "f=0\n",
    "count=0\n",
    "for i in range(n):\n",
    "    for j in range(i+1,n):\n",
    "        if s[i]==s[j]:\n",
    "            count=count+1\n",
    "    if count>=f:\n",
    "        r=s[i]\n",
    "        f=count\n",
    "print(f\"\\n Most Occured word {r} and times {f} \",r,f)"
   ]
  },
  {
   "cell_type": "code",
   "execution_count": 1,
   "id": "c51ccbbb",
   "metadata": {},
   "outputs": [
    {
     "name": "stdout",
     "output_type": "stream",
     "text": [
      "\n",
      " Enter the String sagar is sagar boy of boy\n",
      "\n",
      " Set  {'boy', 'of', 'sagar', 'is'}\n"
     ]
    }
   ],
   "source": [
    "#45. Find all unique words in a string.\n",
    "s=input(\"\\n Enter the String \")\n",
    "s=s.split()\n",
    "s=set(s)\n",
    "print(\"\\n Set \",s)"
   ]
  },
  {
   "cell_type": "code",
   "execution_count": 5,
   "id": "840c0e21",
   "metadata": {},
   "outputs": [
    {
     "name": "stdout",
     "output_type": "stream",
     "text": [
      "\n",
      " Enter the string sagar is good boy\n",
      "\n",
      "  syllables  6\n"
     ]
    }
   ],
   "source": [
    "#46. Count the number of syllables in a string.\n",
    "s=input(\"\\n Enter the string \")\n",
    "s=s.lower()\n",
    "c=0\n",
    "for i in s:\n",
    "    if i in 'a' or i in 'e' or i in 'i' or i in 'o' or i in 'u':\n",
    "        c=c+1\n",
    "print(\"\\n  syllables \",c)"
   ]
  },
  {
   "cell_type": "code",
   "execution_count": 7,
   "id": "5b280d6c",
   "metadata": {},
   "outputs": [
    {
     "name": "stdout",
     "output_type": "stream",
     "text": [
      "\n",
      " String one  True\n",
      "\n",
      " String one  True\n"
     ]
    }
   ],
   "source": [
    "#47. Check if a string contains any special characters.\n",
    "import re\n",
    "def find(s):\n",
    "    s=s.lower()\n",
    "    p=re.compile(r'[!@#$%^&*()_+{}\\[\\]:;<>,.?~\\\\/]')\n",
    "    return bool(p.search(s))\n",
    "\n",
    "s1=\"'Hello, world!' contains special characters\"\n",
    "s2=\"'This is a test.' contains special characters\"\n",
    "print(\"\\n String one \",find(s1))\n",
    "print(\"\\n String one \",find(s2))"
   ]
  },
  {
   "cell_type": "code",
   "execution_count": 9,
   "id": "6aa3d077",
   "metadata": {},
   "outputs": [
    {
     "name": "stdout",
     "output_type": "stream",
     "text": [
      "\n",
      " enter the string sagar is good boy\n",
      "\n",
      " Enter the Nth number 3\n",
      "\n",
      " Removed Word  good\n",
      "\n",
      " String after remove  sagar is boy\n"
     ]
    }
   ],
   "source": [
    "#48. Remove the nth word from a string.\n",
    "s=input(\"\\n enter the string \")\n",
    "l=s.split()\n",
    "n=int(input(\"\\n Enter the Nth number \"))\n",
    "if n>=1 and n<=len(l):\n",
    "    l2=l.pop(n-1)\n",
    "s2=' '.join(l)\n",
    "print(\"\\n Removed Word \",l2)\n",
    "print(\"\\n String after remove \",s2)\n",
    "    "
   ]
  },
  {
   "cell_type": "code",
   "execution_count": 12,
   "id": "56f5ea2f",
   "metadata": {},
   "outputs": [
    {
     "name": "stdout",
     "output_type": "stream",
     "text": [
      "\n",
      " Enter the String sagar is boy\n",
      "\n",
      " Enter the number 3\n",
      "\n",
      " Enter the word good\n",
      "\n",
      " Push  None\n",
      "\n",
      " string sagar is good boy\n"
     ]
    }
   ],
   "source": [
    "#49. Insert a word at the nth position in a string.\n",
    "s=input(\"\\n Enter the String \")\n",
    "l=s.split()\n",
    "n=int(input(\"\\n Enter the number \"))\n",
    "word=input(\"\\n Enter the word \")\n",
    "l2=l.insert(n-1,word)\n",
    "print(\"\\n Push \",l2)\n",
    "print(\"\\n string\",' '.join(l))"
   ]
  },
  {
   "cell_type": "code",
   "execution_count": 20,
   "id": "26c04f7a",
   "metadata": {},
   "outputs": [
    {
     "name": "stdout",
     "output_type": "stream",
     "text": [
      "['Name, Age, Country', 'John, 25, USA', 'Alice, 30, Canada', 'Bob, 22, UK']\n",
      "['Name', ' Age', ' Country']\n",
      "['John', ' 25', ' USA']\n",
      "['Alice', ' 30', ' Canada']\n",
      "['Bob', ' 22', ' UK']\n"
     ]
    }
   ],
   "source": [
    "#50. Convert a CSV string to a list of lists.\n",
    "csv= \"Name, Age, Country\\nJohn, 25, USA\\nAlice, 30, Canada\\nBob, 22, UK\"\n",
    "l=csv.split('\\n')\n",
    "print(l)\n",
    "r=[]\n",
    "for i in l:\n",
    "    l2=i.split(',')\n",
    "    r.append(l2)\n",
    "j=0\n",
    "for j in r:\n",
    "    print(j)"
   ]
  },
  {
   "cell_type": "code",
   "execution_count": 1,
   "id": "b44f0c9d",
   "metadata": {},
   "outputs": [],
   "source": [
    "#List"
   ]
  },
  {
   "cell_type": "code",
   "execution_count": 2,
   "id": "f51347dd",
   "metadata": {},
   "outputs": [
    {
     "name": "stdout",
     "output_type": "stream",
     "text": [
      "[1, 2, 3, 4, 5, 6, 7, 8, 9, 10]\n"
     ]
    }
   ],
   "source": [
    "#1. Create a list with integers from 1 to 10.\n",
    "\n",
    "l=[i for i in range(1,11)]\n",
    "print(l)"
   ]
  },
  {
   "cell_type": "code",
   "execution_count": 3,
   "id": "a6a52706",
   "metadata": {},
   "outputs": [
    {
     "name": "stdout",
     "output_type": "stream",
     "text": [
      "\n",
      " Length of list  10\n"
     ]
    }
   ],
   "source": [
    "#2. Find the length of a list without using the `len()` function.\n",
    "\n",
    "l=[i for i in range(1,11)]\n",
    "le=len(l)\n",
    "print(\"\\n Length of list \",le)"
   ]
  },
  {
   "cell_type": "code",
   "execution_count": 26,
   "id": "ef325c32",
   "metadata": {},
   "outputs": [
    {
     "name": "stdout",
     "output_type": "stream",
     "text": [
      "\n",
      " String  ['Name, Age, Country', ' John, 22, USA', ' Alice, 23, India', ' Sagar, 25, USA']\n",
      "\n",
      " s2  ['Name', ' Age', ' Country']\n",
      "\n",
      " s2  [' John', ' 22', ' USA']\n",
      "\n",
      " s2  [' Alice', ' 23', ' India']\n",
      "\n",
      " s2  [' Sagar', ' 25', ' USA']\n",
      "['Name', ' Age', ' Country']\n",
      "[' John', ' 22', ' USA']\n",
      "[' Alice', ' 23', ' India']\n",
      "[' Sagar', ' 25', ' USA']\n"
     ]
    }
   ],
   "source": [
    "#3. Append an element to the end of a list.\n",
    "\n",
    "l= []\n",
    "s=\"Name, Age, Country\\n John, 22, USA\\n Alice, 23, India\\n Sagar, 25, USA\"\n",
    "s=s.split('\\n')\n",
    "print(\"\\n String \",s)\n",
    "for s2 in s:\n",
    "    s2=s2.split(',')\n",
    "    print(\"\\n s2 \",s2)\n",
    "    l.append(s2)\n",
    "   \n",
    "    \n",
    "for i in l:\n",
    "    print(i)"
   ]
  },
  {
   "cell_type": "code",
   "execution_count": 28,
   "id": "8af578ea",
   "metadata": {},
   "outputs": [
    {
     "name": "stdout",
     "output_type": "stream",
     "text": [
      "[1, 2, 3, 4, 25, 5, 6, 7, 8]\n"
     ]
    }
   ],
   "source": [
    "#4. Insert an element at a specific index in a list.\n",
    "\n",
    "l=[1,2,3,4,5,6,7,8]\n",
    "l.insert(4,25)\n",
    "print(l)"
   ]
  },
  {
   "cell_type": "code",
   "execution_count": 31,
   "id": "e8ca2430",
   "metadata": {},
   "outputs": [
    {
     "name": "stdout",
     "output_type": "stream",
     "text": [
      "\n",
      " Element after remove  [1, 3, 4, 5, 6, 7]\n"
     ]
    }
   ],
   "source": [
    "#5. Remove an element from a list by its value.\n",
    "l=[1,2,3,4,5,6,7]\n",
    "l.remove(2)\n",
    "print(\"\\n Element after remove \",l)"
   ]
  },
  {
   "cell_type": "code",
   "execution_count": 32,
   "id": "e3cf3803",
   "metadata": {},
   "outputs": [
    {
     "name": "stdout",
     "output_type": "stream",
     "text": [
      "[2, 3, 4, 5, 6, 7]\n"
     ]
    }
   ],
   "source": [
    "#6. Remove an element from a list by its index.\n",
    "\n",
    "l=[1,2,3,4,5,6,7]\n",
    "l.pop(0)\n",
    "print(l)"
   ]
  },
  {
   "cell_type": "code",
   "execution_count": 35,
   "id": "c8f46548",
   "metadata": {},
   "outputs": [
    {
     "name": "stdout",
     "output_type": "stream",
     "text": [
      "\n",
      " Enter the elementsagar\n",
      "\n",
      " element is present \n"
     ]
    }
   ],
   "source": [
    "#7. Check if an element exists in a list.\n",
    "\n",
    "l=[1,\"sagar\",3,4,5,6,\"a\"]\n",
    "s=input(\"\\n Enter the element\")\n",
    "if s in l:\n",
    "    print(\"\\n element is present \")\n",
    "else:\n",
    "    print(\"\\n element is not present \")"
   ]
  },
  {
   "cell_type": "code",
   "execution_count": 39,
   "id": "b0ffab3a",
   "metadata": {},
   "outputs": [
    {
     "name": "stdout",
     "output_type": "stream",
     "text": [
      "\n",
      " index  7\n"
     ]
    }
   ],
   "source": [
    "#8. Find the index of the first occurrence of an element in a list.\n",
    "\n",
    "l=[1,2,3,5,6,7,8,4,5,4]\n",
    "s=4\n",
    "l2=l.index(s)\n",
    "print(\"\\n index \",l2)"
   ]
  },
  {
   "cell_type": "code",
   "execution_count": 40,
   "id": "0ad98175",
   "metadata": {},
   "outputs": [
    {
     "name": "stdout",
     "output_type": "stream",
     "text": [
      "4\n"
     ]
    }
   ],
   "source": [
    "#9. Count the occurrences of an element in a list.\n",
    "l=[1,2,3,4,5,67,7,8,6,3,31,2,1,1,1,5]\n",
    "s=l.count(1)\n",
    "print(s)"
   ]
  },
  {
   "cell_type": "code",
   "execution_count": 41,
   "id": "32defdf2",
   "metadata": {},
   "outputs": [
    {
     "name": "stdout",
     "output_type": "stream",
     "text": [
      "[8, 7, 6, 5, 3, 4, 2, 1, 1]\n"
     ]
    }
   ],
   "source": [
    "#10. Reverse the order of elements in a list.\n",
    "l=[1,1,2,4,3,5,6,7,8]\n",
    "a=l[::-1]\n",
    "print(a)"
   ]
  },
  {
   "cell_type": "code",
   "execution_count": 44,
   "id": "e3bfac4c",
   "metadata": {},
   "outputs": [
    {
     "name": "stdout",
     "output_type": "stream",
     "text": [
      "[1, 2, 4, 5, 6, 6, 8, 8, 9, 10]\n"
     ]
    }
   ],
   "source": [
    "#11. Sort a list in ascending order.\n",
    "l=[2,4,5,1,6,8,10,6,8,9]\n",
    "l.sort()\n",
    "print(l)"
   ]
  },
  {
   "cell_type": "code",
   "execution_count": 45,
   "id": "bd5c80d8",
   "metadata": {},
   "outputs": [
    {
     "name": "stdout",
     "output_type": "stream",
     "text": [
      "\n",
      " Reverse of list [45, 23, 23, 11, 10, 8, 5, 4, 4, 3, 2, 1]\n"
     ]
    }
   ],
   "source": [
    "#12. Sort a list in descending order.\n",
    "l=[10,11,23,1,23,2,3,45,4,5,8,4]\n",
    "l.sort(reverse=True)\n",
    "print(\"\\n Reverse of list\",l)"
   ]
  },
  {
   "cell_type": "code",
   "execution_count": 47,
   "id": "d763077d",
   "metadata": {},
   "outputs": [
    {
     "name": "stdout",
     "output_type": "stream",
     "text": [
      "[0, 2, 4, 6, 8, 10, 12, 14, 16, 18, 20]\n"
     ]
    }
   ],
   "source": [
    "#13. Create a list of even numbers from 1 to 20.\n",
    "\n",
    "l=[i for i in range(0,21,2)]\n",
    "print(l)"
   ]
  },
  {
   "cell_type": "code",
   "execution_count": 50,
   "id": "fd13b814",
   "metadata": {},
   "outputs": [
    {
     "name": "stdout",
     "output_type": "stream",
     "text": [
      "[1, 3, 5, 7, 9, 11, 13, 15, 17, 19]\n"
     ]
    }
   ],
   "source": [
    "#14. Create a list of odd numbers from 1 to 20.\n",
    "l=[i for i in range(1,21,2)]\n",
    "print(l)"
   ]
  },
  {
   "cell_type": "code",
   "execution_count": 53,
   "id": "226e976d",
   "metadata": {},
   "outputs": [
    {
     "name": "stdout",
     "output_type": "stream",
     "text": [
      "[1, 2, 3, 4, 5, 6, 7, 8, 9, 10]\n",
      "\n",
      " Sum  55\n"
     ]
    }
   ],
   "source": [
    "#15. Find the sum of all elements in a list.\n",
    "l=[i for i in range(1,11)]\n",
    "print(l)\n",
    "c=0\n",
    "for i in l:\n",
    "    c=c+i\n",
    "print(\"\\n Sum \",c)"
   ]
  },
  {
   "cell_type": "code",
   "execution_count": 55,
   "id": "f999f34f",
   "metadata": {},
   "outputs": [
    {
     "name": "stdout",
     "output_type": "stream",
     "text": [
      "20\n"
     ]
    }
   ],
   "source": [
    "#16. Find the maximum value in a list.\n",
    "\n",
    "l=[i for i in range(1,21,1)]\n",
    "ma=max(l)\n",
    "print(ma)"
   ]
  },
  {
   "cell_type": "code",
   "execution_count": 56,
   "id": "1f2870ae",
   "metadata": {},
   "outputs": [
    {
     "name": "stdout",
     "output_type": "stream",
     "text": [
      "1\n"
     ]
    }
   ],
   "source": [
    "#17. Find the minimum value in a list.\n",
    "\n",
    "l=[i for i in range(1,21)]\n",
    "mi=min(l)\n",
    "print(mi)\n"
   ]
  },
  {
   "cell_type": "code",
   "execution_count": 57,
   "id": "962322f1",
   "metadata": {},
   "outputs": [
    {
     "name": "stdout",
     "output_type": "stream",
     "text": [
      "[1, 4, 9, 16, 25, 36, 49, 64, 81, 100, 121, 144, 169, 196, 225, 256, 289, 324, 361, 400]\n"
     ]
    }
   ],
   "source": [
    "#18. Create a list of squares of numbers from 1 to 10.\n",
    "l=[i**2 for i in range(1,21,1)]\n",
    "print(l)"
   ]
  },
  {
   "cell_type": "code",
   "execution_count": 58,
   "id": "75d144a8",
   "metadata": {},
   "outputs": [
    {
     "name": "stdout",
     "output_type": "stream",
     "text": [
      "[61, 73, 3, 20, 18, 29, 9, 6, 45, 73]\n"
     ]
    }
   ],
   "source": [
    "#19. Create a list of random numbers.\n",
    "import random as r\n",
    "l=[r.randint(1,100) for i in range(1,11)]\n",
    "print(l)"
   ]
  },
  {
   "cell_type": "code",
   "execution_count": 61,
   "id": "3269102d",
   "metadata": {},
   "outputs": [
    {
     "name": "stdout",
     "output_type": "stream",
     "text": [
      "[1, 2, 3, 4, 5, 6, 7, 8, 9, 10, 11, 12, 13, 14, 15, 16, 17, 18, 19, 20, 1, 2, 3, 4, 5, 6, 7, 8, 9, 10, 11, 12, 13, 14, 15, 16, 17, 18, 19, 20]\n",
      "\n",
      " Set  {1, 2, 3, 4, 5, 6, 7, 8, 9, 10, 11, 12, 13, 14, 15, 16, 17, 18, 19, 20}\n"
     ]
    }
   ],
   "source": [
    "#20. Remove duplicates from a list.\n",
    "\n",
    "l=[i for i in range(1,21)]\n",
    "l2=[i for i in range(1,21)]\n",
    "l3=l2+l\n",
    "print(l3)\n",
    "sl=set(l3)\n",
    "print(\"\\n Set \",sl)"
   ]
  },
  {
   "cell_type": "code",
   "execution_count": 68,
   "id": "0640cac2",
   "metadata": {},
   "outputs": [
    {
     "name": "stdout",
     "output_type": "stream",
     "text": [
      "{40, 50, 30}\n"
     ]
    }
   ],
   "source": [
    "#21. Find the common elements between two lists.\n",
    "\n",
    "# Example lists\n",
    "list1 = [10, 20, 30, 40, 50]\n",
    "list2 = [30, 40, 50, 60, 70]\n",
    "\n",
    "s=set(list1).intersection(set(list2))\n",
    "print(s)"
   ]
  },
  {
   "cell_type": "code",
   "execution_count": 67,
   "id": "de0bf850",
   "metadata": {},
   "outputs": [
    {
     "name": "stdout",
     "output_type": "stream",
     "text": [
      "{10, 20}\n"
     ]
    }
   ],
   "source": [
    "#22. Find the difference between two lists.\n",
    "\n",
    "\n",
    "# Example lists\n",
    "list1 = [10, 20, 30, 40, 50]\n",
    "list2 = [30, 40, 50, 60, 70]\n",
    "\n",
    "s=set(list1).difference(set(list2))\n",
    "print(s)"
   ]
  },
  {
   "cell_type": "code",
   "execution_count": 69,
   "id": "39ea77a0",
   "metadata": {},
   "outputs": [
    {
     "name": "stdout",
     "output_type": "stream",
     "text": [
      "[21, 22, 23, 24, 25, 26, 27, 28, 29, 30, 31, 32, 33, 34, 35, 36, 37, 38, 39, 40, 1, 2, 3, 4, 5, 6, 7, 8, 9, 10, 11, 12, 13, 14, 15, 16, 17, 18, 19, 20]\n"
     ]
    }
   ],
   "source": [
    "#23. Merge two lists.\n",
    "\n",
    "l=[i for i in range(1,21)]\n",
    "l2=[j for j in range(21,41)]\n",
    "l3=l2+l\n",
    "print(l3)"
   ]
  },
  {
   "cell_type": "code",
   "execution_count": 71,
   "id": "4dafb2ff",
   "metadata": {},
   "outputs": [
    {
     "name": "stdout",
     "output_type": "stream",
     "text": [
      "[2, 4, 6, 8, 10, 12, 14, 16, 18, 20, 22, 24, 26, 28, 30, 32, 34, 36, 38, 40]\n"
     ]
    }
   ],
   "source": [
    "#24. Multiply all elements in a list by 2.\n",
    "\n",
    "l=[i*2 for i in range(1,21)]\n",
    "print(l)"
   ]
  },
  {
   "cell_type": "code",
   "execution_count": 73,
   "id": "43106e1e",
   "metadata": {},
   "outputs": [
    {
     "name": "stdout",
     "output_type": "stream",
     "text": [
      "[2, 4, 6, 8, 10, 12, 14, 16, 18, 20]\n"
     ]
    }
   ],
   "source": [
    "#25. Filter out all even numbers from a list.\n",
    "l=[]\n",
    "for i in range(1,21):\n",
    "    if i%2==0:\n",
    "        l.append(i)\n",
    "print(l)    "
   ]
  },
  {
   "cell_type": "code",
   "execution_count": 74,
   "id": "c0195b81",
   "metadata": {},
   "outputs": [
    {
     "name": "stdout",
     "output_type": "stream",
     "text": [
      "[1, 2, 3, 4]\n"
     ]
    }
   ],
   "source": [
    "#26. Convert a list of strings to a list of integers.\n",
    "s=[\"1\",\"2\",\"3\",\"4\"]\n",
    "l=[]\n",
    "for i in s:\n",
    "    i=int(i)\n",
    "    l.append(i)\n",
    "print(l)"
   ]
  },
  {
   "cell_type": "code",
   "execution_count": 76,
   "id": "464ad00b",
   "metadata": {},
   "outputs": [
    {
     "name": "stdout",
     "output_type": "stream",
     "text": [
      "['1', '2', '3', '4', '5', '6', '7', '8', '9', '10', '11', '12', '13', '14', '15', '16', '17', '18', '19', '20']\n"
     ]
    }
   ],
   "source": [
    "#27. Convert a list of integers to a list of strings.\n",
    "l=[str(i) for i in range(1,21)]\n",
    "print(l)\n"
   ]
  },
  {
   "cell_type": "code",
   "execution_count": 2,
   "id": "217094c6",
   "metadata": {},
   "outputs": [
    {
     "name": "stdout",
     "output_type": "stream",
     "text": [
      "[1, 2, 3, 4, 5, 6, 7, 8, 9]\n"
     ]
    }
   ],
   "source": [
    "#28. Flatten a nested list.\n",
    "def call(l):\n",
    "    l2=[]\n",
    "    for i in l:\n",
    "        if isinstance(i,list):\n",
    "            l2.extend(call(i))\n",
    "        else:\n",
    "            l2.append(i)\n",
    "    return l2\n",
    "\n",
    "l = [[1, 2, 3], [4, 5], [6, 7, 8, 9]]\n",
    "l2=call(l)\n",
    "print(l2)"
   ]
  },
  {
   "cell_type": "code",
   "execution_count": 8,
   "id": "82c48d9b",
   "metadata": {},
   "outputs": [
    {
     "name": "stdout",
     "output_type": "stream",
     "text": [
      "[0, 1, 1, 2, 3, 5, 8, 13, 21, 34, 55]\n"
     ]
    }
   ],
   "source": [
    "#29. Create a list of the first 10 Fibonacci numbers.\n",
    "\n",
    "f=[0,1]\n",
    "for i in range(2,11):\n",
    "    n=f[i-1]+f[i-2]\n",
    "    f.append(n)\n",
    "print(f)"
   ]
  },
  {
   "cell_type": "code",
   "execution_count": 20,
   "id": "369c6529",
   "metadata": {},
   "outputs": [
    {
     "name": "stdout",
     "output_type": "stream",
     "text": [
      "[1, 2, 4, 3, 5, 6, 7]\n",
      "[1, 2, 3, 4, 5, 6, 7]\n",
      "\n",
      " Not sorted\n"
     ]
    }
   ],
   "source": [
    "#30. Check if a list is sorted.\n",
    "\n",
    "l=[1,2,4,3,5,6,7]\n",
    "l2=l[:]\n",
    "l2.sort()\n",
    "print(l)\n",
    "print(l2)\n",
    "if(l==l2):\n",
    "    print(\"\\n Sorted\")\n",
    "else:\n",
    "    print(\"\\n Not sorted\")"
   ]
  },
  {
   "cell_type": "code",
   "execution_count": 1,
   "id": "2d538022",
   "metadata": {},
   "outputs": [
    {
     "name": "stdout",
     "output_type": "stream",
     "text": [
      "\n",
      " Enter the position to rotate 2\n",
      "\n",
      " List  [4, 3, 5, 6, 7, 1, 2]\n"
     ]
    }
   ],
   "source": [
    "#31. Rotate a list to the left by `n` positions.\n",
    "l=[1,2,4,3,5,6,7]\n",
    "n=int(input(\"\\n Enter the position to rotate \"))\n",
    "l2=l[n:]+l[:n]\n",
    "print(\"\\n List \",l2)\n",
    "\n"
   ]
  },
  {
   "cell_type": "code",
   "execution_count": 6,
   "id": "e06d6f38",
   "metadata": {},
   "outputs": [
    {
     "name": "stdout",
     "output_type": "stream",
     "text": [
      "\n",
      " Enter the position to rotate 2\n",
      "\n",
      " List  [6, 7, 1, 2, 4, 3, 5]\n"
     ]
    }
   ],
   "source": [
    "#32. Rotate a list to the right by `n` positions.\n",
    "l=[1,2,4,3,5,6,7]\n",
    "n=int(input(\"\\n Enter the position to rotate \"))\n",
    "l2=l[-n:]+l[:-n]\n",
    "print(\"\\n List \",l2)\n"
   ]
  },
  {
   "cell_type": "code",
   "execution_count": 16,
   "id": "09a213be",
   "metadata": {},
   "outputs": [
    {
     "name": "stdout",
     "output_type": "stream",
     "text": [
      "[2, 3, 5, 7, 11, 13, 17, 19, 23, 29, 31, 37, 41, 43, 47]\n"
     ]
    }
   ],
   "source": [
    "#33. Create a list of prime numbers up to 50.\n",
    "\n",
    "l=[]\n",
    "for i in range(2,51):\n",
    "    c=0\n",
    "    for j in range(1,51):\n",
    "        if i%j==0:\n",
    "            c=c+1\n",
    "    if(c==2):\n",
    "        l.append(i)\n",
    "print(l)"
   ]
  },
  {
   "cell_type": "code",
   "execution_count": 2,
   "id": "ee38577c",
   "metadata": {},
   "outputs": [
    {
     "name": "stdout",
     "output_type": "stream",
     "text": [
      "\n",
      " Enter the value of N 2\n",
      "[1, 2]\n",
      "[3, 4]\n",
      "[5, 6]\n",
      "[7, 8]\n"
     ]
    }
   ],
   "source": [
    "#34. Split a list into chunks of size `n`.\n",
    "\n",
    "\n",
    "l=[1,2,3,4,5,6,7,8]\n",
    "n=int(input(\"\\n Enter the value of N \"))\n",
    "for i in range(0,len(l),n):\n",
    "    print(l[i:i+n])"
   ]
  },
  {
   "cell_type": "code",
   "execution_count": 22,
   "id": "cf71982b",
   "metadata": {},
   "outputs": [
    {
     "name": "stdout",
     "output_type": "stream",
     "text": [
      "[1, 2, 3, 4, 5, 6, 7, 8]\n",
      "\n",
      " Second larget Number : 7\n"
     ]
    }
   ],
   "source": [
    "#### 35. Find the second largest number in a list.\n",
    "\n",
    "l=[1,2,3,5,4,6,7,8]\n",
    "l.sort(reverse=False)\n",
    "print(l)\n",
    "\n",
    "print(\"\\n Second larget Number :\",l[-2])\n"
   ]
  },
  {
   "cell_type": "code",
   "execution_count": 24,
   "id": "fb88da0c",
   "metadata": {},
   "outputs": [
    {
     "name": "stdout",
     "output_type": "stream",
     "text": [
      "[1, 4, 9, 16, 25, 36]\n"
     ]
    }
   ],
   "source": [
    "#### 36. Replace every element in a list with its square.\n",
    "\n",
    "l=[1,2,3,4,5,6]\n",
    "l2=[]\n",
    "for i in l:\n",
    "    i=i**2\n",
    "    l2.append(i)\n",
    "print(l2)"
   ]
  },
  {
   "cell_type": "code",
   "execution_count": 29,
   "id": "fa0f694e",
   "metadata": {},
   "outputs": [
    {
     "name": "stdout",
     "output_type": "stream",
     "text": [
      "{0: 'Apple', 1: 'Banana', 2: 'Grapes', 3: 'cherry', 4: 'date'}\n"
     ]
    }
   ],
   "source": [
    "### 37. Convert a list to a dictionary where list elements become keys and their indices become values.\n",
    "l=[\"Apple\",\"Banana\",\"Grapes\",\"cherry\",\"date\"]\n",
    "s={}\n",
    "for i,element in enumerate(l):\n",
    "    s[i]=element\n",
    "print(s)\n",
    "    "
   ]
  },
  {
   "cell_type": "code",
   "execution_count": 31,
   "id": "14c04e37",
   "metadata": {},
   "outputs": [
    {
     "name": "stdout",
     "output_type": "stream",
     "text": [
      "Shuffled list: [9, 3, 10, 1, 5, 2, 6, 7, 8, 4]\n"
     ]
    }
   ],
   "source": [
    "### 38. Shuffle the elements of a list randomly.\n",
    "import random\n",
    "\n",
    "# Example list\n",
    "my_list = [1, 2, 3, 4, 5, 6, 7, 8, 9, 10]\n",
    "\n",
    "# Shuffle the list randomly\n",
    "random.shuffle(my_list)\n",
    "\n",
    "# Print the shuffled list\n",
    "print(\"Shuffled list:\", my_list)"
   ]
  },
  {
   "cell_type": "code",
   "execution_count": 46,
   "id": "5da2092f",
   "metadata": {},
   "outputs": [
    {
     "name": "stdout",
     "output_type": "stream",
     "text": [
      "Factorial  3628800\n"
     ]
    }
   ],
   "source": [
    "### 39. Create a list of the first 10 factorial numbers.\n",
    "\n",
    "l=[]\n",
    "i=11\n",
    "f=1\n",
    "while(i>1):\n",
    "    i=i-1\n",
    "    #print(i)\n",
    "    f=f*i\n",
    "print(\"Factorial \",f)"
   ]
  },
  {
   "cell_type": "code",
   "execution_count": 47,
   "id": "efb20472",
   "metadata": {},
   "outputs": [
    {
     "name": "stdout",
     "output_type": "stream",
     "text": [
      "\n",
      " yes present 1\n",
      "\n",
      " yes present 3\n",
      "\n",
      " yes present 4\n",
      "\n",
      " yes present 5\n"
     ]
    }
   ],
   "source": [
    "### 40. Check if two lists have at least one element in common.\n",
    "\n",
    "l=[1,2,3,4,5,6,7,8]\n",
    "l2=[10,20,30,1,3,4,5,40]\n",
    "for i in l:\n",
    "    if i in l2:\n",
    "        print(\"\\n yes present\",i)\n",
    "            "
   ]
  },
  {
   "cell_type": "code",
   "execution_count": 48,
   "id": "8bffe144",
   "metadata": {},
   "outputs": [
    {
     "name": "stdout",
     "output_type": "stream",
     "text": [
      "Empty list: []\n"
     ]
    }
   ],
   "source": [
    "### 41. Remove all elements from a list.\n",
    "# Example list\n",
    "my_list = [1, 2, 3, 4, 5]\n",
    "\n",
    "# Clear all elements from the list\n",
    "my_list.clear()\n",
    "\n",
    "# Print the empty list\n",
    "print(\"Empty list:\", my_list)"
   ]
  },
  {
   "cell_type": "code",
   "execution_count": 52,
   "id": "dea84b45",
   "metadata": {},
   "outputs": [
    {
     "name": "stdout",
     "output_type": "stream",
     "text": [
      "[10, 0, 20, 0, 30, 0]\n",
      "List after replacing negative numbers with 0: [10, 0, 20, 0, 30, 0]\n"
     ]
    }
   ],
   "source": [
    "### 42. Replace negative numbers in a list with 0.\n",
    "# Example list\n",
    "l = [10, -5, 20, -15, 30, -25]\n",
    "for i in range(len(l)):\n",
    "    if l[i]<0:\n",
    "        l[i]=0\n",
    "print(l)\n",
    "\n",
    "# Print the list after replacing negative numbers with 0\n",
    "print(\"List after replacing negative numbers with 0:\", l)"
   ]
  },
  {
   "cell_type": "code",
   "execution_count": 54,
   "id": "d85e37af",
   "metadata": {},
   "outputs": [
    {
     "name": "stdout",
     "output_type": "stream",
     "text": [
      "List of words: ['Hello,', 'this', 'is', 'a', 'sample', 'sentence.']\n"
     ]
    }
   ],
   "source": [
    "### 43. Convert a string into a list of words.\n",
    "# Example string\n",
    "my_string = \"Hello, this is a sample sentence.\"\n",
    "\n",
    "# Convert the string into a list of words\n",
    "word_list = my_string.split()\n",
    "\n",
    "# Print the list of words\n",
    "print(\"List of words:\", word_list)"
   ]
  },
  {
   "cell_type": "code",
   "execution_count": 55,
   "id": "9d8e7c9a",
   "metadata": {},
   "outputs": [
    {
     "name": "stdout",
     "output_type": "stream",
     "text": [
      "Converted string: Hello, this is a sample sentence.\n"
     ]
    }
   ],
   "source": [
    "### 44. Convert a list of words into a string.\n",
    "# Example list of words\n",
    "word_list = [\"Hello,\", \"this\", \"is\", \"a\", \"sample\", \"sentence.\"]\n",
    "\n",
    "# Convert the list of words into a string\n",
    "my_string = \" \".join(word_list)\n",
    "\n",
    "# Print the resulting string\n",
    "print(\"Converted string:\", my_string)"
   ]
  },
  {
   "cell_type": "code",
   "execution_count": 56,
   "id": "7b7783c0",
   "metadata": {},
   "outputs": [
    {
     "name": "stdout",
     "output_type": "stream",
     "text": [
      "\n",
      " Enter the number 4\n",
      "[1, 4, 9, 16]\n"
     ]
    }
   ],
   "source": [
    "### 45. Create a list of the first `n` powers of 2.\n",
    "\n",
    "l=[]\n",
    "n=int(input(\"\\n Enter the number \"))\n",
    "for i in range(1,n+1):\n",
    "    s=i**2\n",
    "    l.append(s)\n",
    "print(l)"
   ]
  },
  {
   "cell_type": "code",
   "execution_count": 59,
   "id": "d4df559d",
   "metadata": {},
   "outputs": [
    {
     "name": "stdout",
     "output_type": "stream",
     "text": [
      "\n",
      " The longest element  elderberry\n"
     ]
    }
   ],
   "source": [
    "### 46. Find the longest string in a list of strings.\n",
    "# Example list of strings\n",
    "l= [\"apple\", \"banana\", \"cherry\", \"date\", \"elderberry\"]\n",
    "s=\"\"\n",
    "for i in l:\n",
    "    if len(i)>len(s):\n",
    "        s=i\n",
    "print(\"\\n The longest element \",s)"
   ]
  },
  {
   "cell_type": "code",
   "execution_count": 62,
   "id": "d35e89bc",
   "metadata": {},
   "outputs": [
    {
     "name": "stdout",
     "output_type": "stream",
     "text": [
      "\n",
      " The short element  che\n"
     ]
    }
   ],
   "source": [
    "### 47. Find the shortest string in a list of strings.\n",
    "l= [\"apple\", \"banana\", \"che\", \"date\", \"elderberry\"]\n",
    "s=l[0]\n",
    "for i in l:\n",
    "    if len(i)<len(s):\n",
    "        s=i\n",
    "print(\"\\n The short element \",s)\n"
   ]
  },
  {
   "cell_type": "code",
   "execution_count": 63,
   "id": "b9c3f813",
   "metadata": {},
   "outputs": [
    {
     "name": "stdout",
     "output_type": "stream",
     "text": [
      "List of the first 5 triangular numbers: [1, 3, 6, 10, 15]\n"
     ]
    }
   ],
   "source": [
    "### 48. Create a list of the first `n` triangular numbers.\n",
    "# Function to calculate triangular numbers\n",
    "def triangular_numbers(n):\n",
    "    return [i * (i + 1) // 2 for i in range(1, n + 1)]\n",
    "\n",
    "# Specify the value of n\n",
    "n = 5\n",
    "\n",
    "# Create a list of the first n triangular numbers\n",
    "triangular_list = triangular_numbers(n)\n",
    "\n",
    "# Print the list of triangular numbers\n",
    "print(\"List of the first\", n, \"triangular numbers:\", triangular_list)"
   ]
  },
  {
   "cell_type": "code",
   "execution_count": 70,
   "id": "4dffa307",
   "metadata": {},
   "outputs": [
    {
     "name": "stdout",
     "output_type": "stream",
     "text": [
      "j 0\n",
      "I 1\n",
      "j 0\n",
      "I 2\n",
      "\n",
      " Matching\n",
      "j 1\n",
      "I 3\n",
      "\n",
      " Matching\n",
      "j 2\n",
      "I 4\n",
      "\n",
      " Matching\n",
      "\n",
      " yes \n"
     ]
    }
   ],
   "source": [
    "### 49. Check if a list contains another list as a subsequence.\n",
    "\n",
    "l=[1,2,3,4,5,6,7,8]\n",
    "l2=[2,3,4]\n",
    "j=0\n",
    "for i in l:\n",
    "    print(\"j\",j)\n",
    "    print(\"I\",i)\n",
    "    if i == l2[j]:\n",
    "        print(\"\\n Matching\")\n",
    "        j=j+1\n",
    "    if len(l2)==j:\n",
    "        print(\"\\n yes \")\n",
    "        break\n",
    "else:\n",
    "    print(\"\\n No\")"
   ]
  },
  {
   "cell_type": "code",
   "execution_count": 72,
   "id": "90fd8787",
   "metadata": {},
   "outputs": [
    {
     "name": "stdout",
     "output_type": "stream",
     "text": [
      "\n",
      " List before swap  [1, 2, 3, 4, 5, 6]\n",
      "\n",
      " List after swap  [1, 4, 3, 2, 5, 6]\n"
     ]
    }
   ],
   "source": [
    "### 50. Swap two elements in a list by their indices.\n",
    "\n",
    "l=[1,2,3,4,5,6]\n",
    "print(\"\\n List before swap \",l)\n",
    "temp=0\n",
    "i=1\n",
    "j=3\n",
    "temp=l[i]\n",
    "l[i]=l[j]\n",
    "l[j]=temp\n",
    "print(\"\\n List after swap \",l)\n"
   ]
  },
  {
   "cell_type": "markdown",
   "id": "e516657b",
   "metadata": {},
   "source": [
    "## **Tuple based practice problem :**\n",
    "\n",
    "---\n"
   ]
  },
  {
   "cell_type": "code",
   "execution_count": 74,
   "id": "2aff30ab",
   "metadata": {},
   "outputs": [
    {
     "name": "stdout",
     "output_type": "stream",
     "text": [
      "(1, 2, 3, 5, 5)\n"
     ]
    }
   ],
   "source": [
    "### 1. Create a tuple with integers from 1 to 5.\n",
    "t=(1,2,3,5,5)\n",
    "print(t)"
   ]
  },
  {
   "cell_type": "code",
   "execution_count": 75,
   "id": "b5bccc57",
   "metadata": {},
   "outputs": [
    {
     "name": "stdout",
     "output_type": "stream",
     "text": [
      "5\n"
     ]
    }
   ],
   "source": [
    "### 2. Access the third element of a tuple.\n",
    "print(t[3])"
   ]
  },
  {
   "cell_type": "code",
   "execution_count": 76,
   "id": "0483f312",
   "metadata": {},
   "outputs": [
    {
     "name": "stdout",
     "output_type": "stream",
     "text": [
      "\n",
      " Length of Tuple  5\n"
     ]
    }
   ],
   "source": [
    "c=0\n",
    "for i in t:\n",
    "    c=c+1\n",
    "print(\"\\n Length of Tuple \",c)"
   ]
  },
  {
   "cell_type": "code",
   "execution_count": 79,
   "id": "e3812b01",
   "metadata": {},
   "outputs": [
    {
     "name": "stdout",
     "output_type": "stream",
     "text": [
      "\n",
      " Occurrence of 20  3\n"
     ]
    }
   ],
   "source": [
    "### 4. Count the occurrences of an element in a tuple.\n",
    "\n",
    "# Step 1: Create a tuple\n",
    "t2 = (10, 20, 30, 20, 40, 50, 20)\n",
    "\n",
    "# Step 2: Choose the element to count occurrences of\n",
    "element= 20\n",
    "c=0\n",
    "for i in t2:\n",
    "    if i==element:\n",
    "        c=c+1\n",
    "print(\"\\n Occurrence of 20 \",c)"
   ]
  },
  {
   "cell_type": "code",
   "execution_count": 89,
   "id": "97638efb",
   "metadata": {},
   "outputs": [
    {
     "name": "stdout",
     "output_type": "stream",
     "text": [
      "\n",
      " First occurence of tuple element  4\n"
     ]
    }
   ],
   "source": [
    "### 5. Find the index of the first occurrence of an element in a tuple.\n",
    "t=(1,2,5,6,4,5,4,4)\n",
    "e=4\n",
    "c=0\n",
    "for i,element in enumerate(t):\n",
    "    if e==element:\n",
    "        print(\"\\n First occurence of tuple element \",i)\n",
    "        break\n"
   ]
  },
  {
   "cell_type": "code",
   "execution_count": 96,
   "id": "6c108a22",
   "metadata": {},
   "outputs": [
    {
     "name": "stdout",
     "output_type": "stream",
     "text": [
      "\n",
      " Element Exist in the tuple \n"
     ]
    }
   ],
   "source": [
    "##6. Check if an element exists in a tuple.\n",
    "\n",
    "t=(1,2,3,\"sagar\",5,4)\n",
    "e=\"sagar\"\n",
    "\n",
    "if e in t:\n",
    "    print(\"\\n Element Exist in the tuple \")\n",
    "else:\n",
    "    print(\"\\n No Element found\")        "
   ]
  },
  {
   "cell_type": "code",
   "execution_count": 97,
   "id": "372d83a2",
   "metadata": {},
   "outputs": [
    {
     "name": "stdout",
     "output_type": "stream",
     "text": [
      "\n",
      " List  [1, 2, 3, 4, 'Mukul', 'Soumya', 5, 6]\n"
     ]
    }
   ],
   "source": [
    "#7. Convert a tuple to a list.\n",
    "\n",
    "t=(1,2,3,4,\"Mukul\",\"Soumya\",5,6)\n",
    "l=list(t)\n",
    "print(\"\\n List \",l)"
   ]
  },
  {
   "cell_type": "code",
   "execution_count": 98,
   "id": "2f37a8d0",
   "metadata": {},
   "outputs": [
    {
     "name": "stdout",
     "output_type": "stream",
     "text": [
      "\n",
      " Tuple  (1, 2, 3, 4, 5, 'sagar', 'Rao')\n"
     ]
    }
   ],
   "source": [
    "##8. Convert a list to a tuple.\n",
    "\n",
    "l=[1,2,3,4,5,\"sagar\",\"Rao\"]\n",
    "t=tuple(l)\n",
    "print(\"\\n Tuple \",t)"
   ]
  },
  {
   "cell_type": "code",
   "execution_count": 102,
   "id": "c806df7b",
   "metadata": {},
   "outputs": [
    {
     "name": "stdout",
     "output_type": "stream",
     "text": [
      "var1: 10\n",
      "var2: 20\n",
      "var3: 30\n",
      "var4: 4\n"
     ]
    }
   ],
   "source": [
    "##9. Unpack the elements of a tuple into variables.\n",
    "\n",
    "# Step 1: Create a tuple\n",
    "my_tuple = (10, 20, 30,4)\n",
    "\n",
    "# Step 2: Unpack the elements of the tuple into variables\n",
    "var1, var2, var3,var4 = my_tuple\n",
    "\n",
    "# Step 3: Print the variables\n",
    "print(\"var1:\", var1)\n",
    "print(\"var2:\", var2)\n",
    "print(\"var3:\", var3)\n",
    "print(\"var4:\", var4)"
   ]
  },
  {
   "cell_type": "code",
   "execution_count": 107,
   "id": "d5fa63f2",
   "metadata": {},
   "outputs": [
    {
     "name": "stdout",
     "output_type": "stream",
     "text": [
      "(2, 4, 6, 8, 10)\n"
     ]
    }
   ],
   "source": [
    "#10. Create a tuple of even numbers from 1 to 10.\n",
    "l=[]\n",
    "for i in range(1,11):\n",
    "    if i %2==0:\n",
    "        l.append(i)\n",
    "print(tuple(l))"
   ]
  },
  {
   "cell_type": "code",
   "execution_count": 108,
   "id": "57fe7887",
   "metadata": {},
   "outputs": [
    {
     "name": "stdout",
     "output_type": "stream",
     "text": [
      "(1, 3, 5, 7, 9)\n"
     ]
    }
   ],
   "source": [
    "### 11. Create a tuple of odd numbers from 1 to 10.\n",
    "l=[]\n",
    "for i in range(1,11):\n",
    "    if i%2!=0:\n",
    "        l.append(i)\n",
    "print(tuple(l))"
   ]
  },
  {
   "cell_type": "code",
   "execution_count": 110,
   "id": "1e65dfe0",
   "metadata": {
    "scrolled": true
   },
   "outputs": [
    {
     "name": "stdout",
     "output_type": "stream",
     "text": [
      "\n",
      " Tuple  (5, 6, 7, 8, 1, 2, 3, 4)\n"
     ]
    }
   ],
   "source": [
    "#12. Concatenate two tuples.\n",
    "\n",
    "t=(1,2,3,4)\n",
    "t2=(5,6,7,8)\n",
    "t3=t2+t\n",
    "print(\"\\n Tuple \",t3)"
   ]
  },
  {
   "cell_type": "code",
   "execution_count": 113,
   "id": "6154d1a4",
   "metadata": {},
   "outputs": [
    {
     "name": "stdout",
     "output_type": "stream",
     "text": [
      "\n",
      " Tuple Three times (1, 2, 3, 4, 1, 2, 3, 4, 1, 2, 3, 4)\n"
     ]
    }
   ],
   "source": [
    "#13. Repeat a tuple three times.\n",
    "t=(1,2,3,4)\n",
    "t=t*3\n",
    "print(\"\\n Tuple Three times\",t)"
   ]
  },
  {
   "cell_type": "code",
   "execution_count": 116,
   "id": "80774d3e",
   "metadata": {
    "scrolled": true
   },
   "outputs": [
    {
     "name": "stdout",
     "output_type": "stream",
     "text": [
      "\n",
      " Empty \n",
      "\n",
      " Not Empty\n"
     ]
    }
   ],
   "source": [
    "#14. Check if a tuple is empty.\n",
    "t=()\n",
    "t2=(1,2,3,3,4)\n",
    "if not t:\n",
    "    print(\"\\n Empty \")\n",
    "else:\n",
    "    print(\"\\n not Empty\")\n",
    "if not t2:\n",
    "    print(\"\\n Empty \")\n",
    "else:\n",
    "    print(\"\\n Not Empty\")"
   ]
  },
  {
   "cell_type": "code",
   "execution_count": 119,
   "id": "b7a8bb5c",
   "metadata": {
    "scrolled": true
   },
   "outputs": [
    {
     "name": "stdout",
     "output_type": "stream",
     "text": [
      "\n",
      " Nested Tuple  ((3, 4), ('Sagar', 'Rahul'), 1, 2)\n"
     ]
    }
   ],
   "source": [
    "#15. Create a nested tuple.\n",
    "t=((3,4),(\"Sagar\",\"Rahul\"),1,2)\n",
    "print(\"\\n Nested Tuple \",t)"
   ]
  },
  {
   "cell_type": "code",
   "execution_count": 121,
   "id": "2c51b953",
   "metadata": {},
   "outputs": [
    {
     "name": "stdout",
     "output_type": "stream",
     "text": [
      "(3, 4)\n"
     ]
    }
   ],
   "source": [
    "#### 16. Access the first element of a nested tuple.\n",
    "t=((3,4),(\"Sagar\",\"Rahul\"),1,2)\n",
    "print(t[0])"
   ]
  },
  {
   "cell_type": "code",
   "execution_count": 123,
   "id": "c4586d4b",
   "metadata": {
    "scrolled": true
   },
   "outputs": [
    {
     "name": "stdout",
     "output_type": "stream",
     "text": [
      "\n",
      " Single element tuple  (9,)\n"
     ]
    }
   ],
   "source": [
    "#17. Create a tuple with a single element.\n",
    "t=(9,)\n",
    "print(\"\\n Single element tuple \",t)"
   ]
  },
  {
   "cell_type": "code",
   "execution_count": 124,
   "id": "c2a6703e",
   "metadata": {
    "scrolled": false
   },
   "outputs": [
    {
     "name": "stdout",
     "output_type": "stream",
     "text": [
      "tuple1 == tuple2: False\n",
      "tuple1 != tuple2: True\n",
      "tuple1 < tuple2: True\n",
      "tuple1 <= tuple2: True\n",
      "tuple1 > tuple2: False\n",
      "tuple1 >= tuple2: False\n"
     ]
    }
   ],
   "source": [
    "#18. Compare two tuples.\n",
    "# Step 1: Create two tuples\n",
    "tuple1 = (1, 2, 3)\n",
    "tuple2 = (1, 2, 4)\n",
    "\n",
    "# Step 2: Compare the two tuples using comparison operators\n",
    "print(\"tuple1 == tuple2:\", tuple1 == tuple2)  # Equality check\n",
    "print(\"tuple1 != tuple2:\", tuple1 != tuple2)  # Inequality check\n",
    "print(\"tuple1 < tuple2:\", tuple1 < tuple2)    # Less than check\n",
    "print(\"tuple1 <= tuple2:\", tuple1 <= tuple2)  # Less than or equal to check\n",
    "print(\"tuple1 > tuple2:\", tuple1 > tuple2)    # Greater than check\n",
    "print(\"tuple1 >= tuple2:\", tuple1 >= tuple2)  # Greater than or equal to check"
   ]
  },
  {
   "cell_type": "code",
   "execution_count": 129,
   "id": "a8923296",
   "metadata": {},
   "outputs": [
    {
     "ename": "NameError",
     "evalue": "name 'tuples' is not defined",
     "output_type": "error",
     "traceback": [
      "\u001b[1;31m---------------------------------------------------------------------------\u001b[0m",
      "\u001b[1;31mNameError\u001b[0m                                 Traceback (most recent call last)",
      "Input \u001b[1;32mIn [129]\u001b[0m, in \u001b[0;36m<cell line: 6>\u001b[1;34m()\u001b[0m\n\u001b[0;32m      4\u001b[0m tuples \u001b[38;5;241m=\u001b[39m(\u001b[38;5;241m1\u001b[39m, \u001b[38;5;241m2\u001b[39m, \u001b[38;5;241m3\u001b[39m, \u001b[38;5;241m4\u001b[39m, \u001b[38;5;241m5\u001b[39m)\n\u001b[0;32m      5\u001b[0m \u001b[38;5;28;01mdel\u001b[39;00m tuples\n\u001b[1;32m----> 6\u001b[0m \u001b[38;5;28mprint\u001b[39m(\u001b[43mtuples\u001b[49m)\n",
      "\u001b[1;31mNameError\u001b[0m: name 'tuples' is not defined"
     ]
    }
   ],
   "source": [
    "#19. Delete a tuple.\n",
    "# Step 1: Create a tuple\n",
    "\n",
    "tuples =(1, 2, 3, 4, 5)\n",
    "del tuples\n",
    "print(tuples)"
   ]
  },
  {
   "cell_type": "code",
   "execution_count": 130,
   "id": "41527919",
   "metadata": {},
   "outputs": [
    {
     "name": "stdout",
     "output_type": "stream",
     "text": [
      "(2, 3)\n"
     ]
    }
   ],
   "source": [
    "#20. Slice a tuple.\n",
    "\n",
    "t=(1,2,2,3,4,2,1,4)\n",
    "print(t[2:4])"
   ]
  },
  {
   "cell_type": "code",
   "execution_count": 131,
   "id": "76db281a",
   "metadata": {},
   "outputs": [
    {
     "name": "stdout",
     "output_type": "stream",
     "text": [
      "\n",
      " Maximum value 8\n"
     ]
    }
   ],
   "source": [
    "#21. Find the maximum value in a tuple.\n",
    "\n",
    "t=(1,2,3,4,5,6,7,8)\n",
    "t=max(t)\n",
    "print('\\n Maximum value',t)"
   ]
  },
  {
   "cell_type": "code",
   "execution_count": 132,
   "id": "9629771a",
   "metadata": {},
   "outputs": [
    {
     "name": "stdout",
     "output_type": "stream",
     "text": [
      "1\n"
     ]
    }
   ],
   "source": [
    "#22. Find the minimum value in a tuple.\n",
    "t=(1,2,34,4,5,6)\n",
    "t=min(t)\n",
    "print(t)"
   ]
  },
  {
   "cell_type": "code",
   "execution_count": 134,
   "id": "ed2f5d5a",
   "metadata": {},
   "outputs": [
    {
     "name": "stdout",
     "output_type": "stream",
     "text": [
      "\n",
      " list ['s', 'a', 'g', 'a', 'r']\n",
      "\n",
      " tuple  ('s', 'a', 'g', 'a', 'r')\n"
     ]
    }
   ],
   "source": [
    "#23. Convert a string to a tuple of characters.\n",
    "\n",
    "s=\"sagar\"\n",
    "l=list(s)\n",
    "print(\"\\n list\",l)\n",
    "t=tuple(s)\n",
    "print(\"\\n tuple \",t)"
   ]
  },
  {
   "cell_type": "code",
   "execution_count": 137,
   "id": "575c4626",
   "metadata": {},
   "outputs": [
    {
     "name": "stdout",
     "output_type": "stream",
     "text": [
      "hellosagar\n"
     ]
    }
   ],
   "source": [
    "#24. Convert a tuple of characters to a string\n",
    "\n",
    "t=('h','e','l','l','o','','s','a','g','a','r')\n",
    "s=\"\".join(t)\n",
    "print(s)"
   ]
  },
  {
   "cell_type": "code",
   "execution_count": 138,
   "id": "969d6100",
   "metadata": {},
   "outputs": [
    {
     "name": "stdout",
     "output_type": "stream",
     "text": [
      "(1, 'hello', 3.14, True)\n"
     ]
    }
   ],
   "source": [
    "#25. Create a tuple from multiple data types.\n",
    "# Creating a tuple with elements of different data types\n",
    "mixed_tuple = (1, \"hello\", 3.14, True)\n",
    "\n",
    "# Printing the tuple\n",
    "print(mixed_tuple)"
   ]
  },
  {
   "cell_type": "code",
   "execution_count": 139,
   "id": "befa666e",
   "metadata": {},
   "outputs": [
    {
     "name": "stdout",
     "output_type": "stream",
     "text": [
      "tuple1 and tuple2 are identical: True\n",
      "tuple1 and tuple3 are identical: False\n"
     ]
    }
   ],
   "source": [
    "#26. Check if two tuples are identical\n",
    "# Step 1: Create two tuples\n",
    "tuple1 = (1, 2, 3)\n",
    "tuple2 = (1, 2, 3)\n",
    "tuple3 = (4, 5, 6)\n",
    "\n",
    "# Step 2: Compare the tuples for identity using the equality operator\n",
    "are_identical1 = tuple1 == tuple2\n",
    "are_identical2 = tuple1 == tuple3\n",
    "\n",
    "# Step 3: Print the results\n",
    "print(\"tuple1 and tuple2 are identical:\", are_identical1)\n",
    "print(\"tuple1 and tuple3 are identical:\", are_identical2)"
   ]
  },
  {
   "cell_type": "code",
   "execution_count": 140,
   "id": "6f52ffba",
   "metadata": {},
   "outputs": [
    {
     "name": "stdout",
     "output_type": "stream",
     "text": [
      "Sorted tuple: (1, 2, 3, 5, 8)\n"
     ]
    }
   ],
   "source": [
    "#27. Sort the elements of a tuple.\n",
    "# Step 1: Create a tuple\n",
    "my_tuple = (5, 2, 8, 1, 3)\n",
    "\n",
    "# Step 2: Convert the tuple to a list, sort the list, and convert it back to a tuple\n",
    "sorted_tuple = tuple(sorted(my_tuple))\n",
    "\n",
    "# Step 3: Print the sorted tuple\n",
    "print(\"Sorted tuple:\", sorted_tuple)\n"
   ]
  },
  {
   "cell_type": "code",
   "execution_count": 141,
   "id": "35cca409",
   "metadata": {},
   "outputs": [
    {
     "name": "stdout",
     "output_type": "stream",
     "text": [
      "('1', '2', '3', '4', '5')\n"
     ]
    }
   ],
   "source": [
    "#28. Convert a tuple of integers to a tuple of strings.\n",
    "l=[]\n",
    "t=(1,2,3,4,5)\n",
    "for i in t:\n",
    "    s=str(i)\n",
    "    l.append(s)\n",
    "t=tuple(l)\n",
    "print(t)"
   ]
  },
  {
   "cell_type": "code",
   "execution_count": 142,
   "id": "e6d95d2b",
   "metadata": {
    "scrolled": true
   },
   "outputs": [
    {
     "name": "stdout",
     "output_type": "stream",
     "text": [
      "(1, 2, 3, 4, 5)\n"
     ]
    }
   ],
   "source": [
    "#29. Convert a tuple of strings to a tuple of integers.\n",
    "t=('1', '2', '3', '4', '5')\n",
    "l=[]\n",
    "for i in t:\n",
    "    s=int(i)\n",
    "    l.append(s)\n",
    "t=tuple(l)\n",
    "print(t)"
   ]
  },
  {
   "cell_type": "code",
   "execution_count": 143,
   "id": "b7c1b5b1",
   "metadata": {},
   "outputs": [
    {
     "name": "stdout",
     "output_type": "stream",
     "text": [
      "Merged tuple: (1, 2, 3, 4, 5, 6)\n"
     ]
    }
   ],
   "source": [
    "#30. Merge two tuples.\n",
    "# Step 1: Create two tuples\n",
    "tuple1 = (1, 2, 3)\n",
    "tuple2 = (4, 5, 6)\n",
    "\n",
    "# Step 2: Merge the two tuples using the '+' operator\n",
    "merged_tuple = tuple1 + tuple2\n",
    "\n",
    "# Step 3: Print the merged tuple\n",
    "print(\"Merged tuple:\", merged_tuple)"
   ]
  },
  {
   "cell_type": "code",
   "execution_count": 144,
   "id": "f61e924f",
   "metadata": {},
   "outputs": [
    {
     "name": "stdout",
     "output_type": "stream",
     "text": [
      "\n",
      " Tuple  (1, 2, 3, 4, 5, 6)\n"
     ]
    }
   ],
   "source": [
    "#31. Flatten a nested tuple.\n",
    "t=((1,2),(3,4),(5,6))\n",
    "l=[]\n",
    "for i in t:\n",
    "    for j in i:\n",
    "        l.append(j)\n",
    "t=tuple(l)\n",
    "print(\"\\n Tuple \",t)"
   ]
  },
  {
   "cell_type": "code",
   "execution_count": 154,
   "id": "95ec9ed6",
   "metadata": {},
   "outputs": [
    {
     "name": "stdout",
     "output_type": "stream",
     "text": [
      "\n",
      " First five prime numbers  (2, 3, 5, 7, 11)\n"
     ]
    }
   ],
   "source": [
    "#32. Create a tuple of the first 5 prime numbers.\n",
    "l=[]\n",
    "a=0\n",
    "for i in range(0,20):\n",
    "    c=0\n",
    "    for j in range(1,20):\n",
    "        if i%j==0:\n",
    "            c=c+1\n",
    "    if c==2:\n",
    "        a=a+1\n",
    "        l.append(i)\n",
    "    if a==5:\n",
    "        break\n",
    "t=tuple(l)\n",
    "print(\"\\n First five prime numbers \",t)"
   ]
  },
  {
   "cell_type": "code",
   "execution_count": 157,
   "id": "d297cb72",
   "metadata": {},
   "outputs": [
    {
     "name": "stdout",
     "output_type": "stream",
     "text": [
      "\n",
      " Palindrome \n"
     ]
    }
   ],
   "source": [
    "#33. Check if a tuple is a palindrome.\n",
    "t=\"naman\"\n",
    "t2=t[::-1]\n",
    "if(t==t2):\n",
    "    print(\"\\n Palindrome \")\n",
    "else:\n",
    "    print(\"\\n Not Palindrome \")"
   ]
  },
  {
   "cell_type": "code",
   "execution_count": 158,
   "id": "1769ea15",
   "metadata": {},
   "outputs": [
    {
     "name": "stdout",
     "output_type": "stream",
     "text": [
      "\n",
      " tuple square  (1, 4, 9, 16, 25)\n"
     ]
    }
   ],
   "source": [
    "#34. Create a tuple of squares of numbers from 1 to 5.\n",
    "t=[]\n",
    "for i in range(1,6):\n",
    "    i=i**2\n",
    "    t.append(i)\n",
    "t2=tuple(t)\n",
    "print(\"\\n tuple square \",t2)"
   ]
  },
  {
   "cell_type": "code",
   "execution_count": 160,
   "id": "38ec74bf",
   "metadata": {},
   "outputs": [
    {
     "name": "stdout",
     "output_type": "stream",
     "text": [
      "\n",
      " Tuple  (2, 4, 6, 8, 10)\n"
     ]
    }
   ],
   "source": [
    "#35. Filter out all even numbers from a tuple.\n",
    "t=(1, 2, 3, 4, 5, 6, 7, 8, 9, 10)\n",
    "l=[]\n",
    "for i in t:\n",
    "    if i%2==0:\n",
    "        l.append(i)\n",
    "print(\"\\n Tuple \",tuple(l))"
   ]
  },
  {
   "cell_type": "code",
   "execution_count": 161,
   "id": "27afd209",
   "metadata": {},
   "outputs": [
    {
     "name": "stdout",
     "output_type": "stream",
     "text": [
      "(2, 4, 6, 8, 10)\n"
     ]
    }
   ],
   "source": [
    "#36. Multiply all elements in a tuple by 2.\n",
    "t= (1, 2, 3, 4, 5)\n",
    "l=[]\n",
    "for i in t:\n",
    "    i=i*2\n",
    "    l.append(i)\n",
    "print(tuple(l))"
   ]
  },
  {
   "cell_type": "code",
   "execution_count": 164,
   "id": "8fe3141c",
   "metadata": {},
   "outputs": [
    {
     "name": "stdout",
     "output_type": "stream",
     "text": [
      "(2, 4, 6, 8, 10, 27, 95, 67, 53, 46, 73, 5, 82, 35, 49, 52, 81, 97, 54, 78, 78, 69, 48, 9, 26, 7, 57, 67, 52, 46, 79, 67, 31, 20, 5)\n"
     ]
    }
   ],
   "source": [
    "#37. Create a tuple of random numbers.\n",
    "import random\n",
    "for i in range(10):\n",
    "    a=random.randint(1,100)\n",
    "    l.append(a)\n",
    "print(tuple(l))"
   ]
  },
  {
   "cell_type": "code",
   "execution_count": 166,
   "id": "773138f5",
   "metadata": {},
   "outputs": [
    {
     "name": "stdout",
     "output_type": "stream",
     "text": [
      "\n",
      " Not sorted \n"
     ]
    }
   ],
   "source": [
    "#38. Check if a tuple is sorted.\n",
    "t2 = (1, 2, 3, 4, 5)\n",
    "t = (5, 3, 1, 4, 2)\n",
    "\n",
    "for i in range(len(t)-1):\n",
    "    if t[i]<t[i+1]:\n",
    "        c=1\n",
    "    else:\n",
    "        c=0\n",
    "if(c):\n",
    "    print(\"\\n sorted\")\n",
    "else:\n",
    "    print(\"\\n Not sorted \")"
   ]
  },
  {
   "cell_type": "code",
   "execution_count": 167,
   "id": "a02a47fb",
   "metadata": {},
   "outputs": [
    {
     "name": "stdout",
     "output_type": "stream",
     "text": [
      "\n",
      " enter the value of N 2\n",
      "\\ after rotatiton to left  (1, 4, 2, 5, 3)\n"
     ]
    }
   ],
   "source": [
    "#39. Rotate a tuple to the left by n positions.\n",
    "t = (5, 3, 1, 4, 2)\n",
    "n=int(input(\"\\n enter the value of N \"))\n",
    "t=t[n:]+t[:n]\n",
    "print(\"\\ after rotatiton to left \",t)"
   ]
  },
  {
   "cell_type": "code",
   "execution_count": 171,
   "id": "d92585de",
   "metadata": {},
   "outputs": [
    {
     "name": "stdout",
     "output_type": "stream",
     "text": [
      "\n",
      " enter the value of N 2\n",
      "(4, 5, 1, 2, 3)\n"
     ]
    }
   ],
   "source": [
    "#40. Rotate a tuple to the right by n positions.\n",
    "t = (1,2,3,4,5)\n",
    "n=int(input(\"\\n enter the value of N \"))\n",
    "t=t[-n:]+t[:-n]\n",
    "print(t)"
   ]
  },
  {
   "cell_type": "code",
   "execution_count": 1,
   "id": "034515a6",
   "metadata": {
    "scrolled": true
   },
   "outputs": [
    {
     "name": "stdout",
     "output_type": "stream",
     "text": [
      "\n",
      " Enter the elements seprated by ,1,2,3,'sagar',4,5\n",
      "('1', '2', '3', \"'sagar'\", '4', '5')\n"
     ]
    }
   ],
   "source": [
    "#42. Create a tuple from user input.\n",
    "\n",
    "a=input(\"\\n Enter the elements seprated by ,\")\n",
    "l=a.split(',')\n",
    "print(tuple(l))"
   ]
  },
  {
   "cell_type": "code",
   "execution_count": 4,
   "id": "272940c9",
   "metadata": {},
   "outputs": [
    {
     "name": "stdout",
     "output_type": "stream",
     "text": [
      "\n",
      " after swapping  (2, 1, 3, 4, 5)\n"
     ]
    }
   ],
   "source": [
    "#43. Swap two elements in a tuple.\n",
    "\n",
    "t=(1,2,3,4,5)\n",
    "t=list(t)\n",
    "temp=t[0]\n",
    "t[0]=t[1]\n",
    "t[1]=temp\n",
    "print(\"\\n after swapping \",tuple(t))"
   ]
  },
  {
   "cell_type": "code",
   "execution_count": 5,
   "id": "6b496ae8",
   "metadata": {},
   "outputs": [
    {
     "name": "stdout",
     "output_type": "stream",
     "text": [
      "(5, 4, 3, 2, 1)\n"
     ]
    }
   ],
   "source": [
    "#44. Reverse the elements of a tuple.\n",
    "\n",
    "t=(1,2,3,4,5)\n",
    "print(t[::-1])\n"
   ]
  },
  {
   "cell_type": "code",
   "execution_count": 6,
   "id": "8d0389d5",
   "metadata": {},
   "outputs": [
    {
     "name": "stdout",
     "output_type": "stream",
     "text": [
      "\n",
      " Enter the value of N 2\n",
      "\n",
      " Tuple  (1, 4)\n"
     ]
    }
   ],
   "source": [
    "#45. Create a tuple of the first n powers of 2.\n",
    "n=int(input('\\n Enter the value of N '))\n",
    "l=[]\n",
    "for i in range(1,n+1):\n",
    "    i=i**2\n",
    "    l.append(i)\n",
    "print(\"\\n Tuple \",tuple(l))"
   ]
  },
  {
   "cell_type": "code",
   "execution_count": 8,
   "id": "af319c79",
   "metadata": {},
   "outputs": [
    {
     "name": "stdout",
     "output_type": "stream",
     "text": [
      "\n",
      " longest element  shri ajayyyyyy\n"
     ]
    }
   ],
   "source": [
    "#46. Find the longest string in a tuple of strings.\n",
    "\n",
    "t=(\"sagar\",\"Mukul agrawal\",\"somya\",\"shri ajayyyyyy\",'shri beena')\n",
    "m=0\n",
    "for i in t:\n",
    "    if len(i)>m:\n",
    "        m=len(i)\n",
    "        res=i\n",
    "print(\"\\n longest element \",res)\n",
    "        "
   ]
  },
  {
   "cell_type": "code",
   "execution_count": 24,
   "id": "750b463e",
   "metadata": {
    "scrolled": true
   },
   "outputs": [
    {
     "name": "stdout",
     "output_type": "stream",
     "text": [
      "\\ yes\n",
      "4\n",
      "\\ yes\n",
      "13\n",
      "\\ yes\n",
      "5\n",
      "\\ yes\n",
      "10\n",
      "\\ yes\n",
      "10\n",
      "\n",
      " shortest element  saar\n"
     ]
    }
   ],
   "source": [
    "#47. Find the shortest string in a tuple of strings\n",
    "\n",
    "t2=(\"saar\",\"Mukul agrawal\",\"somya\",\"shri ajayy\",'shri beena')\n",
    "m=100\n",
    "r=0\n",
    "for j in t2:\n",
    "    print(\"\\ yes\")\n",
    "    print(len(j))\n",
    "    if len(j)<m:\n",
    "        m=len(j)\n",
    "        r=j\n",
    "print(\"\\n shortest element \",r)"
   ]
  },
  {
   "cell_type": "code",
   "execution_count": 25,
   "id": "61850580",
   "metadata": {},
   "outputs": [
    {
     "name": "stdout",
     "output_type": "stream",
     "text": [
      "Tuple of the first 5 triangular numbers: (1, 3, 6, 10, 15)\n"
     ]
    }
   ],
   "source": [
    "##48. Create a tuple of the first n triangular numbers.\n",
    "\n",
    "# Define the value of n\n",
    "n = 5\n",
    "\n",
    "# Create a tuple of the first n triangular numbers using a list comprehension\n",
    "triangular_numbers_tuple = tuple((i * (i + 1)) // 2 for i in range(1, n + 1))\n",
    "\n",
    "# Print the tuple of triangular numbers\n",
    "print(\"Tuple of the first\", n, \"triangular numbers:\", triangular_numbers_tuple)"
   ]
  },
  {
   "cell_type": "code",
   "execution_count": null,
   "id": "81fb330c",
   "metadata": {},
   "outputs": [],
   "source": [
    "### 49. Check if a tuple contains another tuple as a subsequence.\n",
    "\n",
    "t1 = (1, 2, 3, 4, 5, 6, 7, 8, 9)\n",
    "\n",
    "# Subsequence tuple\n",
    "t2 = (3, 4, 5)\n",
    "i=0\n",
    "c=0\n",
    "for j in t1:\n",
    "    if j ==t2[i]:\n",
    "        i=i+1\n",
    "    if i==len(t2):\n",
    "        print(\"\\n Yes \")\n",
    "        break\n",
    "else:\n",
    "    print(\"\\n No \")\n",
    "    "
   ]
  },
  {
   "cell_type": "markdown",
   "id": "8e173e40",
   "metadata": {},
   "source": [
    "#Sets"
   ]
  },
  {
   "cell_type": "code",
   "execution_count": 44,
   "id": "f006cc14",
   "metadata": {},
   "outputs": [
    {
     "name": "stdout",
     "output_type": "stream",
     "text": [
      "{2, 3, 4}\n"
     ]
    }
   ],
   "source": [
    "#1. Create a set with integers from 1 to 5\n",
    "s=set()\n",
    "s.add(2)\n",
    "s.add(3)\n",
    "s.add(4)\n",
    "print(s)"
   ]
  },
  {
   "cell_type": "code",
   "execution_count": 45,
   "id": "cf52a839",
   "metadata": {},
   "outputs": [
    {
     "name": "stdout",
     "output_type": "stream",
     "text": [
      "Original set: {1, 2, 3, 4, 5}\n",
      "Set after adding element: {1, 2, 3, 4, 5, 6}\n"
     ]
    }
   ],
   "source": [
    "### 2. Add an element to a set\n",
    "# Step 1: Create a set\n",
    "my_set = {1, 2, 3, 4, 5}\n",
    "\n",
    "# Step 2: Display the original set\n",
    "print(\"Original set:\", my_set)\n",
    "\n",
    "# Step 3: Add an element to the set\n",
    "element_to_add = 6\n",
    "my_set.add(element_to_add)\n",
    "\n",
    "# Step 4: Display the modified set\n",
    "print(\"Set after adding element:\", my_set)"
   ]
  },
  {
   "cell_type": "code",
   "execution_count": 49,
   "id": "cb8e01ed",
   "metadata": {},
   "outputs": [
    {
     "data": {
      "text/plain": [
       "{1, 2, 4, 5}"
      ]
     },
     "execution_count": 49,
     "metadata": {},
     "output_type": "execute_result"
    }
   ],
   "source": [
    "#3. Remove an element from a set.\n",
    "my_set = {1, 2, 3, 4, 5}\n",
    "my_set.remove(3)\n",
    "my_set"
   ]
  },
  {
   "cell_type": "code",
   "execution_count": 52,
   "id": "63150d3d",
   "metadata": {},
   "outputs": [
    {
     "name": "stdout",
     "output_type": "stream",
     "text": [
      "\n",
      " Yes present\n"
     ]
    }
   ],
   "source": [
    "#4. Check if an element exists in a set.\n",
    "s = {1, 2, 3, 4, 5}\n",
    "e=2\n",
    "if e in s:\n",
    "    print(\"\\n Yes present\")\n",
    "else:\n",
    "    print(\"\\n Not Present\")\n",
    "    \n"
   ]
  },
  {
   "cell_type": "code",
   "execution_count": 53,
   "id": "da968e05",
   "metadata": {},
   "outputs": [
    {
     "name": "stdout",
     "output_type": "stream",
     "text": [
      "\n",
      " Length of sets  5\n"
     ]
    }
   ],
   "source": [
    "#5. Find the length of a set without using the len() function\n",
    "s = {1, 2, 3, 4, 5}\n",
    "c=0\n",
    "for i in s:\n",
    "    c=c+1\n",
    "print(\"\\n Length of sets \",c)"
   ]
  },
  {
   "cell_type": "code",
   "execution_count": 54,
   "id": "3cbd4dc4",
   "metadata": {},
   "outputs": [
    {
     "name": "stdout",
     "output_type": "stream",
     "text": [
      "set()\n"
     ]
    }
   ],
   "source": [
    "#6. Clear all elements from a set.¶\n",
    "s = {1, 2, 3, 4, 5}\n",
    "s.clear()\n",
    "print(s)"
   ]
  },
  {
   "cell_type": "code",
   "execution_count": 55,
   "id": "0629e17f",
   "metadata": {},
   "outputs": [
    {
     "name": "stdout",
     "output_type": "stream",
     "text": [
      "{2, 4, 6, 8, 10}\n"
     ]
    }
   ],
   "source": [
    "#7. Create a set of even numbers from 1 to 10\n",
    "s=set()\n",
    "for i in range(1,11):\n",
    "    if i%2==0:\n",
    "        s.add(i)\n",
    "print(s)"
   ]
  },
  {
   "cell_type": "code",
   "execution_count": 56,
   "id": "996318a4",
   "metadata": {},
   "outputs": [
    {
     "name": "stdout",
     "output_type": "stream",
     "text": [
      "{1, 3, 5, 7, 9}\n"
     ]
    }
   ],
   "source": [
    "#8. Create a set of odd numbers from 1 to 10\n",
    "s=set()\n",
    "for i in range(1,11):\n",
    "    if i%2!=0:\n",
    "        s.add(i)\n",
    "print(s)"
   ]
  },
  {
   "cell_type": "code",
   "execution_count": 57,
   "id": "5553656c",
   "metadata": {},
   "outputs": [
    {
     "name": "stdout",
     "output_type": "stream",
     "text": [
      "{1, 2, 3, 4, 5, 6, 7, 8}\n"
     ]
    }
   ],
   "source": [
    "#9. Find the union of two sets\n",
    "set1 = {1, 2, 3, 4, 5}\n",
    "set2 = {4, 5, 6, 7, 8}\n",
    "s=set1.union(set2)\n",
    "print(s)"
   ]
  },
  {
   "cell_type": "code",
   "execution_count": 58,
   "id": "64040614",
   "metadata": {},
   "outputs": [
    {
     "name": "stdout",
     "output_type": "stream",
     "text": [
      "{4, 5}\n"
     ]
    }
   ],
   "source": [
    "#10. Find the intersection of two sets\n",
    "set1 = {1, 2, 3, 4, 5}\n",
    "set2 = {4, 5, 6, 7, 8}\n",
    "s=set1.intersection(set2)\n",
    "print(s)"
   ]
  },
  {
   "cell_type": "code",
   "execution_count": 60,
   "id": "45edc041",
   "metadata": {},
   "outputs": [
    {
     "name": "stdout",
     "output_type": "stream",
     "text": [
      "{6, 7}\n"
     ]
    }
   ],
   "source": [
    "#11. Find the difference between two sets.\n",
    "# Create two sets\n",
    "set1 = {1, 2, 3, 4, 5}\n",
    "set2 = {3, 4, 5, 6, 7}\n",
    "\n",
    "s=set2.difference(set1)\n",
    "print(s)"
   ]
  },
  {
   "cell_type": "code",
   "execution_count": 62,
   "id": "5ed28646",
   "metadata": {},
   "outputs": [
    {
     "name": "stdout",
     "output_type": "stream",
     "text": [
      "\n",
      " subset check  False\n"
     ]
    }
   ],
   "source": [
    "#12. Check if a set is a subset of another set.\n",
    "# Define the two sets\n",
    "set1 = {1, 2, 3}\n",
    "set2 = {1, 2, 3, 4, 5}\n",
    "print(\"\\n subset check \",set2.issubset(set1))"
   ]
  },
  {
   "cell_type": "code",
   "execution_count": 65,
   "id": "c511465b",
   "metadata": {},
   "outputs": [
    {
     "name": "stdout",
     "output_type": "stream",
     "text": [
      "\n",
      " SuperSet  True\n"
     ]
    }
   ],
   "source": [
    "#13. Check if a set is a superset of another set.\n",
    "set1 = {1, 2, 3}\n",
    "set2 = {1, 2, 3, 4, 5}\n",
    "print(\"\\n SuperSet \",set2.issuperset(set1))"
   ]
  },
  {
   "cell_type": "code",
   "execution_count": 66,
   "id": "2c51a5b1",
   "metadata": {},
   "outputs": [
    {
     "name": "stdout",
     "output_type": "stream",
     "text": [
      "\n",
      " Set  {1, 2, 3, 4, 5}\n"
     ]
    }
   ],
   "source": [
    "#14. Create a set from a list\n",
    "my_list = [2, 4, 1, 4, 3, 2, 5]\n",
    "s=set(my_list)\n",
    "print(\"\\n Set \",s)"
   ]
  },
  {
   "cell_type": "code",
   "execution_count": 67,
   "id": "779426cf",
   "metadata": {},
   "outputs": [
    {
     "name": "stdout",
     "output_type": "stream",
     "text": [
      "\n",
      " List  [1, 2, 3, 4, 5, 6, 9]\n"
     ]
    }
   ],
   "source": [
    "#15. Convert a set to a list.\n",
    "\n",
    "my_set = {3, 1, 4, 1, 5, 9, 2, 6, 5}\n",
    "l=list(my_set)\n",
    "print(\"\\n List \",l)"
   ]
  },
  {
   "cell_type": "code",
   "execution_count": 73,
   "id": "513e4609",
   "metadata": {},
   "outputs": [
    {
     "name": "stdout",
     "output_type": "stream",
     "text": [
      "\n",
      " Sets  {2, 3, 4, 5}\n"
     ]
    }
   ],
   "source": [
    "#16. Remove a random element from a set.\n",
    "import random\n",
    "s={1, 2, 3, 4, 5}\n",
    "r=random.choice(list(s))\n",
    "s.remove(r)\n",
    "print(\"\\n Sets \",s)"
   ]
  },
  {
   "cell_type": "code",
   "execution_count": 76,
   "id": "43aa69d1",
   "metadata": {},
   "outputs": [
    {
     "name": "stdout",
     "output_type": "stream",
     "text": [
      "{2, 3, 4, 5}\n"
     ]
    }
   ],
   "source": [
    "#17. Pop an element from a set.\n",
    "s={1, 2, 3, 4, 5}\n",
    "s.pop()\n",
    "print(s)"
   ]
  },
  {
   "cell_type": "code",
   "execution_count": 78,
   "id": "fce4d970",
   "metadata": {},
   "outputs": [
    {
     "name": "stdout",
     "output_type": "stream",
     "text": [
      "\n",
      " Common Element  {4}\n"
     ]
    }
   ],
   "source": [
    "#18. Check if two sets have no elements in common.\n",
    "# Step 1: Define two sets\n",
    "set1 = {1, 2, 3, 4}\n",
    "set2 = {5, 6, 4, 8}\n",
    "s=set1.intersection(set2)\n",
    "print(\"\\n Common Element \",s)"
   ]
  },
  {
   "cell_type": "code",
   "execution_count": 79,
   "id": "cdaa9529",
   "metadata": {},
   "outputs": [
    {
     "name": "stdout",
     "output_type": "stream",
     "text": [
      "\n",
      " Symmetric difference  {1, 2, 3, 6, 7, 8}\n"
     ]
    }
   ],
   "source": [
    "#19. Find the symmetric difference between two sets.\n",
    "set1 = {1, 2, 3, 4, 5}\n",
    "set2 = {4, 5, 6, 7, 8}\n",
    "print(\"\\n Symmetric difference \",set1^set2)"
   ]
  },
  {
   "cell_type": "code",
   "execution_count": 80,
   "id": "19ff96d0",
   "metadata": {},
   "outputs": [
    {
     "name": "stdout",
     "output_type": "stream",
     "text": [
      "Set 1: {1, 2, 3}\n",
      "Set 2: {3, 4, 5}\n",
      "Updated Set 1: {1, 2, 3, 4, 5}\n"
     ]
    }
   ],
   "source": [
    "#20. Update a set with elements from another set.\n",
    "# Create the first set\n",
    "set1 = {1, 2, 3}\n",
    "print(\"Set 1:\", set1)\n",
    "\n",
    "# Create the second set\n",
    "set2 = {3, 4, 5}\n",
    "print(\"Set 2:\", set2)\n",
    "\n",
    "# Update set1 with elements from set2\n",
    "set1.update(set2)\n",
    "print(\"Updated Set 1:\", set1)"
   ]
  },
  {
   "cell_type": "code",
   "execution_count": 93,
   "id": "37390b3a",
   "metadata": {},
   "outputs": [
    {
     "name": "stdout",
     "output_type": "stream",
     "text": [
      "\n",
      " prime  2\n",
      "\n",
      " prime  3\n",
      "\n",
      " prime  5\n",
      "\n",
      " prime  7\n",
      "\n",
      " prime  11\n",
      "{2, 3, 5, 7, 11}\n"
     ]
    }
   ],
   "source": [
    "#21. Create a set of the first 5 prime numbers.\n",
    "s=set()\n",
    "b=0\n",
    "for i in range(2,20):\n",
    "    c=0\n",
    "    for j in range(1,20):\n",
    "        if i % j==0:\n",
    "            c=c+1\n",
    "    if c==2:\n",
    "        b=b+1\n",
    "        print(\"\\n prime \",i)\n",
    "        s.add(i)\n",
    "    if b==5:\n",
    "        break\n",
    "print(s)\n",
    "            "
   ]
  },
  {
   "cell_type": "code",
   "execution_count": 98,
   "id": "3d26d9d7",
   "metadata": {},
   "outputs": [
    {
     "name": "stdout",
     "output_type": "stream",
     "text": [
      "\n",
      " checking Identical  True\n"
     ]
    }
   ],
   "source": [
    "#22. Check if two sets are identical.\n",
    "\n",
    "# Step 1: Define two sets\n",
    "set1 = {1, 2, 3, 4, 5}\n",
    "set2 = {3, 1, 5, 2, 4}  \n",
    "\n",
    "print(\"\\n checking Identical \",set1==set2)"
   ]
  },
  {
   "cell_type": "code",
   "execution_count": 99,
   "id": "cb81173a",
   "metadata": {},
   "outputs": [
    {
     "name": "stdout",
     "output_type": "stream",
     "text": [
      "\n",
      " Set  frozenset({1, 2, 3, 4, 5})\n"
     ]
    }
   ],
   "source": [
    "#23. Create a frozen set\n",
    "s={1,2,3,4,5}\n",
    "s=frozenset(s)\n",
    "print(\"\\n Set \",s)"
   ]
  },
  {
   "cell_type": "code",
   "execution_count": 100,
   "id": "bb4210a7",
   "metadata": {},
   "outputs": [
    {
     "name": "stdout",
     "output_type": "stream",
     "text": [
      "Are the sets disjoint? True\n"
     ]
    }
   ],
   "source": [
    "#24. Check if a set is disjoint with another set.\n",
    "\"\"\"For any two sets say A and B are said to be disjoint if A ∩ B = ϕ i.e they don’t have any common component.\n",
    "So if there are two sets, one should first check the intersection of both sets.\n",
    "After intersection, if the result does not contain any common component, then the sets are said to be Disjoint sets.\"\"\"\n",
    "\n",
    "# Step 1: Define the two sets you want to check for disjointness\n",
    "set1 = {1, 2, 3, 4}\n",
    "set2 = {5, 6, 7, 8}\n",
    "\n",
    "# Step 2: Use the `isdisjoint()` method to check if the sets are disjoint\n",
    "# The `isdisjoint()` method returns True if the sets have no common elements,\n",
    "# and False if they have at least one common element.\n",
    "disjoint_status = set1.isdisjoint(set2)\n",
    "\n",
    "# Step 3: Print the result\n",
    "print(\"Are the sets disjoint?\", disjoint_status)"
   ]
  },
  {
   "cell_type": "code",
   "execution_count": 101,
   "id": "e02989fd",
   "metadata": {},
   "outputs": [
    {
     "name": "stdout",
     "output_type": "stream",
     "text": [
      "\n",
      " Square  {1, 4, 9, 16, 25}\n"
     ]
    }
   ],
   "source": [
    "#25. Create a set of squares of numbers from 1 to 5.\n",
    "s=set()\n",
    "for i in range(1,6):\n",
    "    i=i**2\n",
    "    s.add(i)\n",
    "print(\"\\n Square \",s)"
   ]
  },
  {
   "cell_type": "code",
   "execution_count": 103,
   "id": "fd73df15",
   "metadata": {},
   "outputs": [
    {
     "name": "stdout",
     "output_type": "stream",
     "text": [
      "\n",
      " Even Number set  {2, 4, 6, 8, 10, 12}\n"
     ]
    }
   ],
   "source": [
    "#26. Filter out all even numbers from a set.\n",
    "s= {1, 2, 3, 4, 5,6,7,8,9,10,11,12}\n",
    "s2=set()\n",
    "for i in s:\n",
    "    if i %2==0:\n",
    "        s2.add(i)\n",
    "print(\"\\n Even Number set \",s2)"
   ]
  },
  {
   "cell_type": "code",
   "execution_count": 104,
   "id": "75328fef",
   "metadata": {},
   "outputs": [
    {
     "name": "stdout",
     "output_type": "stream",
     "text": [
      "\n",
      " Set  {2, 4, 6, 8, 10}\n"
     ]
    }
   ],
   "source": [
    "#27. Multiply all elements in a set by 2.\n",
    "s = {1, 2, 3, 4, 5}\n",
    "s2=set()\n",
    "for i in s:\n",
    "    i=i*2\n",
    "    s2.add(i)\n",
    "print(\"\\n Set \",s2)"
   ]
  },
  {
   "cell_type": "code",
   "execution_count": 106,
   "id": "f62b8ad8",
   "metadata": {},
   "outputs": [
    {
     "name": "stdout",
     "output_type": "stream",
     "text": [
      "\n",
      " Set  {97, 35, 71, 88, 94}\n"
     ]
    }
   ],
   "source": [
    "#28. Create a set of random numbers.\n",
    "import random\n",
    "\n",
    "s=set()\n",
    "for i in range(5):\n",
    "    n=random.randint(1,100)\n",
    "    s.add(n)\n",
    "print(\"\\n Set \",s)"
   ]
  },
  {
   "cell_type": "code",
   "execution_count": 111,
   "id": "cbf13807",
   "metadata": {},
   "outputs": [
    {
     "name": "stdout",
     "output_type": "stream",
     "text": [
      "\n",
      " set is empty \n"
     ]
    }
   ],
   "source": [
    "#29. Check if a set is empty.\n",
    "\n",
    "s={}\n",
    "\n",
    "if not s:\n",
    "    print(\"\\n set is empty \")\n",
    "else:\n",
    "    print(\"\\n set is not empty \")"
   ]
  },
  {
   "cell_type": "code",
   "execution_count": 112,
   "id": "a67429bf",
   "metadata": {},
   "outputs": [
    {
     "name": "stdout",
     "output_type": "stream",
     "text": [
      "\n",
      " Frozen Sets  {frozenset({1, 2, 3, 4, 5}), frozenset({6, 7, 8, 9, 10})}\n"
     ]
    }
   ],
   "source": [
    "#30. Create a nested set (hint: use frozenset).\n",
    "set1 = {1, 2, 3, 4, 5}\n",
    "set2 = {6, 7, 8, 9, 10}\n",
    "fset1=frozenset(set1)\n",
    "fset2=frozenset(set2)\n",
    "n={fset1,fset2}\n",
    "print(\"\\n Frozen Sets \",n)"
   ]
  },
  {
   "cell_type": "code",
   "execution_count": 113,
   "id": "153aa6ff",
   "metadata": {},
   "outputs": [
    {
     "name": "stdout",
     "output_type": "stream",
     "text": [
      "Initial set: {1, 2, 3, 4, 5}\n",
      "Set after removing 3 : {1, 2, 4, 5}\n"
     ]
    }
   ],
   "source": [
    "#31. Remove an element from a set using the discard method.\n",
    "# Create a set with some elements\n",
    "my_set = {1, 2, 3, 4, 5}\n",
    "\n",
    "# Display the initial set\n",
    "print(\"Initial set:\", my_set)\n",
    "\n",
    "# Define the element to be removed\n",
    "element_to_remove = 3\n",
    "\n",
    "# Use the discard() method to remove the element from the set\n",
    "# If the element is not present in the set, discard() won't raise an error\n",
    "my_set.discard(element_to_remove)\n",
    "\n",
    "# Display the set after removing the element\n",
    "print(\"Set after removing\", element_to_remove, \":\", my_set)"
   ]
  },
  {
   "cell_type": "code",
   "execution_count": 114,
   "id": "eab86488",
   "metadata": {},
   "outputs": [
    {
     "name": "stdout",
     "output_type": "stream",
     "text": [
      "Set 1: {1, 2, 3, 4, 5}\n",
      "Set 2: {4, 5, 6, 7, 8}\n",
      "Is set1 a subset of set2? False\n",
      "Is set2 a subset of set1? False\n",
      "Intersection: {4, 5}\n",
      "Union: {1, 2, 3, 4, 5, 6, 7, 8}\n",
      "Elements in set1 but not in set2: {1, 2, 3}\n",
      "Elements in set2 but not in set1: {8, 6, 7}\n"
     ]
    }
   ],
   "source": [
    "### 32. Compare two sets.\n",
    "# Step 1: Define two sets\n",
    "set1 = {1, 2, 3, 4, 5}\n",
    "set2 = {4, 5, 6, 7, 8}\n",
    "\n",
    "# Step 2: Use set operations to compare the sets\n",
    "# Check if set1 is a subset of set2\n",
    "is_subset = set1.issubset(set2)\n",
    "\n",
    "# Check if set2 is a subset of set1\n",
    "is_superset = set1.issuperset(set2)\n",
    "\n",
    "# Find the intersection of the sets\n",
    "intersection = set1.intersection(set2)\n",
    "\n",
    "# Find the union of the sets\n",
    "union = set1.union(set2)\n",
    "\n",
    "# Find the elements that are in set1 but not in set2\n",
    "difference1 = set1.difference(set2)\n",
    "\n",
    "# Find the elements that are in set2 but not in set1\n",
    "difference2 = set2.difference(set1)\n",
    "\n",
    "# Step 3: Print the results\n",
    "print(\"Set 1:\", set1)\n",
    "print(\"Set 2:\", set2)\n",
    "print(\"Is set1 a subset of set2?\", is_subset)\n",
    "print(\"Is set2 a subset of set1?\", is_superset)\n",
    "print(\"Intersection:\", intersection)\n",
    "print(\"Union:\", union)\n",
    "print(\"Elements in set1 but not in set2:\", difference1)\n",
    "print(\"Elements in set2 but not in set1:\", difference2)"
   ]
  },
  {
   "cell_type": "code",
   "execution_count": 115,
   "id": "3a4898d1",
   "metadata": {},
   "outputs": [
    {
     "name": "stdout",
     "output_type": "stream",
     "text": [
      "{'e', 'l', 'h', 'o'}\n"
     ]
    }
   ],
   "source": [
    "#33. Create a set from a string\n",
    "# Step 1: Define the input string\n",
    "input_string = \"hello\"\n",
    "\n",
    "# Step 2: Use the set() constructor to create a set from the characters in the string\n",
    "char_set = set(input_string)\n",
    "\n",
    "# Step 3: Print the resulting set\n",
    "print(char_set)"
   ]
  },
  {
   "cell_type": "code",
   "execution_count": 120,
   "id": "55eabbc4",
   "metadata": {},
   "outputs": [
    {
     "name": "stdout",
     "output_type": "stream",
     "text": [
      "\n",
      " Set  {1, 2, 3, 4, 5}\n"
     ]
    }
   ],
   "source": [
    "#34. Convert a set of strings to a set of integers.\n",
    "s={'1','2','3','4','5'}\n",
    "s2=set()\n",
    "for i in s:\n",
    "    i=int(i)\n",
    "    s2.add(i)\n",
    "print(\"\\n Set \",s2)\n"
   ]
  },
  {
   "cell_type": "code",
   "execution_count": 121,
   "id": "ab20bee2",
   "metadata": {},
   "outputs": [
    {
     "name": "stdout",
     "output_type": "stream",
     "text": [
      "\n",
      " Set  {'3', '2', '4', '1', '5'}\n"
     ]
    }
   ],
   "source": [
    "#### 35. Convert a set of integers to a set of strings.\n",
    "i={1,2,3,4,5}\n",
    "s=set()\n",
    "for j in i:\n",
    "    j=str(j)\n",
    "    s.add(j)\n",
    "print(\"\\n Set \",s)"
   ]
  },
  {
   "cell_type": "code",
   "execution_count": 122,
   "id": "a74d4d28",
   "metadata": {},
   "outputs": [
    {
     "name": "stdout",
     "output_type": "stream",
     "text": [
      "{1, 2, 3, 4, 5}\n"
     ]
    }
   ],
   "source": [
    "#36. Create a set from a tuple.\n",
    "# Given tuple\n",
    "input_tuple = (1, 2, 3, 2, 4, 5, 1)\n",
    "\n",
    "# Step 1: Convert the tuple to a set\n",
    "output_set = set(input_tuple)\n",
    "# At this point, the set() function is used to convert the elements of the tuple into a set.\n",
    "# Since sets only contain unique elements, duplicate values are automatically removed.\n",
    "\n",
    "# Step 2: Print the resulting set\n",
    "print(output_set)\n",
    "# The set is now printed, and it will only contain the unique elements from the original tuple."
   ]
  },
  {
   "cell_type": "code",
   "execution_count": 123,
   "id": "f8aeafac",
   "metadata": {},
   "outputs": [
    {
     "name": "stdout",
     "output_type": "stream",
     "text": [
      "Original set: {1, 2, 3, 4, 5}\n",
      "Converted tuple: (1, 2, 3, 4, 5)\n"
     ]
    }
   ],
   "source": [
    "#37. Convert a set to a tuple.\n",
    "# Step 1: Create a set\n",
    "input_set = {1, 2, 3, 4, 5}\n",
    "\n",
    "# Step 2: Convert the set to a tuple\n",
    "output_tuple = tuple(input_set)\n",
    "\n",
    "# Step 3: Print the original set and the converted tuple\n",
    "print(\"Original set:\", input_set)\n",
    "print(\"Converted tuple:\", output_tuple)"
   ]
  },
  {
   "cell_type": "code",
   "execution_count": 136,
   "id": "b93f5240",
   "metadata": {},
   "outputs": [
    {
     "name": "stdout",
     "output_type": "stream",
     "text": [
      "\n",
      " Maximum Value  9\n"
     ]
    }
   ],
   "source": [
    "#38. Find the maximum value in a set.\n",
    "s={8,2,3,9,5,6,7,1}\n",
    "m=0\n",
    "r=0\n",
    "for i in s:\n",
    "    if i>m:\n",
    "        m=i\n",
    "        r=m\n",
    "print(\"\\n Maximum Value \",r)"
   ]
  },
  {
   "cell_type": "code",
   "execution_count": 139,
   "id": "48d1ffcb",
   "metadata": {},
   "outputs": [
    {
     "name": "stdout",
     "output_type": "stream",
     "text": [
      "\n",
      " yes\n",
      "\n",
      " Minimum value  1\n"
     ]
    }
   ],
   "source": [
    "#39. Find the minimum value in a set.\n",
    "\n",
    "s={1,2,3,4,5}\n",
    "m=2\n",
    "re=0\n",
    "for i in s:\n",
    "    if i<m:\n",
    "        print(\"\\n yes\")\n",
    "        m=i\n",
    "        re=m\n",
    "print(\"\\n Minimum value \",re)"
   ]
  },
  {
   "cell_type": "code",
   "execution_count": 140,
   "id": "2e6af935",
   "metadata": {},
   "outputs": [
    {
     "name": "stdout",
     "output_type": "stream",
     "text": [
      "\n",
      " Enter the Element 1\n",
      "\n",
      " Enter the Element 2\n",
      "\n",
      " Enter the Element 3\n",
      "\n",
      " Enter the Element 4\n",
      "\n",
      " Enter the Element 0\n",
      "\n",
      " Enter the Element Done\n",
      "{'3', '2', '4', '1', '0'}\n"
     ]
    }
   ],
   "source": [
    "#40. Create a set from user input.\n",
    "s=set()\n",
    "while True:\n",
    "    i=input(\"\\n Enter the Element \")\n",
    "    if i =='Done':\n",
    "        break\n",
    "    s.add(i)\n",
    "print(s)"
   ]
  },
  {
   "cell_type": "code",
   "execution_count": 141,
   "id": "e6e7c34c",
   "metadata": {},
   "outputs": [
    {
     "name": "stdout",
     "output_type": "stream",
     "text": [
      "\n",
      " Set is not Empty \n"
     ]
    }
   ],
   "source": [
    "#41. Check if the intersection of two sets is empty\n",
    "set1 = {1, 2, 3, 4, 5}\n",
    "set2 = {4, 5, 6, 7, 8}\n",
    "s=set1.intersection(set2)\n",
    "if not s:\n",
    "    print(\"\\n set is empty \")\n",
    "else:\n",
    "    print(\"\\n Set is not Empty \")"
   ]
  },
  {
   "cell_type": "code",
   "execution_count": 146,
   "id": "b37353c8",
   "metadata": {},
   "outputs": [
    {
     "name": "stdout",
     "output_type": "stream",
     "text": [
      "{0, 1, 2, 3, 5}\n"
     ]
    }
   ],
   "source": [
    "#42. Create a set of the first 5 Fibonacci numbers.\n",
    "a=0\n",
    "b=1\n",
    "c=0\n",
    "s=set()\n",
    "s.add(a)\n",
    "s.add(b)\n",
    "for i in range(5):\n",
    "    c=a+b\n",
    "    a=b\n",
    "    b=c\n",
    "    s.add(a)\n",
    "print(s)"
   ]
  },
  {
   "cell_type": "code",
   "execution_count": 148,
   "id": "54817025",
   "metadata": {},
   "outputs": [
    {
     "name": "stdout",
     "output_type": "stream",
     "text": [
      "[2, 4, 6, 8, 10, 12, 14]\n"
     ]
    }
   ],
   "source": [
    "#43. Remove duplicates from a list using sets.\n",
    "original_list = [2, 4, 6, 8, 4, 10, 6, 12, 14, 8]\n",
    "s=set(original_list)\n",
    "print(list(s))"
   ]
  },
  {
   "cell_type": "code",
   "execution_count": 151,
   "id": "1d99f12a",
   "metadata": {},
   "outputs": [
    {
     "name": "stdout",
     "output_type": "stream",
     "text": [
      "\n",
      " yes \n"
     ]
    }
   ],
   "source": [
    "#44. Check if two sets have the same elements, regardless of their count.\n",
    "\n",
    "set1 = {1, 2, 3, 2, 1}\n",
    "set2 = {3, 1, 2}\n",
    "if set1==set2:\n",
    "    print(\"\\n yes \")\n",
    "else:\n",
    "    print(\"\\n No \")"
   ]
  },
  {
   "cell_type": "code",
   "execution_count": 154,
   "id": "b68c18fc",
   "metadata": {},
   "outputs": [
    {
     "name": "stdout",
     "output_type": "stream",
     "text": [
      "\n",
      " Enter the value of N 5\n",
      "\n",
      " Set  {0, 1, 4, 9, 16}\n"
     ]
    }
   ],
   "source": [
    "#45. Create a set of the first n powers of 2\n",
    "\n",
    "s=set()\n",
    "n=int(input(\"\\n Enter the value of N \"))\n",
    "for i in range(n):\n",
    "    i=i**2\n",
    "    s.add(i)\n",
    "print(\"\\n Set \",s)"
   ]
  },
  {
   "cell_type": "code",
   "execution_count": 155,
   "id": "2761e7e9",
   "metadata": {},
   "outputs": [
    {
     "name": "stdout",
     "output_type": "stream",
     "text": [
      "Common elements: [7, 9, 12]\n"
     ]
    }
   ],
   "source": [
    "#46. Find the common elements between a set and a list.\n",
    "# Step 1: Define a set and a list\n",
    "my_set = {3, 7, 9, 12, 15}\n",
    "my_list = [7, 12, 5, 9]\n",
    "\n",
    "# Step 2: Convert the list to a set for efficient comparison\n",
    "list_to_set = set(my_list)\n",
    "\n",
    "# Step 3: Initialize an empty list to store common elements\n",
    "common_elements = []\n",
    "\n",
    "# Step 4: Iterate through the elements in the set\n",
    "for element in my_set:\n",
    "    # Step 5: Check if the element is present in the converted set (list_to_set)\n",
    "    if element in list_to_set:\n",
    "        # Step 6: If the element is present in both the set and the list, add it to the common_elements list\n",
    "        common_elements.append(element)\n",
    "\n",
    "# Step 7: Print the common elements\n",
    "print(\"Common elements:\", common_elements)"
   ]
  },
  {
   "cell_type": "code",
   "execution_count": 156,
   "id": "2352a59c",
   "metadata": {},
   "outputs": [
    {
     "name": "stdout",
     "output_type": "stream",
     "text": [
      "\n",
      " Enter the value of N 5\n",
      "\n",
      " set   {1, 3, 6, 10, 15}\n"
     ]
    }
   ],
   "source": [
    "#47. Create a set of the first n triangular numbers.:\n",
    "n=int(input(\"\\n Enter the value of N \"))\n",
    "s=set()\n",
    "for i in range(1,n+1):\n",
    "    b=(i*(i+1))//2\n",
    "    s.add(b)\n",
    "print(\"\\n set  \",s)"
   ]
  },
  {
   "cell_type": "code",
   "execution_count": 158,
   "id": "04fbce7e",
   "metadata": {},
   "outputs": [
    {
     "name": "stdout",
     "output_type": "stream",
     "text": [
      "\n",
      " yes \n"
     ]
    }
   ],
   "source": [
    "#48. Check if a set contains another set as a subset.\n",
    "set1 = {1, 2, 3, 4, 5}\n",
    "set2 = {3, 4}\n",
    "if set2.issubset(set1):\n",
    "    print(\"\\n yes \")\n",
    "else:\n",
    "    print(\"\\n No \")"
   ]
  },
  {
   "cell_type": "code",
   "execution_count": 166,
   "id": "7aab88e7",
   "metadata": {},
   "outputs": [
    {
     "name": "stdout",
     "output_type": "stream",
     "text": [
      "\n",
      " enter the value of N 5\n",
      "c -1\n",
      "c 1\n",
      "c -1\n",
      "c 1\n",
      "c -1\n",
      "{0, 1}\n"
     ]
    }
   ],
   "source": [
    "#49. Create a set of alternating 1s and 0s of length n.\n",
    "s=set()\n",
    "n=int(input(\"\\n enter the value of N \"))\n",
    "a=-1\n",
    "c=0\n",
    "b=1\n",
    "for i in range(n):\n",
    "    c=a*b\n",
    "    b=c\n",
    "    print(\"c\",c)\n",
    "    if(c==1):\n",
    "        s.add(1)\n",
    "    elif(c==-1):\n",
    "        s.add(0)\n",
    "print(s)\n",
    "        "
   ]
  },
  {
   "cell_type": "code",
   "execution_count": 167,
   "id": "3f34594f",
   "metadata": {},
   "outputs": [
    {
     "name": "stdout",
     "output_type": "stream",
     "text": [
      "\n",
      " Merge of Set  {1, 2, 3, 4, 5, 6, 7}\n"
     ]
    }
   ],
   "source": [
    "#50. Merge multiple sets into one.\n",
    "set1 = {1, 2, 3}\n",
    "set2 = {3, 4, 5}\n",
    "set3 = {5, 6, 7}\n",
    "\n",
    "s=set3.union(set1,set2)\n",
    "print(\"\\n Merge of Set \",s)"
   ]
  },
  {
   "cell_type": "code",
   "execution_count": null,
   "id": "d1c185e8",
   "metadata": {},
   "outputs": [],
   "source": []
  }
 ],
 "metadata": {
  "kernelspec": {
   "display_name": "Python 3 (ipykernel)",
   "language": "python",
   "name": "python3"
  },
  "language_info": {
   "codemirror_mode": {
    "name": "ipython",
    "version": 3
   },
   "file_extension": ".py",
   "mimetype": "text/x-python",
   "name": "python",
   "nbconvert_exporter": "python",
   "pygments_lexer": "ipython3",
   "version": "3.9.12"
  }
 },
 "nbformat": 4,
 "nbformat_minor": 5
}
