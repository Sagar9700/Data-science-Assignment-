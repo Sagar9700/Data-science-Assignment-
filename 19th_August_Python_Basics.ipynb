{
  "cells": [
    {
      "cell_type": "markdown",
      "metadata": {
        "id": "6o4JJlLYdKfv"
      },
      "source": [
        "TOPIC: Python Basics Variable"
      ]
    },
    {
      "cell_type": "markdown",
      "metadata": {
        "id": "LoeNVV_sdy7G"
      },
      "source": [
        "Ques 1. Declare two variables, `x` and `y`, and assign them integer values. Swap the\n",
        "values of these variables without using any temporary variable.\n"
      ]
    },
    {
      "cell_type": "code",
      "execution_count": null,
      "metadata": {
        "colab": {
          "base_uri": "https://localhost:8080/"
        },
        "id": "cv5stYyEZiuf",
        "outputId": "87471676-351f-4b4d-eabb-651b1ded6d1f"
      },
      "outputs": [
        {
          "name": "stdout",
          "output_type": "stream",
          "text": [
            " Value of X before swapping is  10\n",
            " Value of Y before swapping is  20\n",
            " Value of X after Swapping is  20\n",
            " Value of Y after Swapping is  10\n"
          ]
        }
      ],
      "source": [
        "#Answer1\n",
        "x=10\n",
        "y=20\n",
        "print(\" Value of X before swapping is \",x)\n",
        "print(\" Value of Y before swapping is \",y)\n",
        "z=x+y\n",
        "x=z-x\n",
        "y=z-y\n",
        "print(\" Value of X after Swapping is \",x)\n",
        "print(\" Value of Y after Swapping is \",y)"
      ]
    },
    {
      "cell_type": "markdown",
      "metadata": {
        "id": "BuQnm00vdTvO"
      },
      "source": [
        "Ques 2. Create a program that calculates the area of a rectangle. Take the length and\n",
        "width as inputs from the user and store them in variables. Calculate and\n",
        "display the area."
      ]
    },
    {
      "cell_type": "code",
      "execution_count": null,
      "metadata": {
        "colab": {
          "base_uri": "https://localhost:8080/"
        },
        "id": "gHzUNhA9a4Vs",
        "outputId": "6bcd369c-e25a-4070-dc7f-7085a6f2ac9c"
      },
      "outputs": [
        {
          "name": "stdout",
          "output_type": "stream",
          "text": [
            "\n",
            " Enter the Length of Rectangle 10\n",
            "\n",
            " Enter the Breadth of Rectangle 2\n",
            "\n",
            " Area of Rectangle is  20\n"
          ]
        }
      ],
      "source": [
        "#Answer2\n",
        "l=int(input(\"\\n Enter the Length of Rectangle \"))\n",
        "b=int(input(\"\\n Enter the Breadth of Rectangle \"))\n",
        "area=l*b\n",
        "print(\"\\n Area of Rectangle is \",area)"
      ]
    },
    {
      "cell_type": "markdown",
      "metadata": {
        "id": "GXXCztJ_dZPI"
      },
      "source": [
        "Ques 3. Write a Python program that converts temperatures from Celsius to\n",
        "Fahrenheit. Take the temperature in Celsius as input, store it in a variable,\n",
        "convert it to Fahrenheit, and display the result."
      ]
    },
    {
      "cell_type": "code",
      "execution_count": null,
      "metadata": {
        "colab": {
          "base_uri": "https://localhost:8080/"
        },
        "id": "4VtxDvldbxLD",
        "outputId": "d279228a-0ca2-435c-ab37-949caab6a1d5"
      },
      "outputs": [
        {
          "name": "stdout",
          "output_type": "stream",
          "text": [
            "\n",
            " Enter the temperature in Celsius 10\n",
            "\n",
            " Temperature in Fahrenheit is  50.0\n"
          ]
        }
      ],
      "source": [
        "#Answer3\n",
        "c=int(input(\"\\n Enter the temperature in Celsius \"))\n",
        "f=c*(9/5)+32\n",
        "print(\"\\n Temperature in Fahrenheit is \",f)\n"
      ]
    },
    {
      "cell_type": "code",
      "execution_count": null,
      "metadata": {
        "id": "gXQHU8sRc2Jy"
      },
      "outputs": [],
      "source": []
    },
    {
      "cell_type": "markdown",
      "metadata": {
        "id": "jldA2dAUdfB_"
      },
      "source": [
        "TOPIC: String Based Questions"
      ]
    },
    {
      "cell_type": "markdown",
      "metadata": {
        "id": "XcFYwr2odno-"
      },
      "source": [
        "\n",
        "Ques 1. Write a Python program that takes a string as input and prints the length of\n",
        "the string."
      ]
    },
    {
      "cell_type": "code",
      "execution_count": null,
      "metadata": {
        "colab": {
          "base_uri": "https://localhost:8080/"
        },
        "id": "Y0jX0z7SdfsV",
        "outputId": "ec18e5cb-13b5-4084-f824-353e9edf16b2"
      },
      "outputs": [
        {
          "name": "stdout",
          "output_type": "stream",
          "text": [
            "\n",
            " Enter the string to calculate length of it Sagar Agrawal\n",
            "\n",
            " Length of String is  13\n"
          ]
        }
      ],
      "source": [
        "#Answer1\n",
        "s=input(\"\\n Enter the string to calculate length of it \")\n",
        "l=len(s)\n",
        "print(\"\\n Length of String is \",l)"
      ]
    },
    {
      "cell_type": "markdown",
      "metadata": {
        "id": "A4fUbtCjeaXO"
      },
      "source": [
        "Ques 2. Create a program that takes a sentence from the user and counts the number\n",
        "of vowels (a, e, i, o, u) in the string."
      ]
    },
    {
      "cell_type": "code",
      "execution_count": null,
      "metadata": {
        "colab": {
          "base_uri": "https://localhost:8080/"
        },
        "id": "UmjeEMDteeN2",
        "outputId": "5307c2e0-3c50-4f90-c077-c156eaec1c5e"
      },
      "outputs": [
        {
          "name": "stdout",
          "output_type": "stream",
          "text": [
            "\n",
            " Enter the String he is a good boy \n",
            "\n",
            " vowel is  e\n",
            "\n",
            " vowel is  i\n",
            "\n",
            " vowel is  a\n",
            "\n",
            " vowel is  o\n",
            "\n",
            " vowel is  o\n",
            "\n",
            " vowel is  o\n",
            "\n",
            " Number of Vowels in String is  6\n"
          ]
        }
      ],
      "source": [
        "#Answer2\n",
        "s=input(\"\\n Enter the String \")\n",
        "c=0\n",
        "for i in range (len(s)):\n",
        "  if s[i]=='a' or s[i]=='e' or s[i]=='i' or s[i]=='o' or s[i]=='u':\n",
        "    c=c+1\n",
        "    print(\"\\n vowel is \",s[i])\n",
        "print(\"\\n Number of Vowels in String is \",c)"
      ]
    },
    {
      "cell_type": "code",
      "execution_count": null,
      "metadata": {
        "id": "vIqd_txMfaFL"
      },
      "outputs": [],
      "source": []
    },
    {
      "cell_type": "markdown",
      "metadata": {
        "id": "PjICo55Chv07"
      },
      "source": [
        "Ques 3. Given a string, reverse the order of characters using string slicing and print\n",
        "the reversed string."
      ]
    },
    {
      "cell_type": "code",
      "execution_count": null,
      "metadata": {
        "colab": {
          "base_uri": "https://localhost:8080/"
        },
        "id": "N0piGVdXhzhm",
        "outputId": "9143340b-44d6-433b-f420-1dd8e8a09d53"
      },
      "outputs": [
        {
          "name": "stdout",
          "output_type": "stream",
          "text": [
            "lawargA ragaS\n"
          ]
        }
      ],
      "source": [
        "#Answer3\n",
        "s=\"Sagar Agrawal\"\n",
        "rev=s[::-1]\n",
        "print(rev)"
      ]
    },
    {
      "cell_type": "markdown",
      "metadata": {
        "id": "YJbKMmaWlIKy"
      },
      "source": [
        "Ques 4. Write a program that takes a string as input and checks if it is a palindrome\n",
        "(reads the same forwards and backwards)."
      ]
    },
    {
      "cell_type": "code",
      "execution_count": null,
      "metadata": {
        "colab": {
          "base_uri": "https://localhost:8080/"
        },
        "id": "GD9tzGgzkPvV",
        "outputId": "4cc12e92-033e-4d3c-dcc5-1ac8edc5f238"
      },
      "outputs": [
        {
          "name": "stdout",
          "output_type": "stream",
          "text": [
            "\n",
            " Enter the String Naman\n",
            "\n",
            " Entered String is  Naman\n",
            "\n",
            " Checking Palindrome \n",
            "\n",
            " rev  naman\n",
            "\n",
            " String naman is Palindrome \n"
          ]
        }
      ],
      "source": [
        "#Answer4\n",
        "s=input(\"\\n Enter the String \")\n",
        "print(\"\\n Entered String is \",s)\n",
        "print(\"\\n Checking Palindrome \")\n",
        "s=s.lower()\n",
        "rev=s[::-1]\n",
        "#print(\"\\n rev \",rev)\n",
        "if(rev==s):\n",
        "  print(\"\\n String \" +s+ \" is Palindrome \")\n",
        "else:\n",
        "  print(\"\\n String \"+s+\" is not Palindrome \")"
      ]
    },
    {
      "cell_type": "markdown",
      "source": [
        "Ques 5. \\Create a program that takes a string as input and removes all the spaces from\n",
        "it. Print the modified string without spaces."
      ],
      "metadata": {
        "id": "WvoD1AoEa54y"
      }
    },
    {
      "cell_type": "code",
      "source": [
        "#Answer5\n",
        "s=input(\"\\n Enter the String \")\n",
        "s2=s.replace(\" \",\"\")\n",
        "print(\"\\n String without Space \",s2)\n",
        "\n"
      ],
      "metadata": {
        "colab": {
          "base_uri": "https://localhost:8080/"
        },
        "id": "-HZ6sLxna82K",
        "outputId": "452d1ead-8e05-456d-9314-9b0830879b75"
      },
      "execution_count": 13,
      "outputs": [
        {
          "output_type": "stream",
          "name": "stdout",
          "text": [
            "\n",
            " Enter the String Sagar Agrawal is a good boy\n",
            "\n",
            " String without Space  SagarAgrawalisagoodboy\n"
          ]
        }
      ]
    },
    {
      "cell_type": "code",
      "source": [],
      "metadata": {
        "id": "X1arXfP9cIUM"
      },
      "execution_count": null,
      "outputs": []
    }
  ],
  "metadata": {
    "colab": {
      "provenance": []
    },
    "kernelspec": {
      "display_name": "Python 3",
      "name": "python3"
    },
    "language_info": {
      "name": "python"
    }
  },
  "nbformat": 4,
  "nbformat_minor": 0
}